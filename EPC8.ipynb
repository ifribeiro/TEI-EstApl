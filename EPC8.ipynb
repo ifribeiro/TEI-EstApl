{
 "cells": [
  {
   "cell_type": "markdown",
   "metadata": {},
   "source": [
    "**Nome:** Iran Freitas Ribeiro\n",
    "\n",
    "**Matrícula:** 20212021241588\n",
    "\n",
    "**Disciplina:** TEI - Estatística Aplicada\n",
    "\n",
    "**Professor:** Celso José Munaro"
   ]
  },
  {
   "cell_type": "code",
   "execution_count": 43,
   "metadata": {},
   "outputs": [],
   "source": [
    "import numpy as np\n",
    "import pandas as pd\n",
    "from scipy.stats import norm, ttest_rel, chi2, t, ttest_ind\n",
    "import matplotlib.pyplot as plt"
   ]
  },
  {
   "cell_type": "code",
   "execution_count": 17,
   "metadata": {},
   "outputs": [],
   "source": [
    "def CI(mu1, mu2, var1, var2, n1, n2, alpha=0.05):\n",
    "    \"\"\"\n",
    "    Calcula o intervalo de confiança de uma distribuição normal\n",
    "    \"\"\"\n",
    "    zalpha_2  = norm.ppf(alpha/2)\n",
    "    sqrt_ = (var1/n1) + (var2/n2)\n",
    "    ci_d = (mu1-mu2) - zalpha_2*np.sqrt(sqrt_) # limite superior    \n",
    "    ci_l = (mu1-mu2) + zalpha_2*np.sqrt(sqrt_) # limite inferior\n",
    "    return ci_l, ci_d\n",
    "\n",
    "def get_XY(f, v=1):\n",
    "    np.random.seed(42)\n",
    "    N = np.random.randint(1,11)\n",
    "    sx=0.1*N\n",
    "    sy=v*sx\n",
    "    mx = N+f*0.1*N\n",
    "    my = N\n",
    "    Xrand = np.random.normal(loc=mx, scale=np.sqrt(sx), size=1000)\n",
    "    Yrand = np.random.normal(loc=my, scale=np.sqrt(sy), size=1000)\n",
    "    return Xrand, mx, sx, Yrand, my, sy\n",
    "\n",
    "def test_estatistico(m1, m2, delta0, s1, s2, n1, n2):\n",
    "    num = m1 - m2 - delta0\n",
    "    denom = np.sqrt((s1/n1) + (s2/n2))\n",
    "    return num/denom"
   ]
  },
  {
   "cell_type": "markdown",
   "metadata": {},
   "source": [
    "## 1"
   ]
  },
  {
   "cell_type": "markdown",
   "metadata": {},
   "source": [
    "Caso I: Se as duas médias forem iguais, deve ser centrada em zero. \n",
    "Caso II: Se forem diferentes, vão ser deferentes de 0.\n",
    "\n",
    "Para os dois casos plotar a distribuição com o intervalo de confiança.\n",
    "\n",
    "Ver [link](https://www.bmj.com/about-bmj/resources-readers/publications/statistics-square-one/5-differences-between-means-type-i-an) com equação para calcular o desvio padrão da média"
   ]
  },
  {
   "cell_type": "code",
   "execution_count": 60,
   "metadata": {},
   "outputs": [],
   "source": [
    "def testar_f(f=0.1, alpha=0.05):\n",
    "    r = {}\n",
    "    palpha = norm.ppf(1-alpha)\n",
    "    Xf, mx, sx, Yf, my, sy = get_XY(f)\n",
    "    amostraX = np.random.choice(Xf, size=20)\n",
    "    amostraY = np.random.choice(Yf, size=20)\n",
    "    m1, m2 = [np.mean(amostraX), np.mean(amostraY)]\n",
    "    s1, s2 = [amostraX.var(ddof=1), amostraY.var(ddof=1)]\n",
    "    z0 = test_estatistico(m1, m2, 0, s1=s1, s2=s2, n1=20, n2=20)\n",
    "    if (z0 > palpha):\n",
    "        print (\"Rejeitar hipótese nula\")\n",
    "    else:\n",
    "        print (\"Não rejeitar hipótese nula\")\n",
    "    pv = pvalue(z0)\n",
    "    r['x'], r['y'] = [amostraX,amostraY]\n",
    "    r['mx'], r['my'] = [mx, my]\n",
    "    r['sx'], r['sy'] = [sx, sy]\n",
    "    r['z0'] = z0\n",
    "    r['pvalue'] = pv\n",
    "    return r, z0, pv"
   ]
  },
  {
   "cell_type": "code",
   "execution_count": 69,
   "metadata": {},
   "outputs": [
    {
     "name": "stdout",
     "output_type": "stream",
     "text": [
      "Rejeitar hipótese nula\n",
      "0.00016755438919402454\n"
     ]
    }
   ],
   "source": [
    "r, test, pv = testar_f(f=2)\n",
    "print (pv)"
   ]
  },
  {
   "cell_type": "code",
   "execution_count": 68,
   "metadata": {},
   "outputs": [
    {
     "name": "stdout",
     "output_type": "stream",
     "text": [
      "Não rejeitar hipótese nula\n",
      "0.8313012401074286\n"
     ]
    }
   ],
   "source": [
    "nr, n_test, n_pv = testar_f(f=0.3)\n",
    "print (pv)"
   ]
  },
  {
   "cell_type": "code",
   "execution_count": 72,
   "metadata": {},
   "outputs": [],
   "source": [
    "def std_diff(std1, std2, n1, n2):\n",
    "    return np.sqrt((std1**2/n1) + (std2**2/n2))\n",
    "\n",
    "def erro_I(m1, m2, std1, std2, n1=20, n2=20):\n",
    "    \"\"\"\n",
    "    Diferença entre as médias/pelo desvio padrão\n",
    "    \n",
    "    \"\"\"\n",
    "    diff = std_diff(std1, std2, n1, n2)\n",
    "    z = (m1 - m2)/diff\n",
    "    e = norm.cdf(z)*2\n",
    "    return e\n",
    "\n",
    "def erro_II(alpha, m1, m2, s1, s2, n1, n2, delta0):\n",
    "    delta = m1-m2   \n",
    "    z_a2 = norm.ppf(1-(alpha/2))\n",
    "    denom = np.sqrt((s1/n1) + (s2/n2))\n",
    "    c1 = (z_a2 - (delta-delta0)/denom)\n",
    "    c2 = (-z_a2 - (delta-delta0)/denom)\n",
    "    e = norm.cdf(c1) - norm.cdf(c2)\n",
    "    return e\n",
    "\n",
    "def pvalue(z0):\n",
    "    return 1 - norm.cdf(z0)"
   ]
  },
  {
   "cell_type": "code",
   "execution_count": 50,
   "metadata": {},
   "outputs": [
    {
     "data": {
      "text/plain": [
       "1.3636363636363635"
      ]
     },
     "execution_count": 50,
     "metadata": {},
     "output_type": "execute_result"
    }
   ],
   "source": [
    "0.15/0.11"
   ]
  },
  {
   "cell_type": "code",
   "execution_count": 15,
   "metadata": {},
   "outputs": [],
   "source": [
    "# rejeita h0\n",
    "# s_x (desvio)\n",
    "eI_x, ci_rx, s_x = erro_I(rejeitar)\n",
    "eI_y, ci_ry, s_y = erro_I(rejeitar, sn='y')\n",
    "# não rejeita h0\n",
    "eI_nx, ci_nrx, s_nx = erro_I(nrejeitar)\n",
    "eI_ny, ci_nry, s_ny = erro_I(nrejeitar, sn='y')"
   ]
  },
  {
   "cell_type": "code",
   "execution_count": 20,
   "metadata": {},
   "outputs": [
    {
     "data": {
      "text/plain": [
       "(6.706421363818421, 7.167549563167898)"
      ]
     },
     "execution_count": 20,
     "metadata": {},
     "output_type": "execute_result"
    }
   ],
   "source": [
    "nrejeitar['x'].mean(),nrejeitar['y'].mean()"
   ]
  },
  {
   "cell_type": "code",
   "execution_count": 23,
   "metadata": {},
   "outputs": [],
   "source": [
    "m1, m2 = [nrejeitar['x'].mean(), nrejeitar['y'].mean()]\n",
    "s1, s2 = [np.sqrt(nrejeitar['sx']), np.sqrt(nrejeitar['sy'])]\n",
    "eII_nr = erro_II(0.05,m1,m2,s1,s2, 20, 20, 0)"
   ]
  },
  {
   "cell_type": "code",
   "execution_count": 26,
   "metadata": {},
   "outputs": [
    {
     "data": {
      "text/plain": [
       "0.005867741715332553"
      ]
     },
     "execution_count": 26,
     "metadata": {},
     "output_type": "execute_result"
    }
   ],
   "source": [
    "pvalue(2.52)"
   ]
  },
  {
   "cell_type": "code",
   "execution_count": 165,
   "metadata": {},
   "outputs": [
    {
     "name": "stdout",
     "output_type": "stream",
     "text": [
      "0.0000\n"
     ]
    }
   ],
   "source": [
    "print (\"{:.4f}\".format(eI_x))"
   ]
  },
  {
   "cell_type": "code",
   "execution_count": 30,
   "metadata": {},
   "outputs": [],
   "source": [
    "def get_pdfs(d, sx, sy, n, b=[0,0]):\n",
    "    ab_x = [d['mx']-np.sqrt(d['sx']), d['mx']+np.sqrt(d['sx'])]\n",
    "    ab_y = [d['my']-np.sqrt(d['sy']), d['my']+np.sqrt(d['sy'])]\n",
    "    Xis = np.linspace(ab_x[0]-b[0], ab_x[1], 500)\n",
    "    Yis = np.linspace(ab_y[0]-b[1], ab_y[1], 500)\n",
    "    pdfx = [norm.pdf(xi, loc=d['mx'], scale=sx) for xi in Xis]\n",
    "    pdfy = [norm.pdf(yi, loc=d['my'], scale=sy) for yi in Yis]\n",
    "    return Xis, Yis, pdfx, pdfy"
   ]
  },
  {
   "cell_type": "code",
   "execution_count": 31,
   "metadata": {},
   "outputs": [],
   "source": [
    "Xis_r, Yis_r, pdfx_r, pdfy_r = get_pdfs(rejeitar, s_x, s_y, 20, b=[0,0])\n",
    "Xis_nr, Yis_nr, pdfx_nr, pdfy_nr = get_pdfs(nrejeitar, s_nx, s_ny, 20, b=[0,0])"
   ]
  },
  {
   "cell_type": "markdown",
   "metadata": {},
   "source": [
    "Quando as médias são iguais, ou seja, a diferença entre elas é $0$, o intervalo de confiança deve ser normalmente distribuído com média $0$."
   ]
  },
  {
   "cell_type": "code",
   "execution_count": 75,
   "metadata": {},
   "outputs": [],
   "source": [
    "ci_nrx = CI(nr['x'].mean(), \n",
    "                nr['y'].mean(),\n",
    "                nr['x'].var(ddof=1),\n",
    "                nr['y'].var(ddof=1),\n",
    "                20,\n",
    "                20)"
   ]
  },
  {
   "cell_type": "code",
   "execution_count": 74,
   "metadata": {},
   "outputs": [],
   "source": [
    "Xis = np.linspace(-1,1,100)\n",
    "stdif = std_diff(nr['x'].std(),nr['y'].std(),20, 20)\n",
    "pdf_nrj = [norm.pdf(xi, scale=stdif) for xi in Xis]"
   ]
  },
  {
   "cell_type": "code",
   "execution_count": 77,
   "metadata": {},
   "outputs": [
    {
     "data": {
      "image/png": "[encoded data removed]",
      "text/plain": [
       "<Figure size 720x360 with 1 Axes>"
      ]
     },
     "metadata": {
      "needs_background": "light"
     },
     "output_type": "display_data"
    }
   ],
   "source": [
    "fig, ax = plt.subplots(figsize=(10,5))\n",
    "ax.plot(Xis, pdf_nrj)\n",
    "\n",
    "lim_inf, lim_sup = [np.min(pdf_nrj), np.max(pdf_nrj)]\n",
    "one_x12, one_y12 = [ci_nrx[0],ci_nrx[0]],[lim_inf,lim_sup]\n",
    "two_x12, two_y12 = [ci_nrx[1],ci_nrx[1]],[lim_inf,lim_sup]\n",
    "ax.plot(one_x12, one_y12, two_x12, two_y12, color='red');"
   ]
  },
  {
   "cell_type": "code",
   "execution_count": 78,
   "metadata": {},
   "outputs": [
    {
     "data": {
      "text/plain": [
       "(0.42579776668822733, 1.4519458346128231)"
      ]
     },
     "execution_count": 78,
     "metadata": {},
     "output_type": "execute_result"
    }
   ],
   "source": [
    "ci_rx = CI(r['x'].mean(), \n",
    "                r['y'].mean(),\n",
    "                r['x'].var(ddof=1),\n",
    "                r['y'].var(ddof=1),\n",
    "                20,\n",
    "                20)\n",
    "ci_rx"
   ]
  },
  {
   "cell_type": "code",
   "execution_count": 114,
   "metadata": {},
   "outputs": [],
   "source": [
    "stdif_r = std_diff(r['x'].std(),r['y'].std(),20, 20)\n",
    "diff_mur = r['x'].mean() - r['y'].mean()\n",
    "Xis_r = np.linspace(0, 2, 100)\n",
    "Xis_rx = np.linspace(-0.5, 0.5, 100)\n",
    "pdfx_r = [norm.pdf(xi, loc=diff_mur, scale=stdif_r) for xi in Xis_r]\n",
    "pdfx2_r = [norm.pdf(xi, loc=ci_rx[0], scale=stdif_r) for xi in Xis_rx]"
   ]
  },
  {
   "cell_type": "code",
   "execution_count": 113,
   "metadata": {},
   "outputs": [
    {
     "data": {
      "text/plain": [
       "0.9388718006505252"
      ]
     },
     "execution_count": 113,
     "metadata": {},
     "output_type": "execute_result"
    }
   ],
   "source": [
    "diff_mur"
   ]
  },
  {
   "cell_type": "code",
   "execution_count": 115,
   "metadata": {},
   "outputs": [
    {
     "data": {
      "text/plain": [
       "(-0.6712140719381463, -0.3549339959864495)"
      ]
     },
     "execution_count": 115,
     "metadata": {},
     "output_type": "execute_result"
    }
   ],
   "source": [
    "ci_rx2 = CI(0.42579776668822733, diff_mur, stdif_r**2, stdif_r**2, 20, 20)\n",
    "ci_rx2"
   ]
  },
  {
   "cell_type": "code",
   "execution_count": 111,
   "metadata": {},
   "outputs": [
    {
     "data": {
      "text/plain": [
       "(-0.6712140719381463, -0.3549339959864495)"
      ]
     },
     "execution_count": 111,
     "metadata": {},
     "output_type": "execute_result"
    }
   ],
   "source": [
    "ci_rx2"
   ]
  },
  {
   "cell_type": "code",
   "execution_count": 117,
   "metadata": {},
   "outputs": [
    {
     "data": {
      "image/png": "[encoded data removed]",
      "text/plain": [
       "<Figure size 432x288 with 1 Axes>"
      ]
     },
     "metadata": {
      "needs_background": "light"
     },
     "output_type": "display_data"
    }
   ],
   "source": [
    "# TODO: Fazer dist da direita usando as duas distribuições que são iguais.\n",
    "fig, ax = plt.subplots()\n",
    "ax.plot(Xis_r, pdfx_r,)\n",
    "ax.plot(Xis_rx, pdfx2_r,)\n",
    "lim_inf, lim_sup = [np.min(pdfx_r), np.max(pdfx_r)]\n",
    "one_x12, one_y12 = [ci_rx2[0],ci_rx2[0]],[lim_inf,lim_sup]\n",
    "two_x12, two_y12 = [ci_rx2[1],ci_rx2[1]],[lim_inf,lim_sup]\n",
    "ax.plot(one_x12, one_y12, two_x12, two_y12, color='red');"
   ]
  },
  {
   "cell_type": "markdown",
   "metadata": {},
   "source": [
    "## 2"
   ]
  },
  {
   "cell_type": "code",
   "execution_count": 33,
   "metadata": {},
   "outputs": [],
   "source": [
    "import pandas as pd"
   ]
  },
  {
   "cell_type": "code",
   "execution_count": 34,
   "metadata": {},
   "outputs": [
    {
     "data": {
      "text/html": [
       "<div>\n",
       "<style scoped>\n",
       "    .dataframe tbody tr th:only-of-type {\n",
       "        vertical-align: middle;\n",
       "    }\n",
       "\n",
       "    .dataframe tbody tr th {\n",
       "        vertical-align: top;\n",
       "    }\n",
       "\n",
       "    .dataframe thead th {\n",
       "        text-align: right;\n",
       "    }\n",
       "</style>\n",
       "<table border=\"1\" class=\"dataframe\">\n",
       "  <thead>\n",
       "    <tr style=\"text-align: right;\">\n",
       "      <th></th>\n",
       "      <th>subject</th>\n",
       "      <th>before</th>\n",
       "      <th>after</th>\n",
       "    </tr>\n",
       "  </thead>\n",
       "  <tbody>\n",
       "    <tr>\n",
       "      <th>0</th>\n",
       "      <td>1</td>\n",
       "      <td>265</td>\n",
       "      <td>229</td>\n",
       "    </tr>\n",
       "    <tr>\n",
       "      <th>1</th>\n",
       "      <td>2</td>\n",
       "      <td>240</td>\n",
       "      <td>231</td>\n",
       "    </tr>\n",
       "    <tr>\n",
       "      <th>2</th>\n",
       "      <td>3</td>\n",
       "      <td>258</td>\n",
       "      <td>227</td>\n",
       "    </tr>\n",
       "    <tr>\n",
       "      <th>3</th>\n",
       "      <td>4</td>\n",
       "      <td>295</td>\n",
       "      <td>240</td>\n",
       "    </tr>\n",
       "    <tr>\n",
       "      <th>4</th>\n",
       "      <td>5</td>\n",
       "      <td>251</td>\n",
       "      <td>238</td>\n",
       "    </tr>\n",
       "    <tr>\n",
       "      <th>5</th>\n",
       "      <td>6</td>\n",
       "      <td>245</td>\n",
       "      <td>241</td>\n",
       "    </tr>\n",
       "    <tr>\n",
       "      <th>6</th>\n",
       "      <td>7</td>\n",
       "      <td>287</td>\n",
       "      <td>234</td>\n",
       "    </tr>\n",
       "    <tr>\n",
       "      <th>7</th>\n",
       "      <td>8</td>\n",
       "      <td>314</td>\n",
       "      <td>256</td>\n",
       "    </tr>\n",
       "    <tr>\n",
       "      <th>8</th>\n",
       "      <td>9</td>\n",
       "      <td>260</td>\n",
       "      <td>247</td>\n",
       "    </tr>\n",
       "    <tr>\n",
       "      <th>9</th>\n",
       "      <td>10</td>\n",
       "      <td>279</td>\n",
       "      <td>239</td>\n",
       "    </tr>\n",
       "    <tr>\n",
       "      <th>10</th>\n",
       "      <td>11</td>\n",
       "      <td>283</td>\n",
       "      <td>246</td>\n",
       "    </tr>\n",
       "    <tr>\n",
       "      <th>11</th>\n",
       "      <td>12</td>\n",
       "      <td>240</td>\n",
       "      <td>218</td>\n",
       "    </tr>\n",
       "    <tr>\n",
       "      <th>12</th>\n",
       "      <td>13</td>\n",
       "      <td>238</td>\n",
       "      <td>219</td>\n",
       "    </tr>\n",
       "    <tr>\n",
       "      <th>13</th>\n",
       "      <td>14</td>\n",
       "      <td>225</td>\n",
       "      <td>226</td>\n",
       "    </tr>\n",
       "    <tr>\n",
       "      <th>14</th>\n",
       "      <td>15</td>\n",
       "      <td>247</td>\n",
       "      <td>233</td>\n",
       "    </tr>\n",
       "  </tbody>\n",
       "</table>\n",
       "</div>"
      ],
      "text/plain": [
       "    subject  before  after\n",
       "0         1     265    229\n",
       "1         2     240    231\n",
       "2         3     258    227\n",
       "3         4     295    240\n",
       "4         5     251    238\n",
       "5         6     245    241\n",
       "6         7     287    234\n",
       "7         8     314    256\n",
       "8         9     260    247\n",
       "9        10     279    239\n",
       "10       11     283    246\n",
       "11       12     240    218\n",
       "12       13     238    219\n",
       "13       14     225    226\n",
       "14       15     247    233"
      ]
     },
     "execution_count": 34,
     "metadata": {},
     "output_type": "execute_result"
    }
   ],
   "source": [
    "subject = np.arange(1,16,1)\n",
    "before = [265, 240, 258, 295, 251, 245, 287, 314, 260, 279, 283, 240, 238, 225, 247]\n",
    "after  = [229, 231, 227, 240, 238, 241, 234, 256, 247, 239, 246, 218, 219, 226, 233]\n",
    "df = pd.DataFrame({'subject': subject, 'before': before, 'after':after})\n",
    "df"
   ]
  },
  {
   "cell_type": "markdown",
   "metadata": {},
   "source": [
    "Para solução da questão temos duas hipóteses:\n",
    "\n",
    "$H_0$: low-fat diet and aerobic exercise não reduzem o nível de colesterol no sangue (com um nível de significância $\\alpha=0.05$)\n",
    "\n",
    "$H_1$: low-fat diet and aerobic exercise reduzem o nível de colesterol no sangue"
   ]
  },
  {
   "cell_type": "code",
   "execution_count": 37,
   "metadata": {},
   "outputs": [],
   "source": [
    "res = ttest_rel(df['before'], df['after'] )"
   ]
  },
  {
   "cell_type": "code",
   "execution_count": 49,
   "metadata": {},
   "outputs": [
    {
     "data": {
      "text/plain": [
       "0.0001"
      ]
     },
     "execution_count": 49,
     "metadata": {},
     "output_type": "execute_result"
    }
   ],
   "source": [
    "res.pvalue.round(4)"
   ]
  },
  {
   "cell_type": "markdown",
   "metadata": {},
   "source": [
    "Como o $p$-value ($0.0001$) é menor que $\\alpha$, não conseguimos rejeitar a hipótese nula de que as médias são iguais, logo, podemos afirmar que dietas com baixa calorias e exercícios reduzem o nível de colesterol no sangue."
   ]
  },
  {
   "cell_type": "markdown",
   "metadata": {},
   "source": [
    "## 3"
   ]
  },
  {
   "cell_type": "code",
   "execution_count": 26,
   "metadata": {},
   "outputs": [],
   "source": [
    "def test_estatistico_var(n, s2, s2_0):\n",
    "    x_0 = ((n-1)*s2)/s2_0\n",
    "    return x_0\n",
    "def pvalue_var(t_v, n, mu, s):\n",
    "    return 1 - chi2.cdf(t_v, df=(n-1), loc=mu, scale=s)"
   ]
  },
  {
   "cell_type": "markdown",
   "metadata": {},
   "source": [
    "\n",
    "1. O parâmetro de interesse é a variância $\\sigma^2$\n",
    "2. $H_0$: $\\sigma_{x}^2 = \\sigma_{y}^2$\n",
    "3. $H_1$: $\\sigma_{x}^2 \\neq \\sigma_{y}^2$\n",
    "4. $\\alpha=0.05$\n",
    "5. O teste estatístico é definido pela função `x_0 = teste_estatistico_var()`\n",
    "6. Rejeitamos $H_0$ se `x_0` $> \\chi_{0.05,19}^2 = 30.14$ \n",
    "7. Calculos:"
   ]
  },
  {
   "cell_type": "code",
   "execution_count": 3,
   "metadata": {},
   "outputs": [],
   "source": [
    "# rejeita a hipotese nula\n",
    "def dict_variaveis(v):\n",
    "    var_rej = {}\n",
    "    Xv, mx_v, sx_v, Yv, my_v, sy_v = get_XY(f=1.26, v=v)\n",
    "    amostraXv = np.random.choice(Xv, size=20)\n",
    "    amostraYv = np.random.choice(Yv, size=20)\n",
    "    x_0 = test_estatistico_var(20,sx_v,sy_v)\n",
    "    var_rej['Xv'], var_rej['Yv'] = [Xv, Yv]\n",
    "    var_rej['x'], var_rej['y'] = [amostraXv, amostraYv]\n",
    "    var_rej['sx'],var_rej['sy'] = [sx_v, sy_v]\n",
    "    var_rej['mx'],var_rej['my'] = [mx_v, my_v]\n",
    "    var_rej['x_0'] = x_0\n",
    "    return var_rej"
   ]
  },
  {
   "cell_type": "code",
   "execution_count": 4,
   "metadata": {},
   "outputs": [],
   "source": [
    "def CI_Var(n, s2, alpha=0.05):\n",
    "    \"\"\"\n",
    "    Calcula o intervalo de confiança da variância\n",
    "    \"\"\"\n",
    "    # percentage point da distribuição qui2 com n-1 graus de liberdade\n",
    "    x2_right = chi2.ppf(alpha/2, df=(n-1))\n",
    "    x2_left = chi2.ppf(1-(alpha/2), df=(n-1))\n",
    "    # limite inferior\n",
    "    ci_l = ((n-1)*s2)/x2_left\n",
    "    # limite superior\n",
    "    ci_r = ((n-1)*s2)/x2_right\n",
    "    return ci_l, ci_r\n",
    "\n",
    "def erro_I_var(d, sn='x', n=20):\n",
    "    s2 = d['s{}'.format(sn)]\n",
    "    ci_ = CI_Var(n,s2)\n",
    "    z1x = chi2.cdf(0)\n",
    "    e = norm.cdf(z1x)\n",
    "    return e, ci_"
   ]
  },
  {
   "cell_type": "code",
   "execution_count": 9,
   "metadata": {},
   "outputs": [
    {
     "data": {
      "text/plain": [
       "0.0"
      ]
     },
     "execution_count": 9,
     "metadata": {},
     "output_type": "execute_result"
    }
   ],
   "source": [
    "chi2.cdf(x=1, df=19, loc=7, )"
   ]
  },
  {
   "cell_type": "code",
   "execution_count": 21,
   "metadata": {},
   "outputs": [
    {
     "data": {
      "text/plain": [
       "38.0"
      ]
     },
     "execution_count": 21,
     "metadata": {},
     "output_type": "execute_result"
    }
   ],
   "source": [
    "rejeitar = dict_variaveis(0.5)\n",
    "rejeitar['x_0']"
   ]
  },
  {
   "cell_type": "code",
   "execution_count": 13,
   "metadata": {},
   "outputs": [
    {
     "data": {
      "text/plain": [
       "21.111111111111107"
      ]
     },
     "execution_count": 13,
     "metadata": {},
     "output_type": "execute_result"
    }
   ],
   "source": [
    "nrejeitar = dict_variaveis(0.9)\n",
    "nrejeitar['x_0']"
   ]
  },
  {
   "cell_type": "code",
   "execution_count": 29,
   "metadata": {},
   "outputs": [],
   "source": [
    "max = nrejeitar['Xv'].max()\n",
    "muX = nrejeitar['x'].mean()\n",
    "muY = nrejeitar['my']\n",
    "sx = np.sqrt(nrejeitar['sx'])\n",
    "sy = np.sqrt(nrejeitar['sy'])\n",
    "Xis_chi2 = np.linspace(0, 11, 100)\n",
    "pdf_nrjc2X = [chi2.pdf(xi, df=19, loc=muX, scale=sx) for xi in Xis_chi2]"
   ]
  },
  {
   "cell_type": "code",
   "execution_count": 45,
   "metadata": {},
   "outputs": [],
   "source": [
    "# intervalo de confiança quando n é possível rejeitar\n",
    "ci_var_rj = CI_Var(20, np.sqrt(sx))"
   ]
  },
  {
   "cell_type": "code",
   "execution_count": 49,
   "metadata": {},
   "outputs": [
    {
     "data": {
      "text/plain": [
       "0.0"
      ]
     },
     "execution_count": 49,
     "metadata": {},
     "output_type": "execute_result"
    }
   ],
   "source": [
    "chi2.cdf(ci_var_rj[0], df=19).round(2)"
   ]
  },
  {
   "cell_type": "code",
   "execution_count": 30,
   "metadata": {},
   "outputs": [
    {
     "data": {
      "image/png": "[encoded data removed]",
      "text/plain": [
       "<Figure size 432x288 with 1 Axes>"
      ]
     },
     "metadata": {
      "needs_background": "light"
     },
     "output_type": "display_data"
    }
   ],
   "source": [
    "fig, ax = plt.subplots()\n",
    "ax.plot(Xis_chi2, pdf_nrjc2X)\n",
    "plt.title(\"Figura X - quando h0 não é rejeitada\");"
   ]
  },
  {
   "cell_type": "code",
   "execution_count": 22,
   "metadata": {},
   "outputs": [],
   "source": [
    "muX = rejeitar['x'].mean()\n",
    "muY = rejeitar['my']\n",
    "sx = np.sqrt(rejeitar['sx'])\n",
    "sy = np.sqrt(rejeitar['sy'])\n",
    "max_x = int(rejeitar['Xv'].max())\n",
    "Xis_chi2 = np.linspace(0, max_x, 100)\n",
    "pdf_nrjc2X = [chi2.pdf(xi, df=19, loc=muX, scale=sx) for xi in Xis_chi2]\n",
    "pdf_nrjc2Y = [chi2.pdf(xi, df=19, loc=muY, scale=sy) for xi in Xis_chi2]"
   ]
  },
  {
   "cell_type": "code",
   "execution_count": 27,
   "metadata": {},
   "outputs": [
    {
     "data": {
      "text/plain": [
       "0.009561155324051773"
      ]
     },
     "execution_count": 27,
     "metadata": {},
     "output_type": "execute_result"
    }
   ],
   "source": [
    "pvalue_var(rejeitar['x_0'],n=20, mu=muX, s=sx)"
   ]
  },
  {
   "cell_type": "code",
   "execution_count": 28,
   "metadata": {},
   "outputs": [
    {
     "data": {
      "image/png": "[encoded data removed]",
      "text/plain": [
       "<Figure size 432x288 with 1 Axes>"
      ]
     },
     "metadata": {
      "needs_background": "light"
     },
     "output_type": "display_data"
    }
   ],
   "source": [
    "fig, ax = plt.subplots()\n",
    "ax.plot(Xis_chi2, pdf_nrjc2X)\n",
    "ax.plot(Xis_chi2, pdf_nrjc2Y)\n",
    "plt.title(\"Figura X - quando h0 é rejeitada\");"
   ]
  },
  {
   "cell_type": "markdown",
   "metadata": {},
   "source": [
    "## 4\n",
    "\n",
    "[Ver](https://stats.stackexchange.com/questions/475289/confidence-interval-for-2-sample-t-test-with-scipy)"
   ]
  },
  {
   "cell_type": "code",
   "execution_count": 2,
   "metadata": {},
   "outputs": [],
   "source": [
    "np.random.seed(42) # para fins de reprodutibilidade\n",
    "N = np.random.randint(1, 11)\n",
    "sigma = np.sqrt(0.05*N)\n",
    "X_4 = np.random.normal(loc=N, scale=sigma, size=1000)\n",
    "# x(k+500)=x(k+500)+0.3*N*k/500\n",
    "for k in range(0, 500, 1):\n",
    "    X_4[k+500] = X_4[k+500] + 0.3*N*(k/500)"
   ]
  },
  {
   "cell_type": "code",
   "execution_count": 3,
   "metadata": {},
   "outputs": [
    {
     "data": {
      "image/png": "[encoded data removed]",
      "text/plain": [
       "<Figure size 432x288 with 1 Axes>"
      ]
     },
     "metadata": {
      "needs_background": "light"
     },
     "output_type": "display_data"
    }
   ],
   "source": [
    "fig, ax = plt.subplots()\n",
    "ax.plot(np.arange(1000), X_4);"
   ]
  },
  {
   "cell_type": "code",
   "execution_count": 12,
   "metadata": {},
   "outputs": [],
   "source": [
    "def welch_ttest(x1, x2, a):\n",
    "    \n",
    "    n1 = x1.size\n",
    "    n2 = x2.size\n",
    "    m1 = np.mean(x1)\n",
    "    m2 = np.mean(x2)\n",
    "    \n",
    "    v1 = np.var(x1, ddof=1)\n",
    "    v2 = np.var(x2, ddof=1)\n",
    "    \n",
    "    pooled_se = np.sqrt(v1 / n1 + v2 / n2)\n",
    "    delta = m1-m2\n",
    "    \n",
    "    tstat = delta /  pooled_se\n",
    "    df = (v1 / n1 + v2 / n2)**2 / (v1**2 / (n1**2 * (n1 - 1)) + v2**2 / (n2**2 * (n2 - 1)))\n",
    "    \n",
    "    # two side t-test\n",
    "    p = 2 * t.cdf(-abs(tstat), df)\n",
    "    \n",
    "    # upper and lower bounds\n",
    "    lb = delta - t.ppf(1-a,df)*pooled_se \n",
    "    ub = delta + t.ppf(1-a,df)*pooled_se\n",
    "    ci = [lb, ub]\n",
    "    return ci, p"
   ]
  },
  {
   "cell_type": "code",
   "execution_count": 144,
   "metadata": {},
   "outputs": [],
   "source": [
    "def e_I(m1, m2, v1, v2, n1=20, n2=20, alpha=0.05):\n",
    "    ci_ = CI(m1, m2, var1=v1, var2=v2, n1=n1, n2=n2, alpha=alpha)\n",
    "    denom = (v1/n1) + (v2/n2)\n",
    "    z1x = (ci_[0]-(m1-m2))/denom\n",
    "    e = norm.cdf(z1x)*2\n",
    "    return e, ci_"
   ]
  },
  {
   "cell_type": "markdown",
   "metadata": {},
   "source": [
    "$H_0$: não foi detectado erro, com nível de confiança de $0.05$\n",
    "\n",
    "$H_1$: foi detectado erro"
   ]
  },
  {
   "cell_type": "markdown",
   "metadata": {},
   "source": [
    "Erro tipo I é equivalente ao $\\alpha\n",
    "$"
   ]
  },
  {
   "cell_type": "code",
   "execution_count": 52,
   "metadata": {},
   "outputs": [],
   "source": [
    "def testes(Ns, NC):\n",
    "    erros = {'n':[], 'nc':[], 'tipo_i':[], 'tipo_ii':[]}\n",
    "    for nc in NC:\n",
    "        for n in Ns:\n",
    "            a = 1 - nc\n",
    "            palpha = 1 - a\n",
    "            inicio_dados = X_4[:n]\n",
    "            restante_dados = X_4[n:]\n",
    "            m1, m2 = [inicio_dados.mean(), restante_dados.mean()]\n",
    "            s1, s2 = [inicio_dados.var(ddof=1), restante_dados.var(ddof=1)]\n",
    "            z0 = test_estatistico(m1, m2, 0, s1=s1, s2=s2, n1=len(inicio_dados), n2=len(restante_dados))    \n",
    "            eii = erro_II(a, m1, m2, s1, s2, len(inicio_dados), len(restante_dados), 0)\n",
    "            ei = erro_I(m1, m2, np.sqrt(s1), np.sqrt(s2), len(inicio_dados),len(restante_dados) )\n",
    "            erros['tipo_i'].append(ei)\n",
    "            erros['tipo_ii'].append(eii)\n",
    "            erros['n'].append(n)\n",
    "            erros['nc'].append(nc)\n",
    "    return erros"
   ]
  },
  {
   "cell_type": "code",
   "execution_count": 53,
   "metadata": {},
   "outputs": [],
   "source": [
    "Ns = np.linspace(20,100,3, dtype='int')\n",
    "erros = testes(Ns, [0.90, 0.95, 0.97])"
   ]
  },
  {
   "cell_type": "code",
   "execution_count": 54,
   "metadata": {},
   "outputs": [
    {
     "data": {
      "text/html": [
       "<div>\n",
       "<style scoped>\n",
       "    .dataframe tbody tr th:only-of-type {\n",
       "        vertical-align: middle;\n",
       "    }\n",
       "\n",
       "    .dataframe tbody tr th {\n",
       "        vertical-align: top;\n",
       "    }\n",
       "\n",
       "    .dataframe thead th {\n",
       "        text-align: right;\n",
       "    }\n",
       "</style>\n",
       "<table border=\"1\" class=\"dataframe\">\n",
       "  <thead>\n",
       "    <tr style=\"text-align: right;\">\n",
       "      <th></th>\n",
       "      <th>n</th>\n",
       "      <th>nc</th>\n",
       "      <th>tipo_i</th>\n",
       "      <th>tipo_ii</th>\n",
       "    </tr>\n",
       "  </thead>\n",
       "  <tbody>\n",
       "    <tr>\n",
       "      <th>0</th>\n",
       "      <td>20</td>\n",
       "      <td>0.90</td>\n",
       "      <td>4.863074e-12</td>\n",
       "      <td>7.022332e-08</td>\n",
       "    </tr>\n",
       "    <tr>\n",
       "      <th>1</th>\n",
       "      <td>60</td>\n",
       "      <td>0.90</td>\n",
       "      <td>6.426428e-14</td>\n",
       "      <td>2.396089e-09</td>\n",
       "    </tr>\n",
       "    <tr>\n",
       "      <th>2</th>\n",
       "      <td>100</td>\n",
       "      <td>0.90</td>\n",
       "      <td>1.392053e-21</td>\n",
       "      <td>1.443290e-15</td>\n",
       "    </tr>\n",
       "    <tr>\n",
       "      <th>3</th>\n",
       "      <td>20</td>\n",
       "      <td>0.95</td>\n",
       "      <td>4.863074e-12</td>\n",
       "      <td>3.719210e-07</td>\n",
       "    </tr>\n",
       "    <tr>\n",
       "      <th>4</th>\n",
       "      <td>60</td>\n",
       "      <td>0.95</td>\n",
       "      <td>6.426428e-14</td>\n",
       "      <td>1.519958e-08</td>\n",
       "    </tr>\n",
       "    <tr>\n",
       "      <th>5</th>\n",
       "      <td>100</td>\n",
       "      <td>0.95</td>\n",
       "      <td>1.392053e-21</td>\n",
       "      <td>1.687539e-14</td>\n",
       "    </tr>\n",
       "    <tr>\n",
       "      <th>6</th>\n",
       "      <td>20</td>\n",
       "      <td>0.97</td>\n",
       "      <td>4.863074e-12</td>\n",
       "      <td>1.071620e-06</td>\n",
       "    </tr>\n",
       "    <tr>\n",
       "      <th>7</th>\n",
       "      <td>60</td>\n",
       "      <td>0.97</td>\n",
       "      <td>6.426428e-14</td>\n",
       "      <td>4.937865e-08</td>\n",
       "    </tr>\n",
       "    <tr>\n",
       "      <th>8</th>\n",
       "      <td>100</td>\n",
       "      <td>0.97</td>\n",
       "      <td>1.392053e-21</td>\n",
       "      <td>8.371082e-14</td>\n",
       "    </tr>\n",
       "  </tbody>\n",
       "</table>\n",
       "</div>"
      ],
      "text/plain": [
       "     n    nc        tipo_i       tipo_ii\n",
       "0   20  0.90  4.863074e-12  7.022332e-08\n",
       "1   60  0.90  6.426428e-14  2.396089e-09\n",
       "2  100  0.90  1.392053e-21  1.443290e-15\n",
       "3   20  0.95  4.863074e-12  3.719210e-07\n",
       "4   60  0.95  6.426428e-14  1.519958e-08\n",
       "5  100  0.95  1.392053e-21  1.687539e-14\n",
       "6   20  0.97  4.863074e-12  1.071620e-06\n",
       "7   60  0.97  6.426428e-14  4.937865e-08\n",
       "8  100  0.97  1.392053e-21  8.371082e-14"
      ]
     },
     "execution_count": 54,
     "metadata": {},
     "output_type": "execute_result"
    }
   ],
   "source": [
    "pd.DataFrame(erros)"
   ]
  }
 ],
 "metadata": {
  "kernelspec": {
   "display_name": "Python 3.9.2 ('gan_venv')",
   "language": "python",
   "name": "python3"
  },
  "language_info": {
   "codemirror_mode": {
    "name": "ipython",
    "version": 3
   },
   "file_extension": ".py",
   "mimetype": "text/x-python",
   "name": "python",
   "nbconvert_exporter": "python",
   "pygments_lexer": "ipython3",
   "version": "3.9.2"
  },
  "orig_nbformat": 4,
  "vscode": {
   "interpreter": {
    "hash": "8516cb99422a12964e12b98aaceab2ea062295f647503ec14b0851b84daf0435"
   }
  }
 },
 "nbformat": 4,
 "nbformat_minor": 2
}
