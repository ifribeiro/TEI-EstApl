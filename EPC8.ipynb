{
 "cells": [
  {
   "cell_type": "markdown",
   "metadata": {},
   "source": [
    "**Nome:** Iran Freitas Ribeiro\n",
    "\n",
    "**Matrícula:** 20212021241588\n",
    "\n",
    "**Disciplina:** TEI - Estatística Aplicada\n",
    "\n",
    "**Professor:** Celso José Munaro"
   ]
  },
  {
   "cell_type": "code",
   "execution_count": 35,
   "metadata": {},
   "outputs": [],
   "source": [
    "import numpy as np\n",
    "from scipy.stats import norm, ttest_rel\n",
    "import matplotlib.pyplot as plt"
   ]
  },
  {
   "cell_type": "code",
   "execution_count": 12,
   "metadata": {},
   "outputs": [],
   "source": [
    "def CI(muX, sigma, n, alpha=0.05):\n",
    "    \"\"\"\n",
    "    Calcula o intervalo de confiança de uma distribuição normal\n",
    "    \"\"\"\n",
    "    zalpha_2  = norm.ppf(alpha/2)    \n",
    "    ci_d = muX - zalpha_2*sigma/np.sqrt(n) # limite superior    \n",
    "    ci_l = muX + zalpha_2*sigma/np.sqrt(n) # limite inferior\n",
    "    return ci_l, ci_d\n",
    "\n",
    "def get_XY(f, v=1):\n",
    "    np.random.seed(42)\n",
    "    N = np.random.randint(1,11)\n",
    "    sx=0.1*N\n",
    "    sy=v*sx\n",
    "    mx = N+f*0.1*N\n",
    "    my = N\n",
    "    Xrand = np.random.normal(loc=mx, scale=np.sqrt(sx), size=1000)\n",
    "    Yrand = np.random.normal(loc=my, scale=np.sqrt(sy), size=1000)\n",
    "    return Xrand, mx, sx, Yrand, my, sy\n",
    "\n",
    "def test_estatistico(m1, m2, delta0, s1, s2, n1, n2):\n",
    "    num = m1 - m2 - delta0\n",
    "    denom = np.sqrt((s1/n1) + (s2/n2))\n",
    "    return num/denom"
   ]
  },
  {
   "cell_type": "markdown",
   "metadata": {},
   "source": [
    "## 1"
   ]
  },
  {
   "cell_type": "code",
   "execution_count": 13,
   "metadata": {},
   "outputs": [
    {
     "name": "stdout",
     "output_type": "stream",
     "text": [
      "Não rejeitar hipótese nula quando 0.0\n",
      "Rejeitar hipótese nula quando 1.26\n"
     ]
    }
   ],
   "source": [
    "palpha = norm.ppf(1-0.05)\n",
    "nrejeitar = {}\n",
    "rejeitar = {}\n",
    "for f in np.arange(0,2,0.01):\n",
    "    Xf, mx, sx, Yf, my, sy = get_XY(f)\n",
    "    amostraX = np.random.choice(Xf, size=20)\n",
    "    amostraY = np.random.choice(Yf, size=20)\n",
    "    m1, m2 = [np.mean(amostraX), np.mean(amostraY)]\n",
    "    s1, s2 = [np.std(amostraX), np.std(amostraY)]\n",
    "    z0 = test_estatistico(m1, m2, 0, s1=s1**2, s2=s2**2, n1=20, n2=20)\n",
    "    if (z0 > palpha):\n",
    "        print (\"Rejeitar hipótese nula quando {}\".format(f))\n",
    "        rejeitar['x'], rejeitar['y'] = [amostraX,amostraY]\n",
    "        rejeitar['mx'], rejeitar['my'] = [mx, my]\n",
    "        rejeitar['sx'], rejeitar['sy'] = [sx, sy]\n",
    "        rejeitar['z0'] = z0\n",
    "        break\n",
    "    else:\n",
    "        if len(nrejeitar.keys())==0:\n",
    "            print (\"Não rejeitar hipótese nula quando {}\".format(f))\n",
    "            nrejeitar['x'], nrejeitar['y'] = [amostraX,amostraY]\n",
    "            nrejeitar['mx'], nrejeitar['my'] = [mx, my]\n",
    "            nrejeitar['sx'], nrejeitar['sy'] = [sx, sy]\n",
    "            nrejeitar['z0'] = z0"
   ]
  },
  {
   "cell_type": "code",
   "execution_count": 25,
   "metadata": {},
   "outputs": [],
   "source": [
    "def erro_I(d, sn='x', n=20):\n",
    "    s_ = np.sqrt(d['s{}'.format(sn)])\n",
    "    ci_ = CI(np.mean(d[sn]), sigma=s_, n=n, alpha=0.05)\n",
    "    z1x = (ci_[0]-np.mean(d[sn]))/(s_/n)\n",
    "    z2x = (ci_[1]-np.mean(d[sn]))/(s_/n)\n",
    "    e = norm.cdf(z1x)*2\n",
    "    return e, ci_, s_\n",
    "\n",
    "def erro_II(alpha, m1, m2, s1, s2, n1, n2, delta0):\n",
    "    delta = m1-m2   \n",
    "    z_a2 = norm.ppf(1-(alpha/2))\n",
    "    denom = np.sqrt((s1/n1) + (s2/n2))\n",
    "    c1 = (z_a2 - (delta-delta0)/denom)\n",
    "    c2 = (-z_a2 - (delta-delta0)/denom)\n",
    "    e = norm.cdf(c1) - norm.cdf(c2)\n",
    "    return e\n",
    "\n",
    "def pvalue(z0):\n",
    "    return 1 - norm.cdf(z0)"
   ]
  },
  {
   "cell_type": "code",
   "execution_count": 15,
   "metadata": {},
   "outputs": [],
   "source": [
    "# rejeita h0\n",
    "# s_x (desvio)\n",
    "eI_x, ci_rx, s_x = erro_I(rejeitar)\n",
    "eI_y, ci_ry, s_y = erro_I(rejeitar, sn='y')\n",
    "# não rejeita h0\n",
    "eI_nx, ci_nrx, s_nx = erro_I(nrejeitar)\n",
    "eI_ny, ci_nry, s_ny = erro_I(nrejeitar, sn='y')"
   ]
  },
  {
   "cell_type": "code",
   "execution_count": 20,
   "metadata": {},
   "outputs": [
    {
     "data": {
      "text/plain": [
       "(6.706421363818421, 7.167549563167898)"
      ]
     },
     "execution_count": 20,
     "metadata": {},
     "output_type": "execute_result"
    }
   ],
   "source": [
    "nrejeitar['x'].mean(),nrejeitar['y'].mean()"
   ]
  },
  {
   "cell_type": "code",
   "execution_count": 23,
   "metadata": {},
   "outputs": [],
   "source": [
    "m1, m2 = [nrejeitar['x'].mean(), nrejeitar['y'].mean()]\n",
    "s1, s2 = [np.sqrt(nrejeitar['sx']), np.sqrt(nrejeitar['sy'])]\n",
    "eII_nr = erro_II(0.05,m1,m2,s1,s2, 20, 20, 0)"
   ]
  },
  {
   "cell_type": "code",
   "execution_count": 26,
   "metadata": {},
   "outputs": [
    {
     "data": {
      "text/plain": [
       "0.005867741715332553"
      ]
     },
     "execution_count": 26,
     "metadata": {},
     "output_type": "execute_result"
    }
   ],
   "source": [
    "pvalue(2.52)"
   ]
  },
  {
   "cell_type": "code",
   "execution_count": 165,
   "metadata": {},
   "outputs": [
    {
     "name": "stdout",
     "output_type": "stream",
     "text": [
      "0.0000\n"
     ]
    }
   ],
   "source": [
    "print (\"{:.4f}\".format(eI_x))"
   ]
  },
  {
   "cell_type": "code",
   "execution_count": 30,
   "metadata": {},
   "outputs": [],
   "source": [
    "def get_pdfs(d, sx, sy, n, b=[0,0]):\n",
    "    ab_x = [d['mx']-np.sqrt(d['sx']), d['mx']+np.sqrt(d['sx'])]\n",
    "    ab_y = [d['my']-np.sqrt(d['sy']), d['my']+np.sqrt(d['sy'])]\n",
    "    Xis = np.linspace(ab_x[0]-b[0], ab_x[1], 500)\n",
    "    Yis = np.linspace(ab_y[0]-b[1], ab_y[1], 500)\n",
    "    pdfx = [norm.pdf(xi, loc=d['mx'], scale=sx) for xi in Xis]\n",
    "    pdfy = [norm.pdf(yi, loc=d['my'], scale=sy) for yi in Yis]\n",
    "    return Xis, Yis, pdfx, pdfy"
   ]
  },
  {
   "cell_type": "code",
   "execution_count": 31,
   "metadata": {},
   "outputs": [],
   "source": [
    "Xis_r, Yis_r, pdfx_r, pdfy_r = get_pdfs(rejeitar, s_x, s_y, 20, b=[0,0])\n",
    "Xis_nr, Yis_nr, pdfx_nr, pdfy_nr = get_pdfs(nrejeitar, s_nx, s_ny, 20, b=[0,0])"
   ]
  },
  {
   "cell_type": "code",
   "execution_count": 27,
   "metadata": {},
   "outputs": [
    {
     "data": {
      "text/plain": [
       "7.0"
      ]
     },
     "execution_count": 27,
     "metadata": {},
     "output_type": "execute_result"
    }
   ],
   "source": [
    "nrejeitar['mx']"
   ]
  },
  {
   "cell_type": "code",
   "execution_count": 32,
   "metadata": {},
   "outputs": [
    {
     "data": {
      "image/png": "[encoded data removed]",
      "text/plain": [
       "<Figure size 720x360 with 1 Axes>"
      ]
     },
     "metadata": {
      "needs_background": "light"
     },
     "output_type": "display_data"
    }
   ],
   "source": [
    "fig, ax = plt.subplots(figsize=(10,5))\n",
    "ax.plot(Xis_nr, pdfx_nr, label='X', ls='--')\n",
    "ax.plot(Yis_nr, pdfy_nr, label='Y')\n",
    "\n",
    "lim_inf, lim_sup = [np.min(pdfx_nr), np.max(pdfx_nr)]\n",
    "one_x12, one_y12 = [ci_nrx[0],ci_nrx[0]],[lim_inf,lim_sup]\n",
    "two_x12, two_y12 = [ci_nrx[1],ci_nrx[1]],[lim_inf,lim_sup]\n",
    "\n",
    "o_x12, o_y12 = [ci_nry[0],ci_nry[0]],[lim_inf,lim_sup]\n",
    "t_x12, t_y12 = [ci_nry[1],ci_nry[1]],[lim_inf,lim_sup]\n",
    "ax.plot(one_x12, one_y12, two_x12, two_y12, color='red', ls='--')\n",
    "ax.plot(o_x12, o_y12, t_x12, t_y12, color='purple')\n",
    "\n",
    "plt.legend();"
   ]
  },
  {
   "cell_type": "code",
   "execution_count": 9,
   "metadata": {},
   "outputs": [
    {
     "data": {
      "image/png": "[encoded data removed]",
      "text/plain": [
       "<Figure size 720x360 with 1 Axes>"
      ]
     },
     "metadata": {
      "needs_background": "light"
     },
     "output_type": "display_data"
    }
   ],
   "source": [
    "fig, ax = plt.subplots(figsize=(10,5))\n",
    "ax.plot(Xis_r, pdfx_r, label='X', ls='--')\n",
    "ax.plot(Yis_r, pdfy_r, label='Y')\n",
    "\n",
    "lim_inf, lim_sup = [np.min(pdfx_r), np.max(pdfx_r)]\n",
    "one_x12, one_y12 = [ci_rx[0],ci_rx[0]],[lim_inf,lim_sup]\n",
    "two_x12, two_y12 = [ci_rx[1],ci_rx[1]],[lim_inf,lim_sup]\n",
    "\n",
    "o_x12, o_y12 = [ci_ry[0],ci_ry[0]],[lim_inf,lim_sup]\n",
    "t_x12, t_y12 = [ci_ry[1],ci_ry[1]],[lim_inf,lim_sup]\n",
    "ax.plot(one_x12, one_y12, two_x12, two_y12, color='red', ls='--')\n",
    "ax.plot(o_x12, o_y12, t_x12, t_y12, color='purple')\n",
    "plt.legend();"
   ]
  },
  {
   "cell_type": "markdown",
   "metadata": {},
   "source": [
    "## 2"
   ]
  },
  {
   "cell_type": "code",
   "execution_count": 33,
   "metadata": {},
   "outputs": [],
   "source": [
    "import pandas as pd"
   ]
  },
  {
   "cell_type": "code",
   "execution_count": 34,
   "metadata": {},
   "outputs": [
    {
     "data": {
      "text/html": [
       "<div>\n",
       "<style scoped>\n",
       "    .dataframe tbody tr th:only-of-type {\n",
       "        vertical-align: middle;\n",
       "    }\n",
       "\n",
       "    .dataframe tbody tr th {\n",
       "        vertical-align: top;\n",
       "    }\n",
       "\n",
       "    .dataframe thead th {\n",
       "        text-align: right;\n",
       "    }\n",
       "</style>\n",
       "<table border=\"1\" class=\"dataframe\">\n",
       "  <thead>\n",
       "    <tr style=\"text-align: right;\">\n",
       "      <th></th>\n",
       "      <th>subject</th>\n",
       "      <th>before</th>\n",
       "      <th>after</th>\n",
       "    </tr>\n",
       "  </thead>\n",
       "  <tbody>\n",
       "    <tr>\n",
       "      <th>0</th>\n",
       "      <td>1</td>\n",
       "      <td>265</td>\n",
       "      <td>229</td>\n",
       "    </tr>\n",
       "    <tr>\n",
       "      <th>1</th>\n",
       "      <td>2</td>\n",
       "      <td>240</td>\n",
       "      <td>231</td>\n",
       "    </tr>\n",
       "    <tr>\n",
       "      <th>2</th>\n",
       "      <td>3</td>\n",
       "      <td>258</td>\n",
       "      <td>227</td>\n",
       "    </tr>\n",
       "    <tr>\n",
       "      <th>3</th>\n",
       "      <td>4</td>\n",
       "      <td>295</td>\n",
       "      <td>240</td>\n",
       "    </tr>\n",
       "    <tr>\n",
       "      <th>4</th>\n",
       "      <td>5</td>\n",
       "      <td>251</td>\n",
       "      <td>238</td>\n",
       "    </tr>\n",
       "    <tr>\n",
       "      <th>5</th>\n",
       "      <td>6</td>\n",
       "      <td>245</td>\n",
       "      <td>241</td>\n",
       "    </tr>\n",
       "    <tr>\n",
       "      <th>6</th>\n",
       "      <td>7</td>\n",
       "      <td>287</td>\n",
       "      <td>234</td>\n",
       "    </tr>\n",
       "    <tr>\n",
       "      <th>7</th>\n",
       "      <td>8</td>\n",
       "      <td>314</td>\n",
       "      <td>256</td>\n",
       "    </tr>\n",
       "    <tr>\n",
       "      <th>8</th>\n",
       "      <td>9</td>\n",
       "      <td>260</td>\n",
       "      <td>247</td>\n",
       "    </tr>\n",
       "    <tr>\n",
       "      <th>9</th>\n",
       "      <td>10</td>\n",
       "      <td>279</td>\n",
       "      <td>239</td>\n",
       "    </tr>\n",
       "    <tr>\n",
       "      <th>10</th>\n",
       "      <td>11</td>\n",
       "      <td>283</td>\n",
       "      <td>246</td>\n",
       "    </tr>\n",
       "    <tr>\n",
       "      <th>11</th>\n",
       "      <td>12</td>\n",
       "      <td>240</td>\n",
       "      <td>218</td>\n",
       "    </tr>\n",
       "    <tr>\n",
       "      <th>12</th>\n",
       "      <td>13</td>\n",
       "      <td>238</td>\n",
       "      <td>219</td>\n",
       "    </tr>\n",
       "    <tr>\n",
       "      <th>13</th>\n",
       "      <td>14</td>\n",
       "      <td>225</td>\n",
       "      <td>226</td>\n",
       "    </tr>\n",
       "    <tr>\n",
       "      <th>14</th>\n",
       "      <td>15</td>\n",
       "      <td>247</td>\n",
       "      <td>233</td>\n",
       "    </tr>\n",
       "  </tbody>\n",
       "</table>\n",
       "</div>"
      ],
      "text/plain": [
       "    subject  before  after\n",
       "0         1     265    229\n",
       "1         2     240    231\n",
       "2         3     258    227\n",
       "3         4     295    240\n",
       "4         5     251    238\n",
       "5         6     245    241\n",
       "6         7     287    234\n",
       "7         8     314    256\n",
       "8         9     260    247\n",
       "9        10     279    239\n",
       "10       11     283    246\n",
       "11       12     240    218\n",
       "12       13     238    219\n",
       "13       14     225    226\n",
       "14       15     247    233"
      ]
     },
     "execution_count": 34,
     "metadata": {},
     "output_type": "execute_result"
    }
   ],
   "source": [
    "subject = np.arange(1,16,1)\n",
    "before = [265, 240, 258, 295, 251, 245, 287, 314, 260, 279, 283, 240, 238, 225, 247]\n",
    "after  = [229, 231, 227, 240, 238, 241, 234, 256, 247, 239, 246, 218, 219, 226, 233]\n",
    "df = pd.DataFrame({'subject': subject, 'before': before, 'after':after})\n",
    "df"
   ]
  },
  {
   "cell_type": "markdown",
   "metadata": {},
   "source": [
    "Para solução da questão temos duas hipóteses:\n",
    "\n",
    "$H_0$: low-fat diet and aerobic exercise não reduzem o nível de colesterol no sangue (com um nível de significância $\\alpha=0.05$)\n",
    "\n",
    "$H_1$: low-fat diet and aerobic exercise reduzem o nível de colesterol no sangue"
   ]
  },
  {
   "cell_type": "code",
   "execution_count": 37,
   "metadata": {},
   "outputs": [],
   "source": [
    "res = ttest_rel(df['before'], df['after'] )"
   ]
  },
  {
   "cell_type": "code",
   "execution_count": 49,
   "metadata": {},
   "outputs": [
    {
     "data": {
      "text/plain": [
       "0.0001"
      ]
     },
     "execution_count": 49,
     "metadata": {},
     "output_type": "execute_result"
    }
   ],
   "source": [
    "res.pvalue.round(4)"
   ]
  },
  {
   "cell_type": "markdown",
   "metadata": {},
   "source": [
    "Como o $p$-value ($0.0001$) é menor que $\\alpha$, não conseguimos rejeitar a hipótese nula de que as médias são iguais, logo, podemos afirmar que dietas com baixa calorias e exercícios reduzem o nível de colesterol no sangue."
   ]
  },
  {
   "cell_type": "markdown",
   "metadata": {},
   "source": [
    "## 3"
   ]
  },
  {
   "cell_type": "code",
   "execution_count": 50,
   "metadata": {},
   "outputs": [],
   "source": [
    "def test_estatistico_var(n, s2, s2_0):\n",
    "    x_0 = ((n-1)*s2)/s2_0\n",
    "    return x_0"
   ]
  },
  {
   "cell_type": "markdown",
   "metadata": {},
   "source": [
    "\n",
    "1. O parâmetro de interesse é a variância $\\sigma^2$\n",
    "2. $H_0$: $\\sigma_{x}^2 = \\sigma_{y}^2$\n",
    "3. $H_1$: $\\sigma_{x}^2 \\neq \\sigma_{y}^2$\n",
    "4. $\\alpha=0.05$\n",
    "5. O teste estatístico é definido pela função `x_0 = teste_estatistico_var()`\n",
    "6. Rejeitamos $H_0$ se `x_0` $> \\chi_{0.05,19}^2 = 30.14$ \n",
    "7. Calculos:"
   ]
  },
  {
   "cell_type": "code",
   "execution_count": 59,
   "metadata": {},
   "outputs": [],
   "source": [
    "# rejeita a hipotese nula\n",
    "def dict_variaveis(v):\n",
    "    var_rej = {}\n",
    "    Xv, mx_v, sx_v, Yv, my_v, sy_v = get_XY(f=1.26, v=v)\n",
    "    amostraXv = np.random.choice(Xv, size=20)\n",
    "    amostraYv = np.random.choice(Yv, size=20)\n",
    "    x_0 = test_estatistico_var(20,sx_v,sy_v)\n",
    "    var_rej['x'], var_rej['y'] = [amostraXv, amostraYv]\n",
    "    var_rej['sx'],var_rej['sy'] = [sx_v, sy_v]\n",
    "    var_rej['mx'],var_rej['my'] = [mx_v, my_v]\n",
    "    var_rej['x_0'] = x_0\n",
    "    return var_rej"
   ]
  },
  {
   "cell_type": "code",
   "execution_count": 60,
   "metadata": {},
   "outputs": [
    {
     "data": {
      "text/plain": [
       "31.666666666666664"
      ]
     },
     "execution_count": 60,
     "metadata": {},
     "output_type": "execute_result"
    }
   ],
   "source": [
    "rejeitar = dict_variaveis(0.6)\n",
    "rejeitar['x_0']"
   ]
  },
  {
   "cell_type": "code",
   "execution_count": 62,
   "metadata": {},
   "outputs": [
    {
     "data": {
      "text/plain": [
       "21.111111111111107"
      ]
     },
     "execution_count": 62,
     "metadata": {},
     "output_type": "execute_result"
    }
   ],
   "source": [
    "nrejeitar = dict_variaveis(0.9)\n",
    "nrejeitar['x_0']"
   ]
  },
  {
   "cell_type": "markdown",
   "metadata": {},
   "source": []
  }
 ],
 "metadata": {
  "kernelspec": {
   "display_name": "Python 3.8.10 ('gans_venvp3')",
   "language": "python",
   "name": "python3"
  },
  "language_info": {
   "codemirror_mode": {
    "name": "ipython",
    "version": 3
   },
   "file_extension": ".py",
   "mimetype": "text/x-python",
   "name": "python",
   "nbconvert_exporter": "python",
   "pygments_lexer": "ipython3",
   "version": "3.8.10"
  },
  "orig_nbformat": 4,
  "vscode": {
   "interpreter": {
    "hash": "073df714236677e0b8b6e001dd3f94f35e3f36cdcb7f611c8d5653872113c792"
   }
  }
 },
 "nbformat": 4,
 "nbformat_minor": 2
}
