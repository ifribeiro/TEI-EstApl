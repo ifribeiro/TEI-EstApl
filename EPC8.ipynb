{
 "cells": [
  {
   "cell_type": "markdown",
   "metadata": {},
   "source": [
    "**Nome:** Iran Freitas Ribeiro\n",
    "\n",
    "**Matrícula:** 20212021241588\n",
    "\n",
    "**Disciplina:** TEI - Estatística Aplicada\n",
    "\n",
    "**Professor:** Celso José Munaro"
   ]
  },
  {
   "cell_type": "code",
   "execution_count": 4,
   "metadata": {},
   "outputs": [],
   "source": [
    "import numpy as np\n",
    "import pandas as pd\n",
    "from scipy.stats import norm, ttest_rel, chi2, t, ttest_ind, f\n",
    "import matplotlib.pyplot as plt"
   ]
  },
  {
   "cell_type": "code",
   "execution_count": 5,
   "metadata": {},
   "outputs": [],
   "source": [
    "def CI(mu1, mu2, var1, var2, n1, n2, alpha=0.05):\n",
    "    \"\"\"\n",
    "    Calcula o intervalo de confiança de uma distribuição normal\n",
    "    \"\"\"\n",
    "    zalpha_2  = norm.ppf(alpha/2)\n",
    "    sqrt_ = (var1/n1) + (var2/n2)\n",
    "    ci_d = (mu1-mu2) - zalpha_2*np.sqrt(sqrt_) # limite superior    \n",
    "    ci_l = (mu1-mu2) + zalpha_2*np.sqrt(sqrt_) # limite inferior\n",
    "    return ci_l, ci_d\n",
    "\n",
    "def get_XY(f, v=1):\n",
    "    np.random.seed(42)\n",
    "    N = np.random.randint(1,11)\n",
    "    sx=0.1*N\n",
    "    sy=v*sx\n",
    "    mx = N+f*0.1*N\n",
    "    my = N\n",
    "    Xrand = np.random.normal(loc=mx, scale=np.sqrt(sx), size=1000)\n",
    "    Yrand = np.random.normal(loc=my, scale=np.sqrt(sy), size=1000)\n",
    "    return Xrand, mx, sx, Yrand, my, sy\n",
    "\n",
    "def test_estatistico(m1, m2, delta0, s1, s2, n1, n2):\n",
    "    num = m1 - m2 - delta0\n",
    "    denom = np.sqrt((s1/n1) + (s2/n2))\n",
    "    return num/denom"
   ]
  },
  {
   "cell_type": "markdown",
   "metadata": {},
   "source": [
    "## 1"
   ]
  },
  {
   "cell_type": "markdown",
   "metadata": {},
   "source": [
    "Caso I: Se as duas médias forem iguais, deve ser centrada em zero. \n",
    "Caso II: Se forem diferentes, vão ser deferentes de 0.\n",
    "\n",
    "Para os dois casos plotar a distribuição com o intervalo de confiança.\n",
    "\n",
    "Ver [link](https://www.bmj.com/about-bmj/resources-readers/publications/statistics-square-one/5-differences-between-means-type-i-an) com equação para calcular o desvio padrão da média"
   ]
  },
  {
   "cell_type": "code",
   "execution_count": 6,
   "metadata": {},
   "outputs": [],
   "source": [
    "def pvalue(z0):\n",
    "    return 1 - norm.cdf(z0)\n",
    "def testar_f(f=0.1, alpha=0.05):\n",
    "    r = {}\n",
    "    palpha = norm.ppf(1-alpha)\n",
    "    Xf, mx, sx, Yf, my, sy = get_XY(f)\n",
    "    amostraX = np.random.choice(Xf, size=20)\n",
    "    amostraY = np.random.choice(Yf, size=20)\n",
    "    m1, m2 = [np.mean(amostraX), np.mean(amostraY)]\n",
    "    s1, s2 = [amostraX.var(ddof=1), amostraY.var(ddof=1)]\n",
    "    z0 = test_estatistico(m1, m2, 0, s1=s1, s2=s2, n1=20, n2=20)\n",
    "    if (z0 > palpha):\n",
    "        print (\"Rejeitar hipótese nula\",end=\"\")\n",
    "    else:\n",
    "        print (\"Não rejeitar hipótese nula\",end=\"\")\n",
    "    pv = pvalue(z0)\n",
    "    r['x'], r['y'] = [amostraX,amostraY]\n",
    "    r['mx'], r['my'] = [mx, my]\n",
    "    r['sx'], r['sy'] = [sx, sy]\n",
    "    r['z0'] = z0\n",
    "    r['pvalue'] = pv\n",
    "    return r, z0, pv"
   ]
  },
  {
   "cell_type": "code",
   "execution_count": 9,
   "metadata": {},
   "outputs": [
    {
     "name": "stdout",
     "output_type": "stream",
     "text": [
      "Rejeitar hipótese nula com teste=3.5865 e p-value=0.0002\n"
     ]
    }
   ],
   "source": [
    "r, test, pv = testar_f(f=2)\n",
    "print (\" com teste={:.4f} e p-value={:.4f}\".format(test, pv))"
   ]
  },
  {
   "cell_type": "code",
   "execution_count": 10,
   "metadata": {},
   "outputs": [
    {
     "name": "stdout",
     "output_type": "stream",
     "text": [
      "Não rejeitar hipótese nula com teste=-0.9593 e p-value=0.8313\n"
     ]
    }
   ],
   "source": [
    "nr, n_test, n_pv = testar_f(f=0.3)\n",
    "print (\" com teste={:.4f} e p-value={:.4f}\".format(n_test, n_pv))"
   ]
  },
  {
   "cell_type": "code",
   "execution_count": 83,
   "metadata": {},
   "outputs": [],
   "source": [
    "def std_diff(std1, std2, n1, n2):\n",
    "    return np.sqrt((std1**2/n1) + (std2**2/n2))\n",
    "\n",
    "def erro_I(m1, m2, std1, std2, n1=20, n2=20):\n",
    "    \"\"\"\n",
    "    Diferença entre as médias/pelo desvio padrão    \n",
    "    \"\"\"\n",
    "    diff = std_diff(std1, std2, n1, n2)\n",
    "    z = (m1 - m2)/diff\n",
    "    e = norm.cdf(z)\n",
    "    return e\n",
    "\n",
    "def erro_II(alpha, m1, m2, s1, s2, n1, n2, delta0):\n",
    "    \"\"\"\n",
    "    delta0: hipotese alternativa\n",
    "    \"\"\"\n",
    "    delta = m1-m2   \n",
    "    z_a2 = norm.ppf(1-(alpha/2))\n",
    "    denom = np.sqrt((s1/n1) + (s2/n2))\n",
    "    c1 = (z_a2 - (delta-delta0)/denom)\n",
    "    c2 = (-z_a2 - (delta-delta0)/denom)\n",
    "    e = norm.cdf(c1) - norm.cdf(c2)\n",
    "    return e"
   ]
  },
  {
   "cell_type": "code",
   "execution_count": 50,
   "metadata": {},
   "outputs": [
    {
     "data": {
      "text/plain": [
       "1.3636363636363635"
      ]
     },
     "execution_count": 50,
     "metadata": {},
     "output_type": "execute_result"
    }
   ],
   "source": [
    "0.15/0.11"
   ]
  },
  {
   "cell_type": "code",
   "execution_count": 57,
   "metadata": {},
   "outputs": [
    {
     "data": {
      "text/plain": [
       "0.08634102070937422"
      ]
     },
     "execution_count": 57,
     "metadata": {},
     "output_type": "execute_result"
    }
   ],
   "source": [
    "pvalue(0.15/0.11)"
   ]
  },
  {
   "cell_type": "code",
   "execution_count": 165,
   "metadata": {},
   "outputs": [
    {
     "name": "stdout",
     "output_type": "stream",
     "text": [
      "0.0000\n"
     ]
    }
   ],
   "source": [
    "print (\"{:.4f}\".format(eI_x))"
   ]
  },
  {
   "cell_type": "code",
   "execution_count": 30,
   "metadata": {},
   "outputs": [],
   "source": [
    "def get_pdfs(d, sx, sy, n, b=[0,0]):\n",
    "    ab_x = [d['mx']-np.sqrt(d['sx']), d['mx']+np.sqrt(d['sx'])]\n",
    "    ab_y = [d['my']-np.sqrt(d['sy']), d['my']+np.sqrt(d['sy'])]\n",
    "    Xis = np.linspace(ab_x[0]-b[0], ab_x[1], 500)\n",
    "    Yis = np.linspace(ab_y[0]-b[1], ab_y[1], 500)\n",
    "    pdfx = [norm.pdf(xi, loc=d['mx'], scale=sx) for xi in Xis]\n",
    "    pdfy = [norm.pdf(yi, loc=d['my'], scale=sy) for yi in Yis]\n",
    "    return Xis, Yis, pdfx, pdfy"
   ]
  },
  {
   "cell_type": "code",
   "execution_count": 54,
   "metadata": {},
   "outputs": [
    {
     "data": {
      "text/plain": [
       "0.16"
      ]
     },
     "execution_count": 54,
     "metadata": {},
     "output_type": "execute_result"
    }
   ],
   "source": [
    "0.32/2"
   ]
  },
  {
   "cell_type": "markdown",
   "metadata": {},
   "source": [
    "Quando as médias são iguais, ou seja, a diferença entre elas é $0$, o intervalo de confiança deve ser normalmente distribuído com média $0$."
   ]
  },
  {
   "cell_type": "code",
   "execution_count": 12,
   "metadata": {},
   "outputs": [],
   "source": [
    "ci_nrx = CI(nr['x'].mean(), \n",
    "                nr['y'].mean(),\n",
    "                nr['x'].var(ddof=1),\n",
    "                nr['y'].var(ddof=1),\n",
    "                20,\n",
    "                20)"
   ]
  },
  {
   "cell_type": "code",
   "execution_count": 13,
   "metadata": {},
   "outputs": [],
   "source": [
    "Xis = np.linspace(-1,1,100)\n",
    "stdif = std_diff(nr['x'].std(),nr['y'].std(),20, 20)\n",
    "pdf_nrj = [norm.pdf(xi, scale=stdif) for xi in Xis]"
   ]
  },
  {
   "cell_type": "code",
   "execution_count": 59,
   "metadata": {},
   "outputs": [
    {
     "data": {
      "text/plain": [
       "0.16249835811315338"
      ]
     },
     "execution_count": 59,
     "metadata": {},
     "output_type": "execute_result"
    }
   ],
   "source": [
    "ei_nr = erro_I(nr['x'].mean(),nr['y'].mean(), nr['x'].std(),nr['y'].std(), 20, 20)\n",
    "ei_nr"
   ]
  },
  {
   "cell_type": "code",
   "execution_count": 60,
   "metadata": {},
   "outputs": [
    {
     "data": {
      "image/png": "[encoded data removed]",
      "text/plain": [
       "<Figure size 432x288 with 1 Axes>"
      ]
     },
     "metadata": {
      "needs_background": "light"
     },
     "output_type": "display_data"
    }
   ],
   "source": [
    "fig, ax = plt.subplots()\n",
    "ax.plot(Xis, pdf_nrj)\n",
    "lim_inf, lim_sup = [np.min(pdf_nrj), np.max(pdf_nrj)]\n",
    "one_x12, one_y12 = [ci_nrx[0],ci_nrx[0]],[lim_inf,lim_sup]\n",
    "two_x12, two_y12 = [ci_nrx[1],ci_nrx[1]],[lim_inf,lim_sup]\n",
    "ax.plot(one_x12, one_y12, two_x12, two_y12, color='red')\n",
    "plt.title(\"Erro tipo I: {:.3f}\".format(ei_nr));"
   ]
  },
  {
   "cell_type": "markdown",
   "metadata": {},
   "source": [
    "Para obter o erro tipo II, considerando que a não conseguimos rejeitar a hipótese nula (as distribuições possuem a mesma média), podemos supor a distribuição da diferença entre as médias seja diferente de $0$. Suponha, então, que a distribuição da diferença tenha $\\mu=0.26$. A Figura X abaixo mostra a pdf da distribuição com a região crítica."
   ]
  },
  {
   "cell_type": "code",
   "execution_count": 34,
   "metadata": {},
   "outputs": [
    {
     "data": {
      "text/plain": [
       "0.26194583461282006"
      ]
     },
     "execution_count": 34,
     "metadata": {},
     "output_type": "execute_result"
    }
   ],
   "source": [
    "ci_nrx[1]"
   ]
  },
  {
   "cell_type": "code",
   "execution_count": 29,
   "metadata": {},
   "outputs": [],
   "source": [
    "Xis2 = np.linspace(-0.75, 1.25, 100)\n",
    "pdf_nrj2 = [norm.pdf(xi, loc=ci_nrx[1], scale=stdif) for xi in Xis2]"
   ]
  },
  {
   "cell_type": "code",
   "execution_count": 82,
   "metadata": {},
   "outputs": [
    {
     "data": {
      "text/plain": [
       "2.9066128215404774e-06"
      ]
     },
     "execution_count": 82,
     "metadata": {},
     "output_type": "execute_result"
    }
   ],
   "source": [
    "erro_II(0.05, 0, ci_nrx[1], stdif**2, stdif**2, 20, 20, (ci_nrx[1]-0))"
   ]
  },
  {
   "cell_type": "code",
   "execution_count": 36,
   "metadata": {},
   "outputs": [],
   "source": [
    "ci_eii = norm.interval(0.95, loc=ci_nrx[1], scale=stdif)"
   ]
  },
  {
   "cell_type": "code",
   "execution_count": 48,
   "metadata": {},
   "outputs": [
    {
     "data": {
      "image/png": "[encoded data removed]",
      "text/plain": [
       "<Figure size 432x288 with 1 Axes>"
      ]
     },
     "metadata": {
      "needs_background": "light"
     },
     "output_type": "display_data"
    }
   ],
   "source": [
    "fig, ax = plt.subplots()\n",
    "lim_inf, lim_sup = [np.min(pdf_nrj), np.max(pdf_nrj)]\n",
    "ax.plot(Xis, pdf_nrj)\n",
    "ax.plot(Xis2, pdf_nrj2, alpha=0.6)\n",
    "\n",
    "one_x12, one_y12 = [ci_eii[0],ci_eii[0]],[lim_inf,lim_sup]\n",
    "two_x12, two_y12 = [ci_eii[1],ci_eii[1]],[lim_inf,lim_sup]\n",
    "\n",
    "o_x12, o_y12 = [ci_nrx[0],ci_nrx[0]],[lim_inf,lim_sup]\n",
    "t_x12, t_y12 = [ci_nrx[1],ci_nrx[1]],[lim_inf,lim_sup]\n",
    "ax.plot(one_x12, one_y12, two_x12, two_y12, color='red', alpha=0.6)\n",
    "# ax.plot(o_x12, o_y12, t_x12, t_y12, color='purple')\n",
    "plt.title(\"Figura X - Erro tipo II\");"
   ]
  },
  {
   "cell_type": "code",
   "execution_count": 49,
   "metadata": {},
   "outputs": [
    {
     "data": {
      "text/plain": [
       "(0.42579776668822733, 1.4519458346128231)"
      ]
     },
     "execution_count": 49,
     "metadata": {},
     "output_type": "execute_result"
    }
   ],
   "source": [
    "ci_rx = CI(r['x'].mean(), \n",
    "                r['y'].mean(),\n",
    "                r['x'].var(ddof=1),\n",
    "                r['y'].var(ddof=1),\n",
    "                20,\n",
    "                20)\n",
    "ci_rx"
   ]
  },
  {
   "cell_type": "code",
   "execution_count": 66,
   "metadata": {},
   "outputs": [],
   "source": [
    "stdif_r = std_diff(r['x'].std(),r['y'].std(),20, 20)\n",
    "diff_mur = r['x'].mean() - r['y'].mean()\n",
    "Xis_r = np.linspace(0, 1.75, 100)\n",
    "Xis_rx = np.linspace(-0.75, 1.5, 100)\n",
    "pdfx_r = [norm.pdf(xi, loc=diff_mur, scale=stdif_r) for xi in Xis_r]\n",
    "pdfx2_r = [norm.pdf(xi, loc=ci_rx[0], scale=stdif_r) for xi in Xis_rx]"
   ]
  },
  {
   "cell_type": "code",
   "execution_count": 63,
   "metadata": {},
   "outputs": [
    {
     "data": {
      "text/plain": [
       "0.9998832462748815"
      ]
     },
     "execution_count": 63,
     "metadata": {},
     "output_type": "execute_result"
    }
   ],
   "source": [
    "ei_r = erro_I(r['x'].mean(),r['y'].mean(), r['x'].std(), r['y'].std(), 20, 20)\n",
    "ei_r"
   ]
  },
  {
   "cell_type": "code",
   "execution_count": 69,
   "metadata": {},
   "outputs": [
    {
     "data": {
      "image/png": "[encoded data removed]",
      "text/plain": [
       "<Figure size 432x288 with 1 Axes>"
      ]
     },
     "metadata": {
      "needs_background": "light"
     },
     "output_type": "display_data"
    }
   ],
   "source": [
    "# TODO: Fazer dist da direita usando as duas distribuições que são iguais.\n",
    "fig, ax = plt.subplots()\n",
    "ax.plot(Xis_r, pdfx_r,)\n",
    "lim_inf, lim_sup = [np.min(pdfx_r), np.max(pdfx_r)]\n",
    "one_x12, one_y12 = [ci_rx[0],ci_rx[0]],[lim_inf,lim_sup]\n",
    "two_x12, two_y12 = [ci_rx[1],ci_rx[1]],[lim_inf,lim_sup]\n",
    "ax.plot(one_x12, one_y12, two_x12, two_y12, color='red');"
   ]
  },
  {
   "cell_type": "code",
   "execution_count": 73,
   "metadata": {},
   "outputs": [
    {
     "data": {
      "text/plain": [
       "(-0.07428494258097729, 0.925880475957432)"
      ]
     },
     "execution_count": 73,
     "metadata": {},
     "output_type": "execute_result"
    }
   ],
   "source": [
    "ci_eii = norm.interval(0.95, loc=ci_rx[0], scale=stdif_r)\n",
    "ci_eii"
   ]
  },
  {
   "cell_type": "code",
   "execution_count": 81,
   "metadata": {},
   "outputs": [
    {
     "data": {
      "text/plain": [
       "0.95"
      ]
     },
     "execution_count": 81,
     "metadata": {},
     "output_type": "execute_result"
    }
   ],
   "source": [
    "mudiff = diff_mur - ci_rx[0]\n",
    "eii = erro_II(0.05, diff_mur, ci_rx[0], stdif_r**2, stdif_r**2, 20, 20, mudiff)\n",
    "eii"
   ]
  },
  {
   "cell_type": "code",
   "execution_count": 80,
   "metadata": {},
   "outputs": [
    {
     "data": {
      "text/plain": [
       "Text(0.5, 1.0, 'Figura X - Erro tipo II= 0.9500')"
      ]
     },
     "execution_count": 80,
     "metadata": {},
     "output_type": "execute_result"
    },
    {
     "data": {
      "image/png": "[encoded data removed]",
      "text/plain": [
       "<Figure size 432x288 with 1 Axes>"
      ]
     },
     "metadata": {
      "needs_background": "light"
     },
     "output_type": "display_data"
    }
   ],
   "source": [
    "fig, ax = plt.subplots()\n",
    "ax.plot(Xis_r, pdfx_r,)\n",
    "ax.plot(Xis_rx, pdfx2_r,)\n",
    "lim_inf, lim_sup = [np.min(pdfx_r), np.max(pdfx_r)]\n",
    "one_x12, one_y12 = [ci_eii[0],ci_eii[0]],[lim_inf,lim_sup]\n",
    "two_x12, two_y12 = [ci_eii[1],ci_eii[1]],[lim_inf,lim_sup]\n",
    "ax.plot(one_x12, one_y12, two_x12, two_y12, color='red')\n",
    "plt.title(\"Figura X - Erro tipo II= {:.4f}\".format(eii))"
   ]
  },
  {
   "cell_type": "markdown",
   "metadata": {},
   "source": [
    "## 2"
   ]
  },
  {
   "cell_type": "code",
   "execution_count": 84,
   "metadata": {},
   "outputs": [],
   "source": [
    "import pandas as pd"
   ]
  },
  {
   "cell_type": "code",
   "execution_count": 85,
   "metadata": {},
   "outputs": [
    {
     "data": {
      "text/html": [
       "<div>\n",
       "<style scoped>\n",
       "    .dataframe tbody tr th:only-of-type {\n",
       "        vertical-align: middle;\n",
       "    }\n",
       "\n",
       "    .dataframe tbody tr th {\n",
       "        vertical-align: top;\n",
       "    }\n",
       "\n",
       "    .dataframe thead th {\n",
       "        text-align: right;\n",
       "    }\n",
       "</style>\n",
       "<table border=\"1\" class=\"dataframe\">\n",
       "  <thead>\n",
       "    <tr style=\"text-align: right;\">\n",
       "      <th></th>\n",
       "      <th>subject</th>\n",
       "      <th>before</th>\n",
       "      <th>after</th>\n",
       "    </tr>\n",
       "  </thead>\n",
       "  <tbody>\n",
       "    <tr>\n",
       "      <th>0</th>\n",
       "      <td>1</td>\n",
       "      <td>265</td>\n",
       "      <td>229</td>\n",
       "    </tr>\n",
       "    <tr>\n",
       "      <th>1</th>\n",
       "      <td>2</td>\n",
       "      <td>240</td>\n",
       "      <td>231</td>\n",
       "    </tr>\n",
       "    <tr>\n",
       "      <th>2</th>\n",
       "      <td>3</td>\n",
       "      <td>258</td>\n",
       "      <td>227</td>\n",
       "    </tr>\n",
       "    <tr>\n",
       "      <th>3</th>\n",
       "      <td>4</td>\n",
       "      <td>295</td>\n",
       "      <td>240</td>\n",
       "    </tr>\n",
       "    <tr>\n",
       "      <th>4</th>\n",
       "      <td>5</td>\n",
       "      <td>251</td>\n",
       "      <td>238</td>\n",
       "    </tr>\n",
       "    <tr>\n",
       "      <th>5</th>\n",
       "      <td>6</td>\n",
       "      <td>245</td>\n",
       "      <td>241</td>\n",
       "    </tr>\n",
       "    <tr>\n",
       "      <th>6</th>\n",
       "      <td>7</td>\n",
       "      <td>287</td>\n",
       "      <td>234</td>\n",
       "    </tr>\n",
       "    <tr>\n",
       "      <th>7</th>\n",
       "      <td>8</td>\n",
       "      <td>314</td>\n",
       "      <td>256</td>\n",
       "    </tr>\n",
       "    <tr>\n",
       "      <th>8</th>\n",
       "      <td>9</td>\n",
       "      <td>260</td>\n",
       "      <td>247</td>\n",
       "    </tr>\n",
       "    <tr>\n",
       "      <th>9</th>\n",
       "      <td>10</td>\n",
       "      <td>279</td>\n",
       "      <td>239</td>\n",
       "    </tr>\n",
       "    <tr>\n",
       "      <th>10</th>\n",
       "      <td>11</td>\n",
       "      <td>283</td>\n",
       "      <td>246</td>\n",
       "    </tr>\n",
       "    <tr>\n",
       "      <th>11</th>\n",
       "      <td>12</td>\n",
       "      <td>240</td>\n",
       "      <td>218</td>\n",
       "    </tr>\n",
       "    <tr>\n",
       "      <th>12</th>\n",
       "      <td>13</td>\n",
       "      <td>238</td>\n",
       "      <td>219</td>\n",
       "    </tr>\n",
       "    <tr>\n",
       "      <th>13</th>\n",
       "      <td>14</td>\n",
       "      <td>225</td>\n",
       "      <td>226</td>\n",
       "    </tr>\n",
       "    <tr>\n",
       "      <th>14</th>\n",
       "      <td>15</td>\n",
       "      <td>247</td>\n",
       "      <td>233</td>\n",
       "    </tr>\n",
       "  </tbody>\n",
       "</table>\n",
       "</div>"
      ],
      "text/plain": [
       "    subject  before  after\n",
       "0         1     265    229\n",
       "1         2     240    231\n",
       "2         3     258    227\n",
       "3         4     295    240\n",
       "4         5     251    238\n",
       "5         6     245    241\n",
       "6         7     287    234\n",
       "7         8     314    256\n",
       "8         9     260    247\n",
       "9        10     279    239\n",
       "10       11     283    246\n",
       "11       12     240    218\n",
       "12       13     238    219\n",
       "13       14     225    226\n",
       "14       15     247    233"
      ]
     },
     "execution_count": 85,
     "metadata": {},
     "output_type": "execute_result"
    }
   ],
   "source": [
    "subject = np.arange(1,16,1)\n",
    "before = [265, 240, 258, 295, 251, 245, 287, 314, 260, 279, 283, 240, 238, 225, 247]\n",
    "after  = [229, 231, 227, 240, 238, 241, 234, 256, 247, 239, 246, 218, 219, 226, 233]\n",
    "df = pd.DataFrame({'subject': subject, 'before': before, 'after':after})\n",
    "df"
   ]
  },
  {
   "cell_type": "markdown",
   "metadata": {},
   "source": [
    "Para solução da questão temos duas hipóteses:\n",
    "\n",
    "$H_0$: Dieta com baixo teor de gordura e exercícios aeróbicos não reduzem o nível de colesterol no sangue (com um nível de significância $\\alpha=0.05$)\n",
    "\n",
    "$H_1$: Dieta com baixo teor de gordura e exercícios aeróbicos reduzem o nível de colesterol no sangue\n",
    "\n",
    "O teste pareado pode ser feito com a função `ttest_rel` do Python."
   ]
  },
  {
   "cell_type": "code",
   "execution_count": 86,
   "metadata": {},
   "outputs": [],
   "source": [
    "res = ttest_rel(df['before'], df['after'])"
   ]
  },
  {
   "cell_type": "code",
   "execution_count": 88,
   "metadata": {},
   "outputs": [
    {
     "data": {
      "text/plain": [
       "(5.4658739941050065, 0.0001)"
      ]
     },
     "execution_count": 88,
     "metadata": {},
     "output_type": "execute_result"
    }
   ],
   "source": [
    "res.statistic, res.pvalue.round(4)"
   ]
  },
  {
   "cell_type": "markdown",
   "metadata": {},
   "source": [
    "O teste estatístico indica que após a dieta e o exercício há uma diferença de $\\approx 5.4$ no nível de colesterol no sangue.\n",
    "Como o $p$-value ($0.0001$) é menor que $\\alpha$, não conseguimos rejeitar a hipótese nula de que as médias são iguais, logo, podemos afirmar que dietas com baixa calorias e exercícios reduzem o nível de colesterol no sangue. "
   ]
  },
  {
   "cell_type": "markdown",
   "metadata": {},
   "source": [
    "## 3"
   ]
  },
  {
   "cell_type": "code",
   "execution_count": 56,
   "metadata": {},
   "outputs": [],
   "source": [
    "def F_var(n1, n2, a=0.05):\n",
    "    fe = f.ppf(a/2,(n1-1),(n2-1))\n",
    "    fd = f.ppf(1-a/2,(n1-1),(n2-1))\n",
    "    return fe,fd\n",
    "    \n",
    "def pvalue_var(ftest, ftest_inv, n1, n2):\n",
    "    pe = f.cdf(ftest, n1, n2)\n",
    "    pd = 1 - f.cdf(ftest_inv, n1, n2)\n",
    "    return pe + pd   "
   ]
  },
  {
   "cell_type": "markdown",
   "metadata": {},
   "source": [
    "\n",
    "1. O parâmetro de interesse é a variância $\\sigma^2$\n",
    "2. $H_0$: $\\sigma_{x}^2 = \\sigma_{y}^2$\n",
    "3. $H_1$: $\\sigma_{x}^2 \\neq \\sigma_{y}^2$\n",
    "4. $\\alpha=0.05$\n",
    "5. O teste estatístico é definido pela função `x_0 = teste_estatistico_var()`\n",
    "6. Rejeitamos $H_0$ se `x_0` $> \\chi_{0.05,19}^2 = 30.14$ \n",
    "7. Calculos:"
   ]
  },
  {
   "cell_type": "code",
   "execution_count": 57,
   "metadata": {},
   "outputs": [],
   "source": [
    "def dict_variaveis(v):\n",
    "    var_rej = {}\n",
    "    Xv, mx_v, sx_v, Yv, my_v, sy_v = get_XY(f=1.26, v=v)\n",
    "    amostraXv = np.random.choice(Xv, size=20)\n",
    "    amostraYv = np.random.choice(Yv, size=20)\n",
    "    ci = F_var(20, 20)\n",
    "    var_rej['Xv'], var_rej['Yv'] = [Xv, Yv]\n",
    "    var_rej['x'], var_rej['y'] = [amostraXv, amostraYv]\n",
    "    var_rej['sx'],var_rej['sy'] = [sx_v, sy_v]\n",
    "    var_rej['mx'],var_rej['my'] = [mx_v, my_v]\n",
    "    return var_rej, ci"
   ]
  },
  {
   "cell_type": "code",
   "execution_count": 60,
   "metadata": {},
   "outputs": [],
   "source": [
    "def CI_Var(r, fe, fd):\n",
    "    \"\"\"\n",
    "    Calcula o intervalo de confiança da variância\n",
    "    \"\"\"\n",
    "    ci = [0,0]\n",
    "    ci[0] = r*fe\n",
    "    ci[1] = r*fd\n",
    "    return ci\n",
    "\n",
    "def erro_I_var(d, sn='x', n=20):\n",
    "    s2 = d['s{}'.format(sn)]\n",
    "    ci_ = CI_Var(n,s2)\n",
    "    z1x = chi2.cdf(0)\n",
    "    e = norm.cdf(z1x)\n",
    "    return e, ci_"
   ]
  },
  {
   "cell_type": "code",
   "execution_count": 58,
   "metadata": {},
   "outputs": [
    {
     "name": "stdout",
     "output_type": "stream",
     "text": [
      "(0.39581215954322335, 2.5264509335792606) 6.793078161565807 0.14720866979830238 0.05\n",
      "Rejeita  6.793078161565807 1.9999263696177467\n"
     ]
    }
   ],
   "source": [
    "rejeitar, f_var_rj = dict_variaveis(0.2)\n",
    "ratio1 = rejeitar['x'].var(ddof=1)/rejeitar['y'].var(ddof=1)\n",
    "ratio2 = rejeitar['y'].var(ddof=1)/rejeitar['x'].var(ddof=1)\n",
    "print (f_var_rj, ratio1, ratio2,0.05)\n",
    "pvalor = pvalue_var(ratio1, ratio2, 20, 20)\n",
    "if f_var_rj[0]<ratio1 and ratio1<f_var_rj[1]:\n",
    "    print (\"Não rejeita \", ratio1, pvalor)\n",
    "else:\n",
    "    print (\"Rejeita \", ratio1, pvalor)"
   ]
  },
  {
   "cell_type": "code",
   "execution_count": 59,
   "metadata": {},
   "outputs": [
    {
     "name": "stdout",
     "output_type": "stream",
     "text": [
      "(0.39581215954322335, 2.5264509335792606) 0.9704397373665443 1.0304606885881162\n",
      "Não rejeita  6.793078161565807 0.947170000999392\n"
     ]
    }
   ],
   "source": [
    "nrejeitar, f_var = dict_variaveis(1.4)\n",
    "nratio1 = nrejeitar['x'].var(ddof=1)/nrejeitar['y'].var(ddof=1)\n",
    "nratio2 = nrejeitar['y'].var(ddof=1)/nrejeitar['x'].var(ddof=1)\n",
    "print (f_var, nratio1, nratio2)\n",
    "pvalor = pvalue_var(nratio1, nratio2, 20, 20)\n",
    "if f_var[0]<nratio1 and nratio1<f_var[1]:\n",
    "    print (\"Não rejeita \", ratio1, pvalor)\n",
    "else:\n",
    "    print (\"Rejeita \", nratio1, pvalor)"
   ]
  },
  {
   "cell_type": "code",
   "execution_count": 68,
   "metadata": {},
   "outputs": [],
   "source": [
    "xrj = np.linspace(0, 17.5, 100)\n",
    "ci_varrj = CI_Var(ratio1, f_var_rj[0], f_var_rj[1])"
   ]
  },
  {
   "cell_type": "code",
   "execution_count": 87,
   "metadata": {},
   "outputs": [
    {
     "data": {
      "text/plain": [
       "6.793078161565807"
      ]
     },
     "execution_count": 87,
     "metadata": {},
     "output_type": "execute_result"
    }
   ],
   "source": [
    "ratio1"
   ]
  },
  {
   "cell_type": "code",
   "execution_count": 88,
   "metadata": {},
   "outputs": [
    {
     "data": {
      "image/png": "[encoded data removed]",
      "text/plain": [
       "<Figure size 432x288 with 1 Axes>"
      ]
     },
     "metadata": {
      "needs_background": "light"
     },
     "output_type": "display_data"
    }
   ],
   "source": [
    "fig, ax = plt.subplots()\n",
    "pdff = f.pdf(xrj, 19, 19)\n",
    "ax.plot(xrj, pdff)\n",
    "lim_inf, lim_sup = [np.min(pdff), np.max(pdff)]\n",
    "one_x12, one_y12 = [ci_varrj[0],ci_varrj[0]],[lim_inf,lim_sup]\n",
    "two_x12, two_y12 = [ci_varrj[1],ci_varrj[1]],[lim_inf,lim_sup]\n",
    "rtx, rty =  [ratio1,ratio1],[lim_inf,lim_sup]\n",
    "ax.plot(one_x12, one_y12, two_x12, two_y12, color='red')\n",
    "ax.plot(rtx, rty, color='purple', alpha=0.5, ls='--', label=r'$\\frac{\\sigma_1^2}{\\sigma_2^2}=6.8$',)\n",
    "plt.legend(prop={'size': 14})\n",
    "plt.title(\"Figura X - \");"
   ]
  },
  {
   "cell_type": "code",
   "execution_count": 73,
   "metadata": {},
   "outputs": [],
   "source": [
    "ci_var = CI_Var(nratio1, f_var[0], f_var[1])"
   ]
  },
  {
   "cell_type": "code",
   "execution_count": 76,
   "metadata": {},
   "outputs": [],
   "source": [
    "x = np.linspace(0, 4, 100)"
   ]
  },
  {
   "cell_type": "code",
   "execution_count": 84,
   "metadata": {},
   "outputs": [
    {
     "data": {
      "text/plain": [
       "<matplotlib.legend.Legend at 0x7f810c1ffa30>"
      ]
     },
     "execution_count": 84,
     "metadata": {},
     "output_type": "execute_result"
    },
    {
     "data": {
      "image/png": "[encoded data removed]",
      "text/plain": [
       "<Figure size 432x288 with 1 Axes>"
      ]
     },
     "metadata": {
      "needs_background": "light"
     },
     "output_type": "display_data"
    }
   ],
   "source": [
    "fig, ax = plt.subplots()\n",
    "pdff = f.pdf(x, 19, 19)\n",
    "ax.plot(x, pdff,)\n",
    "lim_inf, lim_sup = [np.min(pdff), np.max(pdff)]\n",
    "one_x12, one_y12 = [ci_var[0],ci_var[0]],[lim_inf,lim_sup]\n",
    "two_x12, two_y12 = [ci_var[1],ci_var[1]],[lim_inf,lim_sup]\n",
    "rtx, rty =  [nratio1,nratio1],[lim_inf,lim_sup]\n",
    "ax.plot(one_x12, one_y12, two_x12, two_y12, color='red')\n",
    "ax.plot(rtx, rty, color='purple', alpha=0.5, ls='--', label=r'$\\frac{\\sigma_1^2}{\\sigma_2^2}$',)\n",
    "plt.legend(prop={'size': 14})\n"
   ]
  },
  {
   "cell_type": "markdown",
   "metadata": {},
   "source": [
    "$\\frac{\\sigma_1^2}{\\sigma_2^2}$"
   ]
  },
  {
   "cell_type": "markdown",
   "metadata": {},
   "source": [
    "## 4\n",
    "\n",
    "[Ver](https://stats.stackexchange.com/questions/475289/confidence-interval-for-2-sample-t-test-with-scipy)"
   ]
  },
  {
   "cell_type": "code",
   "execution_count": 2,
   "metadata": {},
   "outputs": [],
   "source": [
    "np.random.seed(42) # para fins de reprodutibilidade\n",
    "N = np.random.randint(1, 11)\n",
    "sigma = np.sqrt(0.05*N)\n",
    "X_4 = np.random.normal(loc=N, scale=sigma, size=1000)\n",
    "# x(k+500)=x(k+500)+0.3*N*k/500\n",
    "for k in range(0, 500, 1):\n",
    "    X_4[k+500] = X_4[k+500] + 0.3*N*(k/500)"
   ]
  },
  {
   "cell_type": "code",
   "execution_count": 3,
   "metadata": {},
   "outputs": [
    {
     "data": {
      "image/png": "[encoded data removed]",
      "text/plain": [
       "<Figure size 432x288 with 1 Axes>"
      ]
     },
     "metadata": {
      "needs_background": "light"
     },
     "output_type": "display_data"
    }
   ],
   "source": [
    "fig, ax = plt.subplots()\n",
    "ax.plot(np.arange(1000), X_4);"
   ]
  },
  {
   "cell_type": "code",
   "execution_count": 12,
   "metadata": {},
   "outputs": [],
   "source": [
    "def welch_ttest(x1, x2, a):\n",
    "    \n",
    "    n1 = x1.size\n",
    "    n2 = x2.size\n",
    "    m1 = np.mean(x1)\n",
    "    m2 = np.mean(x2)\n",
    "    \n",
    "    v1 = np.var(x1, ddof=1)\n",
    "    v2 = np.var(x2, ddof=1)\n",
    "    \n",
    "    pooled_se = np.sqrt(v1 / n1 + v2 / n2)\n",
    "    delta = m1-m2\n",
    "    \n",
    "    tstat = delta /  pooled_se\n",
    "    df = (v1 / n1 + v2 / n2)**2 / (v1**2 / (n1**2 * (n1 - 1)) + v2**2 / (n2**2 * (n2 - 1)))\n",
    "    \n",
    "    # two side t-test\n",
    "    p = 2 * t.cdf(-abs(tstat), df)\n",
    "    \n",
    "    # upper and lower bounds\n",
    "    lb = delta - t.ppf(1-a,df)*pooled_se \n",
    "    ub = delta + t.ppf(1-a,df)*pooled_se\n",
    "    ci = [lb, ub]\n",
    "    return ci, p"
   ]
  },
  {
   "cell_type": "code",
   "execution_count": 144,
   "metadata": {},
   "outputs": [],
   "source": [
    "def e_I(m1, m2, v1, v2, n1=20, n2=20, alpha=0.05):\n",
    "    ci_ = CI(m1, m2, var1=v1, var2=v2, n1=n1, n2=n2, alpha=alpha)\n",
    "    denom = (v1/n1) + (v2/n2)\n",
    "    z1x = (ci_[0]-(m1-m2))/denom\n",
    "    e = norm.cdf(z1x)*2\n",
    "    return e, ci_"
   ]
  },
  {
   "cell_type": "markdown",
   "metadata": {},
   "source": [
    "$H_0$: não foi detectado erro, com nível de confiança de $0.05$\n",
    "\n",
    "$H_1$: foi detectado erro"
   ]
  },
  {
   "cell_type": "markdown",
   "metadata": {},
   "source": [
    "Erro tipo I é equivalente ao $\\alpha\n",
    "$"
   ]
  },
  {
   "cell_type": "code",
   "execution_count": 52,
   "metadata": {},
   "outputs": [],
   "source": [
    "def testes(Ns, NC):\n",
    "    erros = {'n':[], 'nc':[], 'tipo_i':[], 'tipo_ii':[]}\n",
    "    for nc in NC:\n",
    "        for n in Ns:\n",
    "            a = 1 - nc\n",
    "            palpha = 1 - a\n",
    "            inicio_dados = X_4[:n]\n",
    "            restante_dados = X_4[n:]\n",
    "            m1, m2 = [inicio_dados.mean(), restante_dados.mean()]\n",
    "            s1, s2 = [inicio_dados.var(ddof=1), restante_dados.var(ddof=1)]\n",
    "            z0 = test_estatistico(m1, m2, 0, s1=s1, s2=s2, n1=len(inicio_dados), n2=len(restante_dados))    \n",
    "            eii = erro_II(a, m1, m2, s1, s2, len(inicio_dados), len(restante_dados), 0)\n",
    "            ei = erro_I(m1, m2, np.sqrt(s1), np.sqrt(s2), len(inicio_dados),len(restante_dados) )\n",
    "            erros['tipo_i'].append(ei)\n",
    "            erros['tipo_ii'].append(eii)\n",
    "            erros['n'].append(n)\n",
    "            erros['nc'].append(nc)\n",
    "    return erros"
   ]
  },
  {
   "cell_type": "code",
   "execution_count": 53,
   "metadata": {},
   "outputs": [],
   "source": [
    "Ns = np.linspace(20,100,3, dtype='int')\n",
    "erros = testes(Ns, [0.90, 0.95, 0.97])"
   ]
  },
  {
   "cell_type": "code",
   "execution_count": 54,
   "metadata": {},
   "outputs": [
    {
     "data": {
      "text/html": [
       "<div>\n",
       "<style scoped>\n",
       "    .dataframe tbody tr th:only-of-type {\n",
       "        vertical-align: middle;\n",
       "    }\n",
       "\n",
       "    .dataframe tbody tr th {\n",
       "        vertical-align: top;\n",
       "    }\n",
       "\n",
       "    .dataframe thead th {\n",
       "        text-align: right;\n",
       "    }\n",
       "</style>\n",
       "<table border=\"1\" class=\"dataframe\">\n",
       "  <thead>\n",
       "    <tr style=\"text-align: right;\">\n",
       "      <th></th>\n",
       "      <th>n</th>\n",
       "      <th>nc</th>\n",
       "      <th>tipo_i</th>\n",
       "      <th>tipo_ii</th>\n",
       "    </tr>\n",
       "  </thead>\n",
       "  <tbody>\n",
       "    <tr>\n",
       "      <th>0</th>\n",
       "      <td>20</td>\n",
       "      <td>0.90</td>\n",
       "      <td>4.863074e-12</td>\n",
       "      <td>7.022332e-08</td>\n",
       "    </tr>\n",
       "    <tr>\n",
       "      <th>1</th>\n",
       "      <td>60</td>\n",
       "      <td>0.90</td>\n",
       "      <td>6.426428e-14</td>\n",
       "      <td>2.396089e-09</td>\n",
       "    </tr>\n",
       "    <tr>\n",
       "      <th>2</th>\n",
       "      <td>100</td>\n",
       "      <td>0.90</td>\n",
       "      <td>1.392053e-21</td>\n",
       "      <td>1.443290e-15</td>\n",
       "    </tr>\n",
       "    <tr>\n",
       "      <th>3</th>\n",
       "      <td>20</td>\n",
       "      <td>0.95</td>\n",
       "      <td>4.863074e-12</td>\n",
       "      <td>3.719210e-07</td>\n",
       "    </tr>\n",
       "    <tr>\n",
       "      <th>4</th>\n",
       "      <td>60</td>\n",
       "      <td>0.95</td>\n",
       "      <td>6.426428e-14</td>\n",
       "      <td>1.519958e-08</td>\n",
       "    </tr>\n",
       "    <tr>\n",
       "      <th>5</th>\n",
       "      <td>100</td>\n",
       "      <td>0.95</td>\n",
       "      <td>1.392053e-21</td>\n",
       "      <td>1.687539e-14</td>\n",
       "    </tr>\n",
       "    <tr>\n",
       "      <th>6</th>\n",
       "      <td>20</td>\n",
       "      <td>0.97</td>\n",
       "      <td>4.863074e-12</td>\n",
       "      <td>1.071620e-06</td>\n",
       "    </tr>\n",
       "    <tr>\n",
       "      <th>7</th>\n",
       "      <td>60</td>\n",
       "      <td>0.97</td>\n",
       "      <td>6.426428e-14</td>\n",
       "      <td>4.937865e-08</td>\n",
       "    </tr>\n",
       "    <tr>\n",
       "      <th>8</th>\n",
       "      <td>100</td>\n",
       "      <td>0.97</td>\n",
       "      <td>1.392053e-21</td>\n",
       "      <td>8.371082e-14</td>\n",
       "    </tr>\n",
       "  </tbody>\n",
       "</table>\n",
       "</div>"
      ],
      "text/plain": [
       "     n    nc        tipo_i       tipo_ii\n",
       "0   20  0.90  4.863074e-12  7.022332e-08\n",
       "1   60  0.90  6.426428e-14  2.396089e-09\n",
       "2  100  0.90  1.392053e-21  1.443290e-15\n",
       "3   20  0.95  4.863074e-12  3.719210e-07\n",
       "4   60  0.95  6.426428e-14  1.519958e-08\n",
       "5  100  0.95  1.392053e-21  1.687539e-14\n",
       "6   20  0.97  4.863074e-12  1.071620e-06\n",
       "7   60  0.97  6.426428e-14  4.937865e-08\n",
       "8  100  0.97  1.392053e-21  8.371082e-14"
      ]
     },
     "execution_count": 54,
     "metadata": {},
     "output_type": "execute_result"
    }
   ],
   "source": [
    "pd.DataFrame(erros)"
   ]
  }
 ],
 "metadata": {
  "kernelspec": {
   "display_name": "Python 3.8.10 ('gans_venvp3')",
   "language": "python",
   "name": "python3"
  },
  "language_info": {
   "codemirror_mode": {
    "name": "ipython",
    "version": 3
   },
   "file_extension": ".py",
   "mimetype": "text/x-python",
   "name": "python",
   "nbconvert_exporter": "python",
   "pygments_lexer": "ipython3",
   "version": "3.8.10"
  },
  "orig_nbformat": 4,
  "vscode": {
   "interpreter": {
    "hash": "073df714236677e0b8b6e001dd3f94f35e3f36cdcb7f611c8d5653872113c792"
   }
  }
 },
 "nbformat": 4,
 "nbformat_minor": 2
}
