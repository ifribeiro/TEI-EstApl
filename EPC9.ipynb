{
 "cells": [
  {
   "cell_type": "markdown",
   "metadata": {},
   "source": [
    "**Nome:** Iran Freitas Ribeiro\n",
    "\n",
    "**Matrícula:** 2021241588\n",
    "\n",
    "**Disciplina:** TEI - Estatística Aplicada\n",
    "\n",
    "**Professor:** Celso José Munaro"
   ]
  },
  {
   "cell_type": "code",
   "execution_count": 1,
   "metadata": {},
   "outputs": [],
   "source": [
    "import numpy as np\n",
    "import pandas as pd\n",
    "import matplotlib.pyplot as plt\n",
    "from scipy.stats import pearsonr, norm\n",
    "import statsmodels.api as sm\n",
    "from statsmodels.tsa.stattools import ccf, OLS\n",
    "plt.style.use('seaborn')"
   ]
  },
  {
   "cell_type": "code",
   "execution_count": 2,
   "metadata": {},
   "outputs": [
    {
     "data": {
      "text/html": [
       "<div>\n",
       "<style scoped>\n",
       "    .dataframe tbody tr th:only-of-type {\n",
       "        vertical-align: middle;\n",
       "    }\n",
       "\n",
       "    .dataframe tbody tr th {\n",
       "        vertical-align: top;\n",
       "    }\n",
       "\n",
       "    .dataframe thead th {\n",
       "        text-align: right;\n",
       "    }\n",
       "</style>\n",
       "<table border=\"1\" class=\"dataframe\">\n",
       "  <thead>\n",
       "    <tr style=\"text-align: right;\">\n",
       "      <th></th>\n",
       "      <th>y</th>\n",
       "      <th>x</th>\n",
       "    </tr>\n",
       "  </thead>\n",
       "  <tbody>\n",
       "    <tr>\n",
       "      <th>0</th>\n",
       "      <td>24.615091</td>\n",
       "      <td>344.47342</td>\n",
       "    </tr>\n",
       "    <tr>\n",
       "      <th>1</th>\n",
       "      <td>24.615091</td>\n",
       "      <td>344.76187</td>\n",
       "    </tr>\n",
       "    <tr>\n",
       "      <th>2</th>\n",
       "      <td>24.615091</td>\n",
       "      <td>344.66571</td>\n",
       "    </tr>\n",
       "    <tr>\n",
       "      <th>3</th>\n",
       "      <td>24.602808</td>\n",
       "      <td>344.40930</td>\n",
       "    </tr>\n",
       "    <tr>\n",
       "      <th>4</th>\n",
       "      <td>24.602808</td>\n",
       "      <td>344.56952</td>\n",
       "    </tr>\n",
       "  </tbody>\n",
       "</table>\n",
       "</div>"
      ],
      "text/plain": [
       "           y          x\n",
       "0  24.615091  344.47342\n",
       "1  24.615091  344.76187\n",
       "2  24.615091  344.66571\n",
       "3  24.602808  344.40930\n",
       "4  24.602808  344.56952"
      ]
     },
     "execution_count": 2,
     "metadata": {},
     "output_type": "execute_result"
    }
   ],
   "source": [
    "Z = pd.read_csv(\"epc9dat.txt\", sep=\" \", header=None)\n",
    "Z = Z[[3,6]].rename(columns={3:'y',6:'x'})\n",
    "Z.head()"
   ]
  },
  {
   "cell_type": "markdown",
   "metadata": {},
   "source": [
    "# Questão 1"
   ]
  },
  {
   "cell_type": "markdown",
   "metadata": {},
   "source": [
    "**1.1**"
   ]
  },
  {
   "cell_type": "code",
   "execution_count": null,
   "metadata": {},
   "outputs": [],
   "source": [
    "fig, ax = plt.subplots(figsize=(12,4), ncols=2)\n",
    "Z[['x','y']].plot(ax=ax[0])\n",
    "Z.plot(kind='scatter',x='x',y='y', ax=ax[1])\n",
    "ax[0].set_title(\"Gráfico x, y\")\n",
    "ax[1].set_title(\"Gráfico de dispersão (x,y)\")\n",
    "plt.suptitle(\"Figura 1 - Gráficos das variáveis x e y\");"
   ]
  },
  {
   "cell_type": "markdown",
   "metadata": {},
   "source": [
    "A Figura $1$, no gráfico de x,y (à esquerda) mostra que, se analisadas separadamente, as variáveis $x$ e $y$ são muito diferentes: os valores da variável $x$ são muito maiores que os da variável $y$ e, visualmente, $x$ varia mais que $y$ ao longo das amostras.\n",
    "\n",
    "No gráfico da direita, entretanto, o gráfico da dispersão entre $x$ e $y$ indica que pode haver uma correlação positiva entre as duas variáveis, pois para maiores valores de $x$ temos também maiores valores de $y$. Visualmente, podemos verificar a existência de uma \"reta\" na diagonal do gráfico."
   ]
  },
  {
   "cell_type": "markdown",
   "metadata": {},
   "source": [
    "**1.2**"
   ]
  },
  {
   "cell_type": "code",
   "execution_count": null,
   "metadata": {},
   "outputs": [],
   "source": [
    "c1,pvalue = pearsonr(Z['x'],Z['y'])\n",
    "c1, pvalue"
   ]
  },
  {
   "cell_type": "markdown",
   "metadata": {},
   "source": [
    "Usando a totalidade dos dados a correlação entre $x$ e $y$ é $0.993$, um valor muito próximo de $1$, com um $P-$ value $=0.0$ < $0.05$, ou seja, as variáveis possuem uma correlação significativamente diferente de $0$."
   ]
  },
  {
   "cell_type": "code",
   "execution_count": null,
   "metadata": {},
   "outputs": [],
   "source": [
    "Z_500 = Z.sample(500)\n",
    "c2,pvalue = pearsonr(Z_500['x'],Z_500['y'])\n",
    "c2, pvalue, c1-c2"
   ]
  },
  {
   "cell_type": "markdown",
   "metadata": {},
   "source": [
    "Usando $500$ pares $(x,y)$ selecionados aleatoriamente, temos uma correlação de $\\approx 0.992$, apenas cerca de $1$ milésimo de diferença entre uma correlação em outra. Além disso, o $P-$ value ainda é $0$, indicando que a correlação entre as duas variáveis ainda é significativamente diferente de $0$."
   ]
  },
  {
   "cell_type": "markdown",
   "metadata": {},
   "source": [
    "# Questão 2"
   ]
  },
  {
   "cell_type": "markdown",
   "metadata": {},
   "source": [
    "**2.1**"
   ]
  },
  {
   "cell_type": "code",
   "execution_count": null,
   "metadata": {},
   "outputs": [],
   "source": [
    "crus_corr = ccf(Z['x'],Z['y'], adjusted=False)\n",
    "fig, ax = plt.subplots()\n",
    "ax.plot(crus_corr)\n",
    "ax.set_ylabel(\"Correlação cruzada\")\n",
    "ax.set_xlabel(\"Atrasos\")\n",
    "plt.title(\"Figura 2 - Correlação cruzada entre $x$ e $y$\");"
   ]
  },
  {
   "cell_type": "markdown",
   "metadata": {},
   "source": [
    "**2.2**"
   ]
  },
  {
   "cell_type": "code",
   "execution_count": null,
   "metadata": {},
   "outputs": [],
   "source": [
    "Z_500 = Z.sample(500)\n",
    "crus_corr = ccf(Z_500['x'],Z_500['y'], adjusted=False)\n",
    "fig, ax = plt.subplots()\n",
    "ax.plot(crus_corr)\n",
    "ax.set_ylabel(\"Correlação cruzada\")\n",
    "ax.set_xlabel(\"Atrasos\")\n",
    "plt.title(\"Figura 3 - Correlação cruzada entre 500 pares aleatórios $x$ e $y$\");"
   ]
  },
  {
   "cell_type": "markdown",
   "metadata": {},
   "source": [
    "Nota-se, na Figura $2$, que há uma correlação positiva forte para atrasos maiores que $0$, indicando que há uma dependência temporal nos dados. Em outras palavras, conseguimos prever valores futuros a partir de valores passados. Na Figura $3$, entretanto, percebemos que a autocorrelação só ocorre com atrasos iguais a $0$. Isso é justificado pelo fato de cada um dos 500 valores ser selecionado aleatoriamente, fazendo com que a dependência temporal entre os valores deixe de existir.\n",
    "\n",
    "Em relação a metodologia utilizada para obtenção, esses res"
   ]
  },
  {
   "cell_type": "markdown",
   "metadata": {},
   "source": [
    "# Questão 3"
   ]
  },
  {
   "cell_type": "markdown",
   "metadata": {},
   "source": [
    "**3.1**"
   ]
  },
  {
   "cell_type": "code",
   "execution_count": null,
   "metadata": {},
   "outputs": [],
   "source": [
    "# seleciono 100 amostras\n",
    "# random_state é usado para fins de reprodutibilidade\n",
    "Z_100 = Z.sample(100, random_state=42, replace=False)\n",
    "fig, ax = plt.subplots(figsize=(6,4))\n",
    "ax.scatter(Z_100['x'], Z_100['y'])\n",
    "ax.set_xlabel(\"x\")\n",
    "ax.set_ylabel(\"y\")\n",
    "plt.title((\"Figura 4 - Visualização de 100 amostras selecionadas aleatoriamente\"));"
   ]
  },
  {
   "cell_type": "markdown",
   "metadata": {},
   "source": [
    "O código a seguir calcula a $\\beta_0$ e $\\beta_1$ para os valores de $x$ e $y$ selecionados. \n",
    "\n",
    "OBS: se o objetivo for obter apenas $\\beta_0$ e $\\beta_1$, podemos fazer o produto escalar de $y$ pela pseudo-inversa de $x$. Outros resultados podem ser obtidos com a biblioteca [OLS](https://www.statsmodels.org/dev/examples/notebooks/generated/ols.html)."
   ]
  },
  {
   "cell_type": "code",
   "execution_count": null,
   "metadata": {},
   "outputs": [],
   "source": [
    "Z_100"
   ]
  },
  {
   "cell_type": "code",
   "execution_count": 43,
   "metadata": {},
   "outputs": [],
   "source": [
    "betas_0 = []\n",
    "betas_1 = []\n",
    "# percorre todos pares\n",
    "ones = np.ones(100)\n",
    "seeds = np.arange(50, 150)\n",
    "for i in range(100):\n",
    "    Z_100 = Z.sample(100, random_state=seeds[i])\n",
    "    x = Z_100['x'].values\n",
    "    y = Z_100['y'].values\n",
    "    A = np.vstack([x, ones]).T\n",
    "    pinv = np.linalg.pinv(A) # pseudo-inversa\n",
    "    b1, b0 = pinv.dot(y) # produto escalar\n",
    "    betas_0.append(b0)\n",
    "    betas_1.append(b1)    "
   ]
  },
  {
   "cell_type": "code",
   "execution_count": 12,
   "metadata": {},
   "outputs": [
    {
     "data": {
      "image/png": "[encoded data removed]",
      "text/plain": [
       "<Figure size 864x360 with 2 Axes>"
      ]
     },
     "metadata": {},
     "output_type": "display_data"
    }
   ],
   "source": [
    "fig, ax = plt.subplots(figsize=(12, 5), ncols=2)\n",
    "ax[0].hist(betas_0, density=True, edgecolor='black')\n",
    "locs_0 = ax[0].get_yticks()\n",
    "ax[0].set_yticks(locs_0,np.round(locs_0/len(betas_0), 3))\n",
    "ax[0].set_xlabel(r'$\\hat{\\beta_0}$')\n",
    "\n",
    "ax[1].hist(betas_1, density=True, edgecolor='black')\n",
    "locs_1 = ax[1].get_yticks()\n",
    "ax[1].set_yticks(locs_1,np.round(locs_1/len(betas_1),3))\n",
    "ax[1].set_xlabel(r'$\\hat{\\beta_1}$')\n",
    "plt.suptitle(r\"Figura 5 - Histogramas para os 100 $\\beta_0$ e $\\beta_1$ calculados\")\n",
    "plt.xticks(rotation=25);"
   ]
  },
  {
   "cell_type": "markdown",
   "metadata": {},
   "source": [
    "**3.2**"
   ]
  },
  {
   "cell_type": "markdown",
   "metadata": {},
   "source": [
    "Para o cálculo da média e desvio padrão usamos o $\\beta_0$ e $\\beta_1$ obtidos da regressão dos dados."
   ]
  },
  {
   "cell_type": "code",
   "execution_count": 5,
   "metadata": {},
   "outputs": [
    {
     "data": {
      "text/plain": [
       "0.6136014853117103"
      ]
     },
     "execution_count": 5,
     "metadata": {},
     "output_type": "execute_result"
    }
   ],
   "source": [
    "np.mean(betas_0)"
   ]
  },
  {
   "cell_type": "code",
   "execution_count": 6,
   "metadata": {},
   "outputs": [
    {
     "data": {
      "image/png": "[encoded data removed]",
      "text/plain": [
       "<Figure size 432x288 with 1 Axes>"
      ]
     },
     "metadata": {},
     "output_type": "display_data"
    }
   ],
   "source": [
    "X = Z_100['x'].values\n",
    "Y = Z_100['y'].values\n",
    "A = np.vstack([X, np.ones(len(X))]).T\n",
    "pinv = np.linalg.pinv(A)\n",
    "b1, b0 = pinv.dot(Y)\n",
    "y_hat = [(b0 + b1*xi) for xi in X]\n",
    "fig, ax = plt.subplots(figsize=(6, 4))\n",
    "ax.scatter(X, Y)\n",
    "ax.plot(X, y_hat, c='r', label='{:.3f}x + {:.3f}'.format(b1, b0))\n",
    "ax.set_xlabel(\"x\")\n",
    "ax.set_ylabel(\"y\")\n",
    "plt.title(\"Figura 6 - Regressão linear para 100 amostras de x e y\")\n",
    "plt.legend();"
   ]
  },
  {
   "cell_type": "markdown",
   "metadata": {},
   "source": [
    "Considerando a lista ``betas_1`` anterior:\n",
    "\n",
    "A média de $\\beta_1$ = $E(\\beta_1)$"
   ]
  },
  {
   "cell_type": "markdown",
   "metadata": {},
   "source": [
    "A variância de $\\hat{\\beta_1}$ = $E(\\beta_1 - E(\\beta_1))^2$\n",
    "\n",
    "As funções a seguir implementam as duas equações acima"
   ]
  },
  {
   "cell_type": "code",
   "execution_count": 44,
   "metadata": {},
   "outputs": [],
   "source": [
    "def expected_value(values, probs):\n",
    "    values = np.asarray(values)\n",
    "    probs = np.asarray(probs)\n",
    "    return (values * probs).sum() / probs.sum()\n",
    "\n",
    "def expected_var(X):\n",
    "    # expX = expected_value(X, probs)\n",
    "    # print (expX)\n",
    "    # x_ = np.array(X) - expX\n",
    "    # probsx = [norm.pdf(xi, loc=mu, scale=std) for xi in x_]\n",
    "    return np.cov(X)+0"
   ]
  },
  {
   "cell_type": "code",
   "execution_count": 28,
   "metadata": {},
   "outputs": [],
   "source": [
    "cov = np.cov(np.array(betas_1))"
   ]
  },
  {
   "cell_type": "code",
   "execution_count": null,
   "metadata": {},
   "outputs": [],
   "source": [
    "betas_1_2 = [bi**2 for bi in betas_1]"
   ]
  },
  {
   "cell_type": "code",
   "execution_count": 45,
   "metadata": {},
   "outputs": [
    {
     "data": {
      "text/plain": [
       "(0.0694082469826928, 5.748466873785923e-07)"
      ]
     },
     "execution_count": 45,
     "metadata": {},
     "output_type": "execute_result"
    }
   ],
   "source": [
    "probsb1 = [norm.pdf(bi, loc=np.mean(betas_1), scale=np.std(betas_1)) for bi in betas_1]\n",
    "media_b1 = expected_value(betas_1, probsb1)\n",
    "var_b1 = expected_var(betas_1)\n",
    "media_b1, var_b1"
   ]
  },
  {
   "cell_type": "markdown",
   "metadata": {},
   "source": [
    "Assim, média de $\\beta_1 \\approx 0.59$ e variância de $\\beta_1 \\approx 0.14$"
   ]
  },
  {
   "cell_type": "markdown",
   "metadata": {},
   "source": [
    "De forma similar, para $\\beta_0$"
   ]
  },
  {
   "cell_type": "code",
   "execution_count": 37,
   "metadata": {},
   "outputs": [
    {
     "data": {
      "text/plain": [
       "(0.6263151925729498, 0.06870837885254706)"
      ]
     },
     "execution_count": 37,
     "metadata": {},
     "output_type": "execute_result"
    }
   ],
   "source": [
    "probsb0 = [norm.pdf(bi, loc=np.mean(betas_0), scale=np.std(betas_0)) for bi in betas_0]\n",
    "media_b0 = expected_value(betas_0, probsb0)\n",
    "var_b0 = expected_var(betas_0, probsb0, np.mean(probsb0), np.std(probsb0))\n",
    "media_b0, var_b0"
   ]
  },
  {
   "cell_type": "markdown",
   "metadata": {},
   "source": [
    "Média de $\\beta_0=0.07$ e variância de $\\beta_0 \\approx 3e-09$"
   ]
  },
  {
   "cell_type": "code",
   "execution_count": 38,
   "metadata": {},
   "outputs": [
    {
     "data": {
      "image/png": "[encoded data removed]",
      "text/plain": [
       "<Figure size 864x252 with 2 Axes>"
      ]
     },
     "metadata": {},
     "output_type": "display_data"
    }
   ],
   "source": [
    "# pdf de b1\n",
    "X_b1 = np.linspace(media_b1-5*np.sqrt(var_b1), media_b1+5*np.sqrt(var_b1), 100)\n",
    "pdf_b1 = [norm.pdf(xi, loc=media_b1, scale=np.sqrt(var_b1)) for xi in X_b1]\n",
    "# pdf de b0\n",
    "X_b0 = np.linspace(np.min(betas_0), np.max(betas_0), 100)\n",
    "pdf_b0 = [norm.pdf(xi, loc=media_b0, scale=np.sqrt(var_b0)) for xi in X_b0]\n",
    "fig, ax = plt.subplots(figsize=(12, 3.5), ncols=2)\n",
    "ax[0].plot(X_b0, pdf_b0)\n",
    "ax[0].hist(betas_0,  density=True, edgecolor='black')\n",
    "\n",
    "ax[1].plot(X_b1, pdf_b1)\n",
    "ax[1].hist(betas_1, density=True, edgecolor='black')\n",
    "\n",
    "ax[0].set_xlabel(r'$\\hat{\\beta_0}$')\n",
    "ax[1].set_xlabel(r'$\\hat{\\beta_1}$')\n",
    "plt.suptitle(r'Figura 7 - pdfs dos coeficientes ($\\beta_0$ e $\\beta_1$)')\n",
    "plt.show();"
   ]
  },
  {
   "cell_type": "markdown",
   "metadata": {},
   "source": [
    "A Figura $7$ mostra a pdf de $\\beta_0$ e $\\beta_1$, obtidas a partir das equações disponibilizadas, sobre seus respectivos histogramamas. Nota-se que $\\beta_0$ possui média $\\approx 0.0693$ e uma variância de $\\approx 3e^{-9}$. Como mostra a figura (à esquerda), quase todos os valores da pdf de $\\beta_0$ acabam ficando muito próximos da média, já que a variância é praticamente 0.\n",
    "\n",
    "$\\beta_1$, por outro lado, possui média $0.64$ e variância $0.14$. Nota-se, na figura à direita, que  a pdf se aproxima bastante do histograma da variável, e ambos tem uma distribuição aproximadamente normal."
   ]
  },
  {
   "cell_type": "markdown",
   "metadata": {},
   "source": [
    "# Questão 4"
   ]
  },
  {
   "cell_type": "markdown",
   "metadata": {},
   "source": [
    "**4.1**"
   ]
  },
  {
   "cell_type": "code",
   "execution_count": 71,
   "metadata": {},
   "outputs": [],
   "source": [
    "# seleciono outras 100 amostras\n",
    "betas_0 = []\n",
    "betas_1 = []\n",
    "for i in range(100):\n",
    "    Z_100_4 = Z.sample(100,)\n",
    "    Z_100_4.sort_index(inplace=True)\n",
    "    # A biblioteca Ordinary Least Squares (OLS) retorna diversos resultados, entre eles o IC\n",
    "    X_4, Y_4 = Z_100_4['x'], Z_100_4['y']\n",
    "    A = np.vstack([X_4, np.ones(len(X_4))]).T\n",
    "    mod = OLS(Y_4, A)\n",
    "    # x1=b1, const=b0\n",
    "    res = mod.fit()\n",
    "    b1 = res.params.loc['x1']\n",
    "    b0 = res.params.loc['const']\n",
    "    betas_1.append(b1)\n",
    "    betas_0.append(b0)    "
   ]
  },
  {
   "cell_type": "code",
   "execution_count": 72,
   "metadata": {},
   "outputs": [
    {
     "data": {
      "text/plain": [
       "0.06934439409196888"
      ]
     },
     "execution_count": 72,
     "metadata": {},
     "output_type": "execute_result"
    }
   ],
   "source": [
    "b1"
   ]
  },
  {
   "cell_type": "code",
   "execution_count": 73,
   "metadata": {},
   "outputs": [],
   "source": [
    "def CI(muX, sigma, n, alpha=0.05):\n",
    "    \"\"\"\n",
    "    Calcula o intervalo de confiância de uma distribuição normal\n",
    "    \"\"\"\n",
    "    zalpha_2  = norm.ppf(alpha/2)    \n",
    "    ci_d = muX - zalpha_2*sigma/np.sqrt(n) # limite superior    \n",
    "    ci_l = muX + zalpha_2*sigma/np.sqrt(n) # limite inferior\n",
    "    return ci_l, ci_d"
   ]
  },
  {
   "cell_type": "code",
   "execution_count": 74,
   "metadata": {},
   "outputs": [
    {
     "name": "stdout",
     "output_type": "stream",
     "text": [
      "(0.06914393544888008, 0.06949792985333332)\n",
      "(0.593447323627922, 0.7154332939394522)\n"
     ]
    }
   ],
   "source": [
    "var_b1 = expected_var(betas_1)\n",
    "var_b0 = expected_var(betas_0)\n",
    "ci_b1 = CI(np.mean(betas_1), np.sqrt(var_b1), n=100,alpha=0.05)\n",
    "ci_b0 = CI(np.mean(betas_0), np.sqrt(var_b0), n=100,alpha=0.05)\n",
    "print (ci_b1)\n",
    "print (ci_b0)"
   ]
  },
  {
   "cell_type": "code",
   "execution_count": 59,
   "metadata": {},
   "outputs": [
    {
     "data": {
      "text/plain": [
       "0.09041686716947708"
      ]
     },
     "execution_count": 59,
     "metadata": {},
     "output_type": "execute_result"
    }
   ],
   "source": [
    "var_b0"
   ]
  },
  {
   "cell_type": "code",
   "execution_count": 76,
   "metadata": {},
   "outputs": [],
   "source": [
    "z1_b1 = (ci_b1[0] - 0)/np.sqrt(var_b1)\n",
    "z2_b1 = (ci_b1[1] - 0)/np.sqrt(var_b1)"
   ]
  },
  {
   "cell_type": "code",
   "execution_count": 78,
   "metadata": {},
   "outputs": [
    {
     "data": {
      "text/plain": [
       "0.0"
      ]
     },
     "execution_count": 78,
     "metadata": {},
     "output_type": "execute_result"
    }
   ],
   "source": [
    "1 - norm.cdf(z1_b1)"
   ]
  },
  {
   "cell_type": "code",
   "execution_count": 67,
   "metadata": {},
   "outputs": [
    {
     "data": {
      "text/html": [
       "<div>\n",
       "<style scoped>\n",
       "    .dataframe tbody tr th:only-of-type {\n",
       "        vertical-align: middle;\n",
       "    }\n",
       "\n",
       "    .dataframe tbody tr th {\n",
       "        vertical-align: top;\n",
       "    }\n",
       "\n",
       "    .dataframe thead th {\n",
       "        text-align: right;\n",
       "    }\n",
       "</style>\n",
       "<table border=\"1\" class=\"dataframe\">\n",
       "  <thead>\n",
       "    <tr style=\"text-align: right;\">\n",
       "      <th></th>\n",
       "      <th>0</th>\n",
       "      <th>1</th>\n",
       "    </tr>\n",
       "  </thead>\n",
       "  <tbody>\n",
       "    <tr>\n",
       "      <th>x1</th>\n",
       "      <td>0.067772</td>\n",
       "      <td>0.070561</td>\n",
       "    </tr>\n",
       "    <tr>\n",
       "      <th>const</th>\n",
       "      <td>0.224968</td>\n",
       "      <td>1.192161</td>\n",
       "    </tr>\n",
       "  </tbody>\n",
       "</table>\n",
       "</div>"
      ],
      "text/plain": [
       "              0         1\n",
       "x1     0.067772  0.070561\n",
       "const  0.224968  1.192161"
      ]
     },
     "execution_count": 67,
     "metadata": {},
     "output_type": "execute_result"
    }
   ],
   "source": [
    "df_IC = res.conf_int(0.05)\n",
    "df_IC"
   ]
  },
  {
   "cell_type": "code",
   "execution_count": null,
   "metadata": {},
   "outputs": [],
   "source": [
    "ci_b1 = df_IC.loc['x1'].values\n",
    "ci_b0 = df_IC.loc['const'].values"
   ]
  },
  {
   "cell_type": "code",
   "execution_count": 56,
   "metadata": {},
   "outputs": [],
   "source": [
    "probsb1 = [norm.pdf(bi, loc=np.mean(betas_1), scale=np.std(betas_1)) for bi in betas_1]\n",
    "mub1, var_b1 = expected_value(betas_1, probsb1), expected_var(betas_1)\n",
    "\n",
    "X_b1 = np.linspace(mub1-5*np.sqrt(var_b1), mub1+5*np.sqrt(var_b1), 100)\n",
    "pdf_b1 = [norm.pdf(xi, loc=mub1, scale=np.sqrt(var_b1)) for xi in X_b1]\n",
    "\n",
    "probsb0 = [norm.pdf(bi, loc=np.mean(betas_0), scale=np.std(betas_0)) for bi in betas_0]\n",
    "mub0, var_b0 = expected_value(betas_0, probsb0), expected_var(betas_0)\n",
    "\n",
    "X_b0 = np.linspace(mub0-5*np.sqrt(var_b0), mub0+5*np.sqrt(var_b0), 100)\n",
    "pdf_b0 = [norm.pdf(xi, loc=mub0, scale=np.sqrt(var_b0)) for xi in X_b0]"
   ]
  },
  {
   "cell_type": "code",
   "execution_count": 69,
   "metadata": {},
   "outputs": [
    {
     "data": {
      "image/png": "[encoded data removed]",
      "text/plain": [
       "<Figure size 864x252 with 2 Axes>"
      ]
     },
     "metadata": {},
     "output_type": "display_data"
    }
   ],
   "source": [
    "fig, ax = plt.subplots(figsize=(12, 3.5), ncols=2)\n",
    "li_b0, ls_b0 = np.min(pdf_b0), np.max(pdf_b0)\n",
    "li_b1, ls_b1 = np.min(pdf_b1), np.max(pdf_b1)\n",
    "\n",
    "o_xb0, o_yb0 = [ci_b0[0], ci_b0[0]], [li_b0, ls_b0-0.02]\n",
    "t_xb0, t_yb0 = [ci_b0[1], ci_b0[1]], [li_b0, ls_b0-0.02]\n",
    "ax[0].plot(o_xb0, o_yb0, t_xb0, t_yb0, color='red')\n",
    "ax[0].plot(X_b0, pdf_b0)\n",
    "ax[0].set_xlabel(r'$\\hat{\\beta_0}$')\n",
    "ax[0].fill_between(X_b0, pdf_b0, where=(X_b0>ci_b0[1]), color='red')\n",
    "ax[0].fill_between(X_b0, pdf_b0, where=(X_b0<ci_b0[0]), color='red')\n",
    "\n",
    "o_xb1, o_yb1 = [ci_b1[0], ci_b1[0]], [li_b1, ls_b1-0.02]\n",
    "t_xb1, t_yb1 = [ci_b1[1], ci_b1[1]], [li_b1, ls_b1-0.02]\n",
    "ax[1].plot(o_xb1, o_yb1, t_xb1, t_yb1, color='red')\n",
    "ax[1].plot(X_b1, pdf_b1)\n",
    "ax[1].fill_between(X_b1, pdf_b1, where=(X_b1>ci_b1[1]), color='red')\n",
    "ax[1].fill_between(X_b1, pdf_b1, where=(X_b1<ci_b1[0]), color='red')\n",
    "\n",
    "ax[1].set_xlabel(r'$\\hat{\\beta_1}$')\n",
    "plt.suptitle(r'Figura 8 - pdfs dos coeficientes ($\\beta_0$ e $\\beta_1$)');"
   ]
  },
  {
   "cell_type": "code",
   "execution_count": null,
   "metadata": {},
   "outputs": [],
   "source": [
    "ci_b0"
   ]
  },
  {
   "cell_type": "code",
   "execution_count": null,
   "metadata": {},
   "outputs": [],
   "source": [
    "ci_b1"
   ]
  },
  {
   "cell_type": "markdown",
   "metadata": {},
   "source": [
    "A Figura $8$ mostra os intervalos de confiança (IC) para $\\beta_0$ (esquerda) e $\\beta_1$ (direita). Nota-se que para o $\\beta_0$, o IC é $[-0.06, 0.97]$. Quando comparado com o pdf correspondente ao $\\beta_0$ vemos que apenas o lado direito da distribuição possui valores na região crítica do IC (valores de $\\beta_0>0.97$).\n",
    "\n",
    "De forma similar, o IC do $\\beta_1$ é $[0.06, 0.07]$, e apenas o lado esquerdo da distribuição possui valores na região crítica do IC (valores de $\\beta_1<0.07$)"
   ]
  },
  {
   "cell_type": "markdown",
   "metadata": {},
   "source": [
    "**4.2**"
   ]
  },
  {
   "cell_type": "markdown",
   "metadata": {},
   "source": [
    "O código a seguir gera uma sumarização de diversas informações sobre o modelo de regressão."
   ]
  },
  {
   "cell_type": "code",
   "execution_count": null,
   "metadata": {},
   "outputs": [],
   "source": [
    "res.summary()"
   ]
  },
  {
   "cell_type": "markdown",
   "metadata": {},
   "source": [
    "Para concluir se o modelo é bom, podemos utilizar o $R^2$, teste de hipótese de $\\beta_1$ ($t$) e o $P$-valor, da tabela de sumarização anterior:\n",
    "\n",
    "- $R^2 = 0.98$ (muito próximo de $1.0$)\n",
    "- $t = 92.15$ (teste estatístico hipótese alto, bem maior que $0$, rejeita a hipótese nula de que $\\beta_1 = 0$)\n",
    "- $P$-valor $=0.000$ (igual a $0$, reforçando que a hipótese nula deve ser rejeitada)"
   ]
  },
  {
   "cell_type": "markdown",
   "metadata": {},
   "source": [
    "# Questão 5"
   ]
  },
  {
   "cell_type": "code",
   "execution_count": null,
   "metadata": {},
   "outputs": [],
   "source": [
    "# geração das variáveis aleatórias\n",
    "np.random.seed(42) # para fins de reprodutibilidade\n",
    "X_5 = np.random.normal(loc=0, scale=1, size=50)\n",
    "Y_5 = np.random.normal(loc=0, scale=1, size=50)\n",
    "plt.scatter(X_5, Y_5)\n",
    "plt.xlabel(\"x\")\n",
    "plt.ylabel(\"y\")\n",
    "plt.title(\"Figura 9 - Gráfico de dispersão de x,y\");"
   ]
  },
  {
   "cell_type": "markdown",
   "metadata": {},
   "source": [
    "**5.1**"
   ]
  },
  {
   "cell_type": "markdown",
   "metadata": {},
   "source": [
    "Um dos principais indicadores quantitativos de que é possível obter (ou não) um bom modelo de regressão linear entre $X$ e $Y$ é o coeficiente de correlação:"
   ]
  },
  {
   "cell_type": "code",
   "execution_count": null,
   "metadata": {},
   "outputs": [],
   "source": [
    "coef, pvalue = pearsonr(X_5, Y_5)\n",
    "coef,pvalue"
   ]
  },
  {
   "cell_type": "markdown",
   "metadata": {},
   "source": [
    "em dados correlacionados, onde é possível obter um bom modelo, a correlação entre as duas variáveis será próxima de $1$. Entretanto, o código acima mostra que a correlação entre as duas variáveis é $0.11$, com um $P$-value $=0.44$, ou seja, provavelmente não conseguimos obter um bom modelo de regressão linear entre $X$ e $Y$."
   ]
  },
  {
   "cell_type": "markdown",
   "metadata": {},
   "source": [
    "**5.2**"
   ]
  },
  {
   "cell_type": "code",
   "execution_count": null,
   "metadata": {},
   "outputs": [],
   "source": [
    "# adiciona o termo da constante b0\n",
    "X_5 = sm.add_constant(X_5)\n",
    "mod = OLS(Y_5, X_5)\n",
    "res = mod.fit()"
   ]
  },
  {
   "cell_type": "markdown",
   "metadata": {},
   "source": [
    "A tabela à seguir apresenta alguns resultados importantes obtidas do modelo ajustado aos dados:"
   ]
  },
  {
   "cell_type": "code",
   "execution_count": null,
   "metadata": {},
   "outputs": [],
   "source": [
    "res.summary()"
   ]
  },
  {
   "cell_type": "markdown",
   "metadata": {},
   "source": [
    "Um dos primeiros resultados que pode indicar se o modelo é bom ou não é o $R^2$ (R-squared), que indica a porcentagem de variação em $Y$ que é explicada por $X$. Assim, um bom modelo teria o $R^2$ próximo de 1.0 ($100\\%$) mas, para as variáveis definidas, $R^2=0.012$ (menos de $1\\%$ da variação de $Y$ é explicado por $X$).\n",
    "\n",
    "Outro resultado que pode ser utilizado é o do teste de hipótese ($t$-test) para $\\beta_1$ (representado por x1), onde temos as hipóteses:\n",
    "\n",
    "$H_0: \\beta_1 = 0$ ($X$ não possui influência em $Y$)\n",
    "\n",
    "$H_1: \\beta_1 \\ne 0$ ($X$ tem uma influência significante em $Y$)\n",
    "\n",
    "Pelos resultados da tabela acima, nota-se que o teste de hipótese para $\\beta_1=0.321$, com um $P$-value $=0.447$, ou seja, não conseguimos rejeitar $H_0$ a hipótese nula de que $X$ não possui influência em $Y$."
   ]
  },
  {
   "cell_type": "markdown",
   "metadata": {},
   "source": [
    "Por fim, podemos analisar o intervalo de confiança do modelo ajustado aos dados:"
   ]
  },
  {
   "cell_type": "code",
   "execution_count": null,
   "metadata": {},
   "outputs": [],
   "source": [
    "res.conf_int(0.05)[0]"
   ]
  },
  {
   "cell_type": "markdown",
   "metadata": {},
   "source": [
    "Para um nível de confiança de $95\\%$, tem-se que o intervalo de confiança é $[-0.21, 0.29]$. Como o $0$ está entre os limites inferior ($-0.21$) e superior ($0.29$), não conseguimos rejeitar a hipótese nula definida anteriormente e, $X$ provavelmente não deve ter influência em $Y$."
   ]
  },
  {
   "cell_type": "markdown",
   "metadata": {},
   "source": [
    "Desta forma, unindo esse $3$ resultados, podemos afirmar que o modelo ajustado aos dados não é bom."
   ]
  }
 ],
 "metadata": {
  "kernelspec": {
   "display_name": "Python 3.7.3 ('gans_trajsp3')",
   "language": "python",
   "name": "python3"
  },
  "language_info": {
   "codemirror_mode": {
    "name": "ipython",
    "version": 3
   },
   "file_extension": ".py",
   "mimetype": "text/x-python",
   "name": "python",
   "nbconvert_exporter": "python",
   "pygments_lexer": "ipython3",
   "version": "3.7.3"
  },
  "orig_nbformat": 4,
  "vscode": {
   "interpreter": {
    "hash": "72fba674bb5c41e906a02e56863160eeb44778396691dee4e92ebdc1318766f3"
   }
  }
 },
 "nbformat": 4,
 "nbformat_minor": 2
}
