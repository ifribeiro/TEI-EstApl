{
 "cells": [
  {
   "cell_type": "markdown",
   "metadata": {},
   "source": [
    "**Nome:** Iran Freitas Ribeiro\n",
    "\n",
    "**Matrícula:** 2021241588\n",
    "\n",
    "**Disciplina:** TEI - Estatística Aplicada\n",
    "\n",
    "**Professor:** Celso José Munaro"
   ]
  },
  {
   "cell_type": "code",
   "execution_count": 2,
   "metadata": {},
   "outputs": [],
   "source": [
    "import pandas as pd\n",
    "import matplotlib.pyplot as plt\n",
    "import numpy as np"
   ]
  },
  {
   "cell_type": "code",
   "execution_count": 9,
   "metadata": {},
   "outputs": [],
   "source": [
    "Z = pd.read_csv(\"Data_epc10.csv\", sep=\";\", header=None)\n",
    "Z = Z.values\n",
    "\n",
    "Ztreino_R = Z[:300]\n",
    "ZCC_treino = Z[300:600]\n",
    "ZCC_normal = Z[600:1200]\n",
    "ZCC_falha = Z[1200:]"
   ]
  },
  {
   "cell_type": "code",
   "execution_count": 10,
   "metadata": {},
   "outputs": [
    {
     "data": {
      "text/plain": [
       "(300, 2)"
      ]
     },
     "execution_count": 10,
     "metadata": {},
     "output_type": "execute_result"
    }
   ],
   "source": []
  },
  {
   "cell_type": "code",
   "execution_count": null,
   "metadata": {},
   "outputs": [],
   "source": []
  }
 ],
 "metadata": {
  "kernelspec": {
   "display_name": "Python 3.7.3 ('gans_trajsp3')",
   "language": "python",
   "name": "python3"
  },
  "language_info": {
   "codemirror_mode": {
    "name": "ipython",
    "version": 3
   },
   "file_extension": ".py",
   "mimetype": "text/x-python",
   "name": "python",
   "nbconvert_exporter": "python",
   "pygments_lexer": "ipython3",
   "version": "3.7.3"
  },
  "orig_nbformat": 4,
  "vscode": {
   "interpreter": {
    "hash": "72fba674bb5c41e906a02e56863160eeb44778396691dee4e92ebdc1318766f3"
   }
  }
 },
 "nbformat": 4,
 "nbformat_minor": 2
}
