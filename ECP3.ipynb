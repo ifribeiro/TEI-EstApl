{
 "cells": [
  {
   "cell_type": "markdown",
   "metadata": {},
   "source": [
    "**Nome**: Iran Freitas Ribeiro"
   ]
  },
  {
   "cell_type": "markdown",
   "metadata": {},
   "source": [
    "**1. Um experimento aleatório gera 5 possíveis resultados igualmente prováveis. O espaço amostral é $\\{a,b,c,d,e\\}$. Seja $A$ o evento $\\{a,b\\}$ e $B$ o evento $\\{c,d,e\\}$. Determine:**\n",
    "\n",
    "- 1.1 $P(A) = \\frac{2}{5} = 0.4$\n",
    "\n",
    "- 1.2 $P(B) = \\frac{3}{5} = 0.6$\n",
    "- 1.3 $P(A') = 1 - P(A) = 0.6$ \n",
    "- 1.4 $P(A \\cap B) = \\frac{0}{5} = 0.$\n",
    "- 1.5 $P(A \\cup B) = \\frac{5}{5} = 1.$\n"
   ]
  },
  {
   "cell_type": "markdown",
   "metadata": {},
   "source": [
    "**2. O último digito de um instrumento de medição tem a mesma probabilidade de estar entre 0 e 9.**\n",
    "\n",
    "- 2.1 Qual a probabilidade do último digito ser 0?\n",
    "\n",
    "    $\\Omega = \\{0, 1, 2, 3, 4, 5, 6, 7, 8, 9\\}$\n",
    "\n",
    "    $\\frac{1}{10} = 0.1$ \n",
    "\n",
    "\n",
    "\n",
    "- 2.2 Qual a probabilidade do último digito ser maior ou igual a 5?\n",
    "\n",
    "    $A =$ último dígito ser maior ou igual a $5$\n",
    "    \n",
    "    $P(A) = \\frac{5}{9}$\n",
    "\n"
   ]
  },
  {
   "cell_type": "markdown",
   "metadata": {},
   "source": [
    "**3. O circuito mostrado na Figura 1 opera apenas se houver um caminho de dispositivos funcionais da esquerda para a direita. A probabilidade de cada dispositivo funcionar é mostrada no gráfico. Suponha que os dispositivos falhem independentemente. Qual é a probabilidade de o circuito operar?**\n",
    "\n",
    "![Item 3](3.jpeg)\n",
    "\n",
    "$P(A$ or $B$ or $C) = 1 - P[(A$ or $B$ or $C)'] = 1 - P(A'$ and $B'$ and $C')$\n",
    "\n",
    "$P(A'$ and $B'$ and $C') = (1 - 0.9)^3 = 0.001$\n",
    "\n",
    "$P(A$ or $B$ or $C) = 1 - 0.001 = 0.999$\n",
    "\n",
    "---\n",
    "\n",
    "$P(D$ or $E) = 1 - P[(D$ or $E)'] = 1 - P(D'$ and $E')$\n",
    "\n",
    "$P(D'$ and $E') = (1 - 0.95)^2 = 0.9975$\n",
    "\n",
    "**R**=$P(A$ or $B$ or $C) \\cdot P(D$ or $E) \\cdot P(F)$\n",
    "\n",
    "**R**=$0.999 \\cdot 0.9975 \\cdot 0.99 = \\approx 0.986$\n"
   ]
  },
  {
   "cell_type": "markdown",
   "metadata": {},
   "source": [
    "**4. Um escritório possui 100 máquinas de calcular. Algumas são elétricas e outras manuais. Algumas são usadas e outras novas, conforme Tabela 1.**\n",
    "\n",
    " - 4.1 Um usuário pega uma máquina ao acaso e descobre que é nova. Qual a probabilidade de ser elétrica?\n",
    "\n",
    "    $P(E|Novas) = \\frac{40}{70} =  \\frac{4}{7}$\n",
    "\n",
    "- 4.2 Um usuário pega uma máquina ao acaso e descobre que é elétrica. Qual a probabilidade de ser nova?\n",
    "\n",
    "    $P(Novas|E) = \\frac{40}{60} =  \\frac{2}{3}$\n",
    "- 4.3 Mostre como o teorema de Bayes pode ser usado nos itens 4.1 e 4.2\n",
    "\n",
    "    Segundo o teorema de Bayes  $P(A|B) = \\frac{P(B|A) \\cdot P(A)}{P(B)}$.\n",
    "\n",
    "    Assim, para o item $4.1$:\n",
    "    \n",
    "    $P(E|Novas) = \\frac{P(Novas|E) \\cdot P(E)}{P(Novas)}$\n",
    "\n",
    "    Temos que $P(Novas|E) = \\frac{2}{3}$ (item 4.2), $P(E) = \\frac{3}{5}$ e $P(Novas) = \\frac{7}{10}$.\n",
    "\n",
    "    Logo, $P(E|Novas) = \\frac{\\frac{2}{3} \\cdot \\frac{3}{5}}{\\frac{7}{10}} = \\frac{2}{3} \\cdot \\frac{3}{5} \\cdot \\frac{10}{7} = \\frac{2}{5} \\cdot \\frac{10}{7} = \\frac{20}{35} = \\frac{4}{7}$\n",
    "\n",
    "\n",
    "    Para o item $4.2$:\n",
    "    \n",
    "    $P(Novas|E) = \\frac{P(E|Novas) \\cdot P(Novas)}{P(E)}$\n",
    "\n",
    "    Temos que $P(E|Novas) = \\frac{4}{7}$ (item 4.1), $P(Novas) = \\frac{7}{10}$ e $P(E) = \\frac{3}{5}$\n",
    "    \n",
    "    Logo, $P(Novas|E) = \\frac{\\frac{4}{7} \\cdot \\frac{7}{10}}{\\frac{3}{5}} = \\frac{4}{10} \\cdot \\frac{5}{3} = \\frac{20}{30} = \\frac{2}{3}$\n",
    "\n",
    "- 4.4 Faça um diagrama de árvore para a tabela dada colocando nos ramos a probabilidade condicional e começando a árvore com a decisão da máquina de ser elétrica ou manual.\n",
    "\n",
    "![Item 4.4](4_4.jpeg)\n",
    "\n",
    "- 4.5 Repita o item 4.4 começando a árvore com a decisão da máquina ser nova ou usada\n",
    "\n",
    "![Item 4.5](4_5.jpeg)"
   ]
  },
  {
   "cell_type": "markdown",
   "metadata": {},
   "source": [
    "**5 Em uma empresa, clientes são usados para fazer a avaliação preliminar de produtos. No passado, $95\\%$ dos produtos altamente bem-sucedidos recebiam boas revisões, $60\\%$ dos produtos moderadamente bem-sucedidos recebiam boas revisões e $10\\%$ dos produtos ruins recebiam boas revisões. Além disso, $40\\%$ dos produtos tiveram muito sucesso, $35\\%$ tiveram sucesso moderado e $25\\%$ foram produtos ruins.**\n",
    "\n",
    "- 5.1 Qual é a probabilidade de um produto obter uma boa revisão?\n",
    "    ![Item 5.1](5_1.jpeg)\n",
    "\n",
    "    De acordo com a figura acima\n",
    "\n",
    "    $ P(BR) = P(BR|MS) + P(BR|SM) + P(BR|R) = 0.38 + 0.21 + 0.025 = 0.615$\n",
    "\n",
    "    **R=** $61.5\\%$\n",
    "\n",
    "- 5.2 Se um novo produto obtiver uma boa revisão, qual é a probabilidade de que seja um produto de grande sucesso?\n",
    "\n",
    "    $P(MS|BR) = \\frac{P(BR|MS)\\cdot P(MS)}{P(BR)} = \\frac{(0.95) \\cdot (0.4)}{0.615} = \\approx 0.618 = \\approx 61.8\\%$\n",
    "\n",
    "\n",
    "\n",
    "- 5.3 Se um produto não obtiver uma boa revisão, qual é a probabilidade de ser um produto de grande sucesso?\n",
    "\n",
    "    $P(RR) = 1 - P(BR) = 0.385$\n",
    "\n",
    "    $P(MS|RR) = \\frac{P(RR|MS)\\cdot P(MS)}{P(RR)} = \\frac{(0.05) \\cdot (0.4)}{0.385} = \\approx 0.052 = \\approx 5.2\\%$\n",
    "\n",
    "\n"
   ]
  },
  {
   "cell_type": "markdown",
   "metadata": {},
   "source": [
    "**6 Suponha que $2\\%$ dos rolos de tecido de algodão e $3\\%$ dos rolos de tecido de nylon apresentem falha. Um fabricante usa $70\\%$ de rolos de algodão e $30\\%$ de nylon. Qual a probabilidade de que um rolo selecionado randomicamente pelo fabricante tenha falha?**\n",
    "\n",
    "![Item 6](6.jpeg)\n",
    "\n",
    "$P(F) = P(F|A) + P(F|N) = 0.014 + 0.009 = 0.023 = 2.3\\%$"
   ]
  }
 ],
 "metadata": {
  "kernelspec": {
   "display_name": "gans_trajsp3",
   "language": "python",
   "name": "gans_trajsp3"
  },
  "language_info": {
   "codemirror_mode": {
    "name": "ipython",
    "version": 3
   },
   "file_extension": ".py",
   "mimetype": "text/x-python",
   "name": "python",
   "nbconvert_exporter": "python",
   "pygments_lexer": "ipython3",
   "version": "3.7.3"
  },
  "orig_nbformat": 4
 },
 "nbformat": 4,
 "nbformat_minor": 2
}
