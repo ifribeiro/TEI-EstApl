{
 "cells": [
  {
   "cell_type": "markdown",
   "metadata": {},
   "source": [
    "**Nome:** Iran Freitas Ribeiro\n",
    "\n",
    "**Matrícula:** 20212021241588\n",
    "\n",
    "**Disciplina:** TEI - Estatística Aplicada\n",
    "\n",
    "**Professor:** Celso José Munaro"
   ]
  },
  {
   "cell_type": "code",
   "execution_count": 4,
   "metadata": {},
   "outputs": [],
   "source": [
    "import numpy as np\n",
    "import seaborn as sns\n",
    "import matplotlib.pyplot as plt\n",
    "from scipy.stats import norm"
   ]
  },
  {
   "cell_type": "markdown",
   "metadata": {},
   "source": [
    "A variável uniforme utilizada nas questões 1, 2, 3, 4 é definida a seguir"
   ]
  },
  {
   "cell_type": "markdown",
   "metadata": {},
   "source": [
    "**$1.$ Considerando que $N=20$ amostras de $X$ são selecionadas para calcular a média $\\bar{X}$, plote a pdf de $\\bar{X}$**"
   ]
  },
  {
   "cell_type": "code",
   "execution_count": 3,
   "metadata": {},
   "outputs": [],
   "source": [
    "a, b = [1.0, 3.0]\n",
    "X = np.random.uniform(low=a, high=b, size=1000)"
   ]
  },
  {
   "cell_type": "code",
   "execution_count": 12,
   "metadata": {},
   "outputs": [],
   "source": [
    "X_sample = np.random.choice(X, size=20)"
   ]
  },
  {
   "cell_type": "code",
   "execution_count": 15,
   "metadata": {},
   "outputs": [],
   "source": [
    "xis = np.linspace(1.0,3.0,20)\n",
    "pdf = [norm.pdf(xi, loc=np.mean(X_sample), scale=np.std(X)) for xi in xis]"
   ]
  },
  {
   "cell_type": "code",
   "execution_count": 16,
   "metadata": {},
   "outputs": [
    {
     "data": {
      "image/png": "[encoded data removed]",
      "text/plain": [
       "<Figure size 432x288 with 1 Axes>"
      ]
     },
     "metadata": {
      "needs_background": "light"
     },
     "output_type": "display_data"
    }
   ],
   "source": [
    "plt.plot(xis, pdf)\n",
    "plt.title(\"Figura 1\")\n",
    "plt.xlabel(\"x\")\n",
    "plt.ylabel(\"pdf (x)\");"
   ]
  },
  {
   "cell_type": "markdown",
   "metadata": {},
   "source": [
    "**$2.$ Usando a pdf do item $1$, escolha um nível de confiança ($1$ − $\\alpha$) para delimitar as regiões de aceitação e regiões críticas, mostrando-as no gráfico da pdf de $\\bar{X}$**"
   ]
  },
  {
   "cell_type": "markdown",
   "metadata": {},
   "source": [
    "O nível de confiança utilizado será de $97\\%$, ou seja, $\\alpha=0.03$"
   ]
  },
  {
   "cell_type": "code",
   "execution_count": 11,
   "metadata": {},
   "outputs": [],
   "source": [
    "def CI(muX, sigma, n, alpha=0.05):\n",
    "    \"\"\"\n",
    "    Calcula o intervalo de confiância de uma distribuição normal\n",
    "    \"\"\"\n",
    "    # percentage point da distribuição normal\n",
    "    # essa parte é ligeiramente diferente da definição,\n",
    "    # pois zalpha_2 retorna um valor negativo\n",
    "    zalpha_2  = norm.ppf(alpha/2)\n",
    "    # limite superior\n",
    "    ci_d = muX - zalpha_2*sigma/np.sqrt(n)\n",
    "    # limite inferior\n",
    "    ci_l = muX + zalpha_2*sigma/np.sqrt(n)\n",
    "    return ci_l, ci_d"
   ]
  },
  {
   "cell_type": "code",
   "execution_count": 20,
   "metadata": {},
   "outputs": [],
   "source": [
    "ci = CI(muX=np.mean(X_sample), sigma=np.std(X), alpha=0.03, n=20)"
   ]
  },
  {
   "cell_type": "code",
   "execution_count": 21,
   "metadata": {},
   "outputs": [
    {
     "data": {
      "text/plain": [
       "(1.8242398705887617, 2.377098802787978)"
      ]
     },
     "execution_count": 21,
     "metadata": {},
     "output_type": "execute_result"
    }
   ],
   "source": [
    "ci"
   ]
  },
  {
   "cell_type": "code",
   "execution_count": 22,
   "metadata": {},
   "outputs": [
    {
     "data": {
      "image/png": "[encoded data removed]",
      "text/plain": [
       "<Figure size 432x288 with 1 Axes>"
      ]
     },
     "metadata": {
      "needs_background": "light"
     },
     "output_type": "display_data"
    }
   ],
   "source": [
    "fig, ax = plt.subplots()\n",
    "\n",
    "lim_inf, lim_sup = [np.min(pdf), np.max(pdf)]\n",
    "one_x12, one_y12 = [ci[0], ci[0]], [lim_inf, lim_sup-0.02]\n",
    "two_x12, two_y12 = [ci[1], ci[1]], [lim_inf, lim_sup-0.02]\n",
    "ax.plot(one_x12, one_y12, two_x12, two_y12, marker = 'o', color='red')\n",
    "ax.plot(xis, pdf)\n",
    "ax.set_title(\"Figura 1\")\n",
    "ax.set_xlabel(\"x\")\n",
    "ax.set_ylabel(\"pdf (x)\");"
   ]
  },
  {
   "cell_type": "markdown",
   "metadata": {},
   "source": [
    "**$3.$ Usando as definições da atividade $2$, sugira um teste de hipótese para a média de modo que se tenha probabilidade de erro tipo I igual a $\\alpha$ e probabilidade de erro tipo II $\\beta = 0.1$. Repita para $\\beta = 0.5$**"
   ]
  },
  {
   "cell_type": "code",
   "execution_count": null,
   "metadata": {},
   "outputs": [],
   "source": []
  },
  {
   "cell_type": "markdown",
   "metadata": {},
   "source": [
    "**$4.$ Altere $N$ para aumentar o poder de teste de $50\\%$ para $75\\%$ ($\\beta = 0.5$ para $\\beta = 0.25$). Ilustre a solução graficamente na pdf.**"
   ]
  },
  {
   "cell_type": "code",
   "execution_count": null,
   "metadata": {},
   "outputs": [],
   "source": []
  },
  {
   "cell_type": "markdown",
   "metadata": {},
   "source": [
    "**$5.$ Sejam os dados $X$ gerados na atividade $1$ do EPC6: cálculo de $50$ médias usando $20$ amostras selecionadas aleatoriamente de $X$. Use o teste z (ztest) para verificar se a variável aleatória 𝑋̅ tem distribuição normal com a média e desvio padrão conhecidos da população $X$. Interprete as saídas do teste: h ($0$ ou $1$), valor-p, CI, zval (estatística de teste), e mostre graficamente estas informações na pdf e complemente com a função normplot**"
   ]
  },
  {
   "cell_type": "code",
   "execution_count": null,
   "metadata": {},
   "outputs": [],
   "source": []
  }
 ],
 "metadata": {
  "kernelspec": {
   "display_name": "Python 3.7.3 ('gans_trajsp3')",
   "language": "python",
   "name": "python3"
  },
  "language_info": {
   "codemirror_mode": {
    "name": "ipython",
    "version": 3
   },
   "file_extension": ".py",
   "mimetype": "text/x-python",
   "name": "python",
   "nbconvert_exporter": "python",
   "pygments_lexer": "ipython3",
   "version": "3.7.3"
  },
  "orig_nbformat": 4,
  "vscode": {
   "interpreter": {
    "hash": "72fba674bb5c41e906a02e56863160eeb44778396691dee4e92ebdc1318766f3"
   }
  }
 },
 "nbformat": 4,
 "nbformat_minor": 2
}
