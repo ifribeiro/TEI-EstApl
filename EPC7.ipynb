{
 "cells": [
  {
   "cell_type": "markdown",
   "metadata": {},
   "source": [
    "**Nome:** Iran Freitas Ribeiro\n",
    "\n",
    "**Matrícula:** 20212021241588\n",
    "\n",
    "**Disciplina:** TEI - Estatística Aplicada\n",
    "\n",
    "**Professor:** Celso José Munaro"
   ]
  },
  {
   "cell_type": "code",
   "execution_count": 1,
   "metadata": {},
   "outputs": [],
   "source": [
    "import numpy as np\n",
    "from scipy.stats import norm\n",
    "import matplotlib.pyplot as plt\n",
    "from IPython.display import Markdown as md"
   ]
  },
  {
   "cell_type": "markdown",
   "metadata": {},
   "source": [
    "A variável uniforme utilizada nas questões 1, 2, 3, 4 é definida a seguir"
   ]
  },
  {
   "cell_type": "markdown",
   "metadata": {},
   "source": [
    "**$1.$ Considerando que $N=20$ amostras de $X$ são selecionadas para calcular a média $\\bar{X}$, plote a pdf de $\\bar{X}$**"
   ]
  },
  {
   "cell_type": "code",
   "execution_count": 2,
   "metadata": {},
   "outputs": [
    {
     "data": {
      "text/plain": [
       "0.13058245977725402"
      ]
     },
     "execution_count": 2,
     "metadata": {},
     "output_type": "execute_result"
    }
   ],
   "source": [
    "np.random.seed(42)\n",
    "a, b = [1.0, 3.0]\n",
    "X = np.random.uniform(low=a, high=b, size=1000)\n",
    "X_sample = np.random.choice(X, size=20)\n",
    "# desvio padrão da amostra\n",
    "std_a = np.std(X)/np.sqrt(20)\n",
    "std_a"
   ]
  },
  {
   "cell_type": "code",
   "execution_count": 3,
   "metadata": {},
   "outputs": [],
   "source": [
    "xis = np.linspace(1.0,3.0,20)\n",
    "pdf = [norm.pdf(xi, loc=np.mean(X_sample), scale=std_a) for xi in xis]"
   ]
  },
  {
   "cell_type": "code",
   "execution_count": 4,
   "metadata": {},
   "outputs": [
    {
     "data": {
      "image/png": "[encoded data removed]",
      "text/plain": [
       "<Figure size 432x288 with 1 Axes>"
      ]
     },
     "metadata": {
      "needs_background": "light"
     },
     "output_type": "display_data"
    }
   ],
   "source": [
    "plt.plot(xis, pdf)\n",
    "plt.title(\"Figura 1\")\n",
    "plt.xlabel(\"x\")\n",
    "plt.ylabel(\"pdf (x)\");"
   ]
  },
  {
   "cell_type": "markdown",
   "metadata": {},
   "source": [
    "**$2.$ Usando a pdf do item $1$, escolha um nível de confiança ($1$ − $\\alpha$) para delimitar as regiões de aceitação e regiões críticas, mostrando-as no gráfico da pdf de $\\bar{X}$**"
   ]
  },
  {
   "cell_type": "markdown",
   "metadata": {},
   "source": [
    "O nível de confiança utilizado será de $97\\%$, ou seja, $\\alpha=0.03$"
   ]
  },
  {
   "cell_type": "code",
   "execution_count": 6,
   "metadata": {},
   "outputs": [],
   "source": [
    "def CI(muX, sigma, n, alpha=0.05):\n",
    "    \"\"\"\n",
    "    Calcula o intervalo de confiância de uma distribuição normal\n",
    "    \"\"\"\n",
    "    # percentage point da distribuição normal\n",
    "    # essa parte é ligeiramente diferente da definição,\n",
    "    # pois zalpha_2 retorna um valor negativo\n",
    "    zalpha_2  = norm.ppf(alpha/2)\n",
    "    # limite superior\n",
    "    ci_d = muX - zalpha_2*sigma/np.sqrt(n)\n",
    "    # limite inferior\n",
    "    ci_l = muX + zalpha_2*sigma/np.sqrt(n)\n",
    "    return ci_l, ci_d"
   ]
  },
  {
   "cell_type": "code",
   "execution_count": 7,
   "metadata": {},
   "outputs": [
    {
     "data": {
      "text/plain": [
       "(1.8645124830445754, 2.4312639619324594)"
      ]
     },
     "execution_count": 7,
     "metadata": {},
     "output_type": "execute_result"
    }
   ],
   "source": [
    "ci = CI(muX=np.mean(X_sample), sigma=np.std(X), alpha=0.03, n=20)\n",
    "ci"
   ]
  },
  {
   "cell_type": "code",
   "execution_count": 8,
   "metadata": {},
   "outputs": [
    {
     "data": {
      "image/png": "[encoded data removed]",
      "text/plain": [
       "<Figure size 432x288 with 1 Axes>"
      ]
     },
     "metadata": {
      "needs_background": "light"
     },
     "output_type": "display_data"
    }
   ],
   "source": [
    "fig, ax = plt.subplots()\n",
    "\n",
    "lim_inf, lim_sup = [np.min(pdf), np.max(pdf)]\n",
    "one_x12, one_y12 = [ci[0], ci[0]], [lim_inf, lim_sup-0.02]\n",
    "two_x12, two_y12 = [ci[1], ci[1]], [lim_inf, lim_sup-0.02]\n",
    "ax.plot(one_x12, one_y12, two_x12, two_y12, marker = 'o', color='red')\n",
    "ax.plot(xis, pdf)\n",
    "ax.set_title(\"Figura 1\")\n",
    "ax.set_xlabel(\"x\")\n",
    "ax.set_ylabel(\"pdf (x)\");"
   ]
  },
  {
   "cell_type": "markdown",
   "metadata": {},
   "source": [
    "**$3.$ Usando as definições da atividade $2$, sugira um teste de hipótese para a média de modo que se tenha probabilidade de erro tipo I igual a $\\alpha$ e probabilidade de erro tipo II $\\beta = 0.1$. Repita para $\\beta = 0.5$**"
   ]
  },
  {
   "cell_type": "code",
   "execution_count": 9,
   "metadata": {},
   "outputs": [
    {
     "data": {
      "text/plain": [
       "2.1478882224885174"
      ]
     },
     "execution_count": 9,
     "metadata": {},
     "output_type": "execute_result"
    }
   ],
   "source": [
    "muS = np.mean(X_sample)\n",
    "muS"
   ]
  },
  {
   "cell_type": "markdown",
   "metadata": {},
   "source": [
    "$H_0: \\mu=1.99$\n",
    "\n",
    "$H_1: \\mu \\neq 1.99$"
   ]
  },
  {
   "cell_type": "code",
   "execution_count": 12,
   "metadata": {},
   "outputs": [
    {
     "data": {
      "text/plain": [
       "(-2.1700903775845615, 2.1700903775845615)"
      ]
     },
     "execution_count": 12,
     "metadata": {},
     "output_type": "execute_result"
    }
   ],
   "source": [
    "z1 = (ci[0]-muS)/std_a\n",
    "z2 = (ci[1]-muS)/std_a\n",
    "z1,z2"
   ]
  },
  {
   "cell_type": "code",
   "execution_count": 10,
   "metadata": {},
   "outputs": [
    {
     "data": {
      "text/plain": [
       "-2.1700903775845606"
      ]
     },
     "execution_count": 10,
     "metadata": {},
     "output_type": "execute_result"
    }
   ],
   "source": [
    "# pz do limite inferior p/ que o alpha seja igual a 0.03 (0.015 de um lado e de outro)\n",
    "pz = norm.ppf(0.015)\n",
    "pz"
   ]
  },
  {
   "cell_type": "code",
   "execution_count": 11,
   "metadata": {},
   "outputs": [
    {
     "data": {
      "text/markdown": [
       "Para que a probabilidade do Erro tipo I seja igual a alpha (valor definido para intervalo de confiança), $\\mu < 1.87$ e $\\mu > 2.43$"
      ],
      "text/plain": [
       "<IPython.core.display.Markdown object>"
      ]
     },
     "execution_count": 11,
     "metadata": {},
     "output_type": "execute_result"
    }
   ],
   "source": [
    "novo_ci = [0,0]\n",
    "novoZ = -2.17\n",
    "novo_ci[0] = novoZ*std_a+np.mean(X_sample).round(2)\n",
    "novo_ci[1] = -novoZ*std_a+np.mean(X_sample).round(2)\n",
    "novo_ci\n",
    "\n",
    "md(f\"Para que a probabilidade do Erro tipo I seja igual a alpha (valor definido para intervalo de confiança), $\\mu < {novo_ci[0].round(2)}$ e $\\mu > {novo_ci[1].round(2)}$\")"
   ]
  },
  {
   "cell_type": "markdown",
   "metadata": {},
   "source": [
    "Para obter $\\beta = 0.1$"
   ]
  },
  {
   "cell_type": "code",
   "execution_count": 12,
   "metadata": {},
   "outputs": [],
   "source": [
    "muXb = 2.43"
   ]
  },
  {
   "cell_type": "code",
   "execution_count": 13,
   "metadata": {},
   "outputs": [
    {
     "data": {
      "text/plain": [
       "(2.366635258342908, 2.4933647416570923)"
      ]
     },
     "execution_count": 13,
     "metadata": {},
     "output_type": "execute_result"
    }
   ],
   "source": [
    "# TODO: REFAZER ESSA PARTE VENDO NO GRÁFICO\n",
    "ci_b = CI(muX=muXb, sigma=std_a, alpha=0.03, n=20)\n",
    "ci_b"
   ]
  },
  {
   "cell_type": "markdown",
   "metadata": {},
   "source": [
    "$\\beta = P(2.99 \\le \\bar{X} \\le 3.54)$, quando $\\mu = 3.26$"
   ]
  },
  {
   "cell_type": "code",
   "execution_count": 62,
   "metadata": {},
   "outputs": [
    {
     "data": {
      "text/plain": [
       "(-0.40806562540033636, 0.5624282949191157)"
      ]
     },
     "execution_count": 62,
     "metadata": {},
     "output_type": "execute_result"
    }
   ],
   "source": [
    "z3 = (ci_b[0]-muXb)/std_a\n",
    "z4 = (ci_b[1]-muXb)/std_a\n",
    "z3, z4"
   ]
  },
  {
   "cell_type": "code",
   "execution_count": 15,
   "metadata": {},
   "outputs": [
    {
     "data": {
      "text/plain": [
       "-1.2815515655446004"
      ]
     },
     "execution_count": 15,
     "metadata": {},
     "output_type": "execute_result"
    }
   ],
   "source": [
    "pz_beta = norm.ppf(0.1)\n",
    "pz_beta"
   ]
  },
  {
   "cell_type": "code",
   "execution_count": 16,
   "metadata": {},
   "outputs": [
    {
     "data": {
      "text/plain": [
       "[2.2626518442397954, 2.597348155760205]"
      ]
     },
     "execution_count": 16,
     "metadata": {},
     "output_type": "execute_result"
    }
   ],
   "source": [
    "novo_ci_b1 = [0,0]\n",
    "novoZ_b1 = pz_beta\n",
    "novo_ci_b1[0] = novoZ_b1*std_a + muXb\n",
    "novo_ci_b1[1] = -novoZ_b1*std_a + muXb\n",
    "novo_ci_b1"
   ]
  },
  {
   "cell_type": "markdown",
   "metadata": {},
   "source": [
    "Para que a probabilidade do Erro tipo II seja igual a $0.1$, $2.14 \\leq \\bar{X} \\leq 2.47$, quando $\\mu=2.32$"
   ]
  },
  {
   "cell_type": "code",
   "execution_count": 17,
   "metadata": {},
   "outputs": [],
   "source": [
    "pdf_2 = [norm.pdf(xi, loc=muXb, scale=std_a) for xi in xis]"
   ]
  },
  {
   "cell_type": "code",
   "execution_count": 18,
   "metadata": {},
   "outputs": [
    {
     "data": {
      "image/png": "[encoded data removed]",
      "text/plain": [
       "<Figure size 432x288 with 1 Axes>"
      ]
     },
     "metadata": {
      "needs_background": "light"
     },
     "output_type": "display_data"
    }
   ],
   "source": [
    "fig, ax = plt.subplots()\n",
    "\n",
    "lim_inf, lim_sup = [np.min(pdf), np.max(pdf)]\n",
    "one_x12, one_y12 = [novo_ci_b1[0], novo_ci_b1[0]], [lim_inf, lim_sup-0.02]\n",
    "two_x12, two_y12 = [novo_ci_b1[1], novo_ci_b1[1]], [lim_inf, lim_sup-0.02]\n",
    "ax.plot(one_x12, one_y12, two_x12, two_y12, marker = 'o', color='red')\n",
    "ax.plot(xis, pdf)\n",
    "ax.plot(xis, pdf_2)\n",
    "ax.set_title(\"Figura 1\")\n",
    "ax.set_xlabel(\"x\")\n",
    "ax.set_ylabel(\"pdf (x)\");"
   ]
  },
  {
   "cell_type": "markdown",
   "metadata": {},
   "source": [
    "Uma alternativa para aumentar o Erro II é diminuir o Erro I. Isso pode ser feito ajustando a região de aceitação."
   ]
  },
  {
   "cell_type": "code",
   "execution_count": 25,
   "metadata": {},
   "outputs": [
    {
     "data": {
      "text/plain": [
       "2.1478882224885174"
      ]
     },
     "execution_count": 25,
     "metadata": {},
     "output_type": "execute_result"
    }
   ],
   "source": []
  },
  {
   "cell_type": "code",
   "execution_count": 90,
   "metadata": {},
   "outputs": [
    {
     "data": {
      "text/plain": [
       "[1.866624260556058, 2.433375739443942]"
      ]
     },
     "execution_count": 90,
     "metadata": {},
     "output_type": "execute_result"
    }
   ],
   "source": [
    "# pz do limite inferior p/ que o alpha seja igual a 0.03 (0.015 de um lado e de outro)\n",
    "pz_a2 = norm.ppf(0.015)\n",
    "novo_ci2 = [0,0]\n",
    "novoZ2 = pz_a2\n",
    "novo_ci2[0] = novoZ2*std_a+np.mean(X_sample).round(2)\n",
    "novo_ci2[1] = -novoZ2*std_a+np.mean(X_sample).round(2)\n",
    "novo_ci2"
   ]
  },
  {
   "cell_type": "code",
   "execution_count": 91,
   "metadata": {},
   "outputs": [
    {
     "data": {
      "text/plain": [
       "-2.1700903775845606"
      ]
     },
     "execution_count": 91,
     "metadata": {},
     "output_type": "execute_result"
    }
   ],
   "source": [
    "pz_a2"
   ]
  },
  {
   "cell_type": "code",
   "execution_count": 39,
   "metadata": {},
   "outputs": [
    {
     "data": {
      "text/plain": [
       "-3.090232306167813"
      ]
     },
     "execution_count": 39,
     "metadata": {},
     "output_type": "execute_result"
    }
   ],
   "source": [
    "pz_a2"
   ]
  },
  {
   "cell_type": "code",
   "execution_count": 44,
   "metadata": {},
   "outputs": [
    {
     "data": {
      "text/plain": [
       "2.1478882224885174"
      ]
     },
     "execution_count": 44,
     "metadata": {},
     "output_type": "execute_result"
    }
   ],
   "source": [
    "muS"
   ]
  },
  {
   "cell_type": "code",
   "execution_count": null,
   "metadata": {},
   "outputs": [],
   "source": []
  },
  {
   "cell_type": "code",
   "execution_count": 97,
   "metadata": {},
   "outputs": [
    {
     "name": "stdout",
     "output_type": "stream",
     "text": [
      "2.4967676767676767\n"
     ]
    }
   ],
   "source": [
    "# novo_alpha=0.5\n",
    "# novo_n = 900\n",
    "# novo_stda = np.std(X)/np.sqrt(novo_n)\n",
    "possiveis_mu = np.linspace(2.46,2.59,100)\n",
    "for pmu in possiveis_mu:\n",
    "    rg_b2 = CI(muX=pmu, sigma=std_a, alpha=0.03, n=20)\n",
    "    z1 = (rg_b2[0]-novo_ci2[1])/std_a\n",
    "    pbeta = norm.cdf(z1)\n",
    "    if (np.isclose([0.5], [np.round(pbeta,3)])):\n",
    "        print(pmu)\n",
    "        break"
   ]
  },
  {
   "cell_type": "code",
   "execution_count": 101,
   "metadata": {},
   "outputs": [
    {
     "data": {
      "text/plain": [
       "2.4967676767676767"
      ]
     },
     "execution_count": 101,
     "metadata": {},
     "output_type": "execute_result"
    }
   ],
   "source": [
    "pmu"
   ]
  },
  {
   "cell_type": "code",
   "execution_count": 72,
   "metadata": {},
   "outputs": [
    {
     "data": {
      "text/plain": [
       "array([ True])"
      ]
     },
     "execution_count": 72,
     "metadata": {},
     "output_type": "execute_result"
    }
   ],
   "source": [
    "np.isclose([0.5], [0.])"
   ]
  },
  {
   "cell_type": "code",
   "execution_count": 21,
   "metadata": {},
   "outputs": [
    {
     "data": {
      "text/plain": [
       "(2.1478882224885174, 2.1487635340876814)"
      ]
     },
     "execution_count": 21,
     "metadata": {},
     "output_type": "execute_result"
    }
   ],
   "source": [
    "rg_b2"
   ]
  },
  {
   "cell_type": "code",
   "execution_count": 87,
   "metadata": {},
   "outputs": [
    {
     "data": {
      "text/plain": [
       "[1.8462197723101614, 2.4537802276898386]"
      ]
     },
     "execution_count": 87,
     "metadata": {},
     "output_type": "execute_result"
    }
   ],
   "source": [
    "novo_ci2"
   ]
  },
  {
   "cell_type": "code",
   "execution_count": 100,
   "metadata": {},
   "outputs": [
    {
     "data": {
      "text/plain": [
       "(2.4334029351105846, 2.560132418424769)"
      ]
     },
     "execution_count": 100,
     "metadata": {},
     "output_type": "execute_result"
    }
   ],
   "source": [
    "rg_b2"
   ]
  },
  {
   "cell_type": "code",
   "execution_count": 102,
   "metadata": {},
   "outputs": [
    {
     "data": {
      "image/png": "[encoded data removed]",
      "text/plain": [
       "<Figure size 432x288 with 1 Axes>"
      ]
     },
     "metadata": {
      "needs_background": "light"
     },
     "output_type": "display_data"
    }
   ],
   "source": [
    "fig, ax = plt.subplots()\n",
    "\n",
    "lim_inf, lim_sup = [np.min(pdf), np.max(pdf)]\n",
    "\n",
    "o_x12, o_y12 = [novo_ci2[0], novo_ci2[0]], [lim_inf, lim_sup-0.02]\n",
    "t_x12, t_y12 = [novo_ci2[1], novo_ci2[1]], [lim_inf, lim_sup-0.02]\n",
    "\n",
    "one_x12, one_y12 = [rg_b2[0], rg_b2[0]], [lim_inf, lim_sup-0.02]\n",
    "two_x12, two_y12 = [rg_b2[1], rg_b2[1]], [lim_inf, lim_sup-0.02]\n",
    "ax.plot(o_x12, o_y12, t_x12, t_y12, marker = 'o', color='red')\n",
    "ax.plot(one_x12, one_y12, two_x12, two_y12, marker = 'o', color='purple')\n",
    "ax.plot(xis, pdf)\n",
    "pdf_2 = [norm.pdf(xi, loc=pmu, scale=std_a) for xi in xis]\n",
    "ax.plot(xis, pdf_2)\n",
    "ax.set_title(\"Figura 1\")\n",
    "ax.set_xlabel(\"x\")\n",
    "ax.set_ylabel(\"pdf (x)\");"
   ]
  },
  {
   "cell_type": "markdown",
   "metadata": {},
   "source": [
    "Para que a probabilidade do Erro tipo II seja igual a $0.5$, $-2.17 \\leq \\bar{X} \\leq 2.17$, quando $\\mu=2.17$"
   ]
  },
  {
   "cell_type": "markdown",
   "metadata": {},
   "source": [
    "**$4.$ Altere $N$ para aumentar o poder de teste de $50\\%$ para $75\\%$ ($\\beta = 0.5$ para $\\beta = 0.25$). Ilustre a solução graficamente na pdf.**"
   ]
  },
  {
   "cell_type": "code",
   "execution_count": 103,
   "metadata": {},
   "outputs": [
    {
     "data": {
      "text/plain": [
       "2.4967676767676767"
      ]
     },
     "execution_count": 103,
     "metadata": {},
     "output_type": "execute_result"
    }
   ],
   "source": [
    "pmu"
   ]
  },
  {
   "cell_type": "code",
   "execution_count": 118,
   "metadata": {},
   "outputs": [
    {
     "name": "stdout",
     "output_type": "stream",
     "text": [
      "73\n",
      "0.7496761655597068\n"
     ]
    }
   ],
   "source": [
    "for n in range(20,100):\n",
    "    novo_stda = np.std(X)/np.sqrt(n)\n",
    "    rg_bn = CI(muX=pmu, sigma=novo_stda, alpha=0.03, n=n)\n",
    "    z1 = (rg_bn[0]-novo_ci2[1])/novo_stda\n",
    "    pbeta = norm.cdf(z1)\n",
    "    if (np.isclose([0.75],[np.round(pbeta,3)])):\n",
    "        print(n)\n",
    "        print (pbeta)"
   ]
  },
  {
   "cell_type": "markdown",
   "metadata": {},
   "source": [
    "**$5.$ Sejam os dados $X$ gerados na atividade $1$ do EPC6: cálculo de $50$ médias usando $20$ amostras selecionadas aleatoriamente de $X$. Use o teste z (ztest) para verificar se a variável aleatória 𝑋̅ tem distribuição normal com a média e desvio padrão conhecidos da população $X$. Interprete as saídas do teste: h ($0$ ou $1$), valor-p, CI, zval (estatística de teste), e mostre graficamente estas informações na pdf e complemente com a função normplot**"
   ]
  },
  {
   "cell_type": "code",
   "execution_count": null,
   "metadata": {},
   "outputs": [],
   "source": []
  }
 ],
 "metadata": {
  "kernelspec": {
   "display_name": "Python 3.7.3 ('gans_trajsp3')",
   "language": "python",
   "name": "python3"
  },
  "language_info": {
   "codemirror_mode": {
    "name": "ipython",
    "version": 3
   },
   "file_extension": ".py",
   "mimetype": "text/x-python",
   "name": "python",
   "nbconvert_exporter": "python",
   "pygments_lexer": "ipython3",
   "version": "3.7.3"
  },
  "orig_nbformat": 4,
  "vscode": {
   "interpreter": {
    "hash": "72fba674bb5c41e906a02e56863160eeb44778396691dee4e92ebdc1318766f3"
   }
  }
 },
 "nbformat": 4,
 "nbformat_minor": 2
}
