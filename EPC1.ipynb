{
 "cells": [
  {
   "cell_type": "markdown",
   "metadata": {},
   "source": [
    "# 7)"
   ]
  },
  {
   "cell_type": "markdown",
   "metadata": {},
   "source": [
    "No geral, apenas $33\\%$ da população acha justo que clínicas privadas possam oferecer vacinas para quem possa pagar. Essa porcentagem é levemente maior entre os homens ($34\\%$) e levemente menor entre as mulheres $32\\%$. Considerando a faixa etária, a porcentagem é maior entre pessoas de $45$ a $59$ anos ($44\\%$). AS regiões com maior porcentagem são Sul e Norte, com $50\\%$ e $40\\%$, respectivamente. Nota-se que as duas regiões possuem uma porcentagem equivalente às outras 3 regiões somadas Sudeste ($29\\%$), Nordeste($28\\%$) e Centro-oeste ($30\\%$). A porcentagem entre pessoas com ensino superior é de $47\\%$, apenas $14\\%$ de diferença entre os dois outros níveis de escolaridade considerados. Por fim, a maioria ($60\\%$) das pessoas com renda superior à 10 salários mínimos acha justo que clínicas privadas possam oferecer vacinas para quem possa pagar. Como era de se esperar, considerando a renda, a porcentagem de pessoas que acham justo tende a ser menor à medida que o intervalo da renda diminui."
   ]
  },
  {
   "cell_type": "code",
   "execution_count": 4,
   "metadata": {},
   "outputs": [
    {
     "data": {
      "text/plain": [
       "8.0"
      ]
     },
     "execution_count": 4,
     "metadata": {},
     "output_type": "execute_result"
    }
   ],
   "source": [
    "32/4"
   ]
  },
  {
   "cell_type": "code",
   "execution_count": null,
   "metadata": {},
   "outputs": [],
   "source": []
  }
 ],
 "metadata": {
  "interpreter": {
   "hash": "073df714236677e0b8b6e001dd3f94f35e3f36cdcb7f611c8d5653872113c792"
  },
  "kernelspec": {
   "display_name": "Python 3.8.10 ('gans_venvp3')",
   "language": "python",
   "name": "python3"
  },
  "language_info": {
   "codemirror_mode": {
    "name": "ipython",
    "version": 3
   },
   "file_extension": ".py",
   "mimetype": "text/x-python",
   "name": "python",
   "nbconvert_exporter": "python",
   "pygments_lexer": "ipython3",
   "version": "3.8.10"
  },
  "orig_nbformat": 4
 },
 "nbformat": 4,
 "nbformat_minor": 2
}
