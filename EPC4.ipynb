{
 "cells": [
  {
   "cell_type": "markdown",
   "metadata": {},
   "source": [
    "**Nome:** Iran Freitas Ribeiro\n",
    "\n",
    "**Matrícula:** 20212021241588\n",
    "\n",
    "**Disciplina:** TEI - Estatística Aplicada\n",
    "\n",
    "**Professor:** Celso José Munaro"
   ]
  },
  {
   "cell_type": "markdown",
   "metadata": {},
   "source": [
    "**1. Para cada cenário descrito abaixo, indique se a distribuição binomial é ou não um modelo razoável para a variável aleatória X e por quê. Informe que suposições foram feitas.**"
   ]
  },
  {
   "cell_type": "markdown",
   "metadata": {},
   "source": [
    "- 1.1 Um processo de produção produz milhares de transdutores de temperatura. Seja $X$ o número de transdutores não conformes em uma amostra de tamanho $30$ selecionados aleatoriamente no processo.\n",
    "\n",
    "    - **R**: Sim, seguindo as suposições:\n",
    "    \n",
    "        - O experimento pode ser visualizado como uma série de tentativas com duas saídas possíveis: transdutor não conforme e transdutor conforme.\n",
    "        - A produção de um transdutor **não conforme** é aleatória, ou seja, o fato de o processo produzir um transdutor **não conforme**, não influencia na produção de outros transdutores também **não conformes**. Isso garante que cada tentativa é **independente**.\n",
    "        - A máquina que produz os transdutores funciona normalmente, de forma que a probabilidade de que um transdutor produzido seja **não conforme** é a mesma para cada transdutor."
   ]
  },
  {
   "cell_type": "markdown",
   "metadata": {},
   "source": [
    "- 1.2 Em um lote de $50$ transdutores de temperatura, uma amostra de tamanho 30 é selecionada sem reposição. Seja $X$ o número de transdutores não conformes na amostra.\n",
    "\n",
    "    - **R**: Não. Como cada tentativa é feita sem reposição, as probabibilidades após cada tentativa são diferentes. Ou seja, as tentativas não são independentes."
   ]
  },
  {
   "cell_type": "markdown",
   "metadata": {},
   "source": [
    "- 1.3 Uma operação de enchimento tenta encher os vasilhames de detergente com o peso anunciado. Seja $X$ o número de vasilhames que não são enchidos o suficiente.\n",
    "\n",
    "    - **R**: Sim, seguindo as suposições:\n",
    "        - Cada tentativa de enchimento do vasilhame pode resultar em dois resultados: enchidos o suficiente e não enchidos o suficiente\n",
    "        - Cada tentativa de enchimento de um vasilhame é independente. Ou seja, o vasilhame enchido corretamente não garante que o próximo também o será.\n",
    "        - A operação de enchimento possui a mesma probabilidade de sucesso (ou não) para cada vasilhame              \n"
   ]
  },
  {
   "cell_type": "markdown",
   "metadata": {},
   "source": [
    "**2 Obtenha a função de distribuição cumulativa de uma variável aleatória binomial com $𝑛 = 3$ e $𝑝 = 0.25$**"
   ]
  },
  {
   "cell_type": "markdown",
   "metadata": {},
   "source": [
    "$P(X=x) = \\binom{n}{x}\\times0.25^{x}\\times(0.75)^{3-x}$\n",
    "\n",
    "\\begin{align*}\n",
    "P(X=0) & = \\binom{3}{0}\\times0.25^0\\times(0.75)^{3-0}\\\\\n",
    "& = \\frac{3!}{0!3!}\\times 1 \\times 0.421875&\\\\\n",
    "& = \\frac{6}{6}\\times 1 \\times 0.421875\\\\\n",
    "& = 0.421875\n",
    "\\end{align*}\n",
    "\n",
    "\\begin{align*}\n",
    "P(X=1) & = \\binom{3}{1}\\times0.25^1\\times(0.75)^{3-1}\\\\\n",
    "& = \\binom{3}{1}\\times0.25\\times(0.75)^{2}\\\\\n",
    "& = \\frac{3!}{1!2!}\\times 0.25 \\times 0.5625&\\\\\n",
    "& = \\frac{6}{2}\\times 0.140625\\\\\n",
    "& = 0.421875\n",
    "\\end{align*}\n",
    "\n",
    "\\begin{align*}\n",
    "P(X=2) & = \\binom{3}{2}\\times0.25^2\\times(0.75)^{3-2}\\\\\n",
    "& = \\frac{3!}{2!1!}\\times 0.046875&\\\\\n",
    "& = 3 \\times 0.046875&\\\\\n",
    "& = 0.140625\n",
    "\\end{align*} \n",
    "\n",
    "\\begin{align*}\n",
    "P(X=3) & = \\binom{3}{3}\\times0.25^3\\times(0.75)^{3-3}\\\\\n",
    "& = \\frac{3!}{3!0!}\\times 0.015625 \\times 1&\\\\\n",
    "& = 0.015625\n",
    "\\end{align*} "
   ]
  },
  {
   "cell_type": "markdown",
   "metadata": {},
   "source": [
    "Assim, a função de distribuição cumulativa pode ser obtida com:\n",
    "\n",
    "\n",
    "\\begin{align}\n",
    "f(x) = \\left\\{\n",
    "\\begin{array}{cl}\n",
    "  0 & x < 0 \\\\\n",
    "  0.421875 & 0 \\le x < 1\\\\\n",
    "  0.84375 & 1 \\le x < 2\\\\\n",
    "  0.984375 & 2 \\le x < 3\\\\\n",
    "  1 & x \\ge 3.\n",
    "\\end{array}\n",
    "\\right.\n",
    "\\end{align}"
   ]
  },
  {
   "cell_type": "markdown",
   "metadata": {},
   "source": [
    "**3 Como nem todos os passageiros da companhia aérea comparecem, uma companhia aérea vende 125 bilhetes para um voo que comporta apenas 120 passageiros. A probabilidade de um passageiro não aparecer é de 0.10. Os passageiros se comportam de maneira independente.**"
   ]
  },
  {
   "cell_type": "markdown",
   "metadata": {},
   "source": [
    "- 3.1 Qual é a probabilidade de cada passageiro que aparecer conseguir voar?\n",
    "\n",
    "Como a empresa vende bilhetes à mais, tem-se que o número máximo de passageiros que pode aparecer é $n = 125$;\n",
    "A probabilidade de $X$ passageiros não aparecerem é:\n",
    "\n",
    "$P(X=x) = \\binom{125}{x}0.1^{x}(0.9)^{125-x}$\n",
    "\n",
    "Para que cada passageiro que chegue consiga voar, $5$ outros passageiros precisam faltar. Assim, sabendo-se a probabilidade de $5$ não aparecerem, é possível saber a probabilidade dos outros $120$ que aparecerem conseguirem voar. Fazendo $x=5$:\n",
    "\n",
    "\\begin{align*}\n",
    "P(X=5) & = \\binom{125}{5}0.1^{5}(0.9)^{120}&\\\\\n",
    "& = \\frac{125!}{5!120!}0.1^{5}(0.9)^{120}&\\\\\n",
    "& = \\frac{125 \\times 124 \\times 123 \\times 122 \\times 121 \\times \\cancel{120!}}{5!\\cancel{120!}}0.1^{5}(0.9)^{120}&\\\\\n",
    "& = 234531275 (0.1^{5}(0.9)^{120})&\\\\\n",
    "& = \\approx0.0076\n",
    "\\end{align*}\n",
    "\n",
    "Assim, a probabilidade dos outros $120$ passagerios conseguirem voar é de $1 - 0.0076 = \\approx0.9924$"
   ]
  },
  {
   "cell_type": "markdown",
   "metadata": {},
   "source": [
    "- 3.2 Qual é a probabilidade de o voo partir com assentos vazios?\n",
    "\n",
    "A empresa vende $125$ bilhetes. O voo só parte com assentos vazios se nenhuma das $125$ pessoas comparacerem. Logo, queremos saber a probabilidade de $X=125$:\n",
    "\n",
    "\\begin{align*}\n",
    "P(X=125) & = \\binom{125}{125}\\times0.1^{125}\\times(0.9)^{0}&\\\\\n",
    "& = \\frac{125!}{125!0!}\\times0.1^{125}\\times1&\\\\\n",
    "& = 1\\times0.1^{125}&\\\\\n",
    "& = \\approx0.0\n",
    "\\end{align*}"
   ]
  },
  {
   "cell_type": "markdown",
   "metadata": {},
   "source": [
    "**4 Seja $X$ uma variável aleatória com distribuição uniforme discreta nos números inteiros de $0$ a $9$. Determine a média, variância e desvio padrão da variável aleatória $𝑌 = 5𝑋$ e compare com os resultados correspondentes para $𝑋$.**\n",
    "\n",
    "Para $Y$, $a=0$ e $b=45$, assim:\n",
    "\n",
    "**Média**:\n",
    "\\begin{align*}\n",
    "    \\mu_Y & = E(X) = \\frac{b+a}{2}&\\\\\n",
    "    & =  \\frac{45+0}{2} &\\\\\n",
    "    & = 22.5&\\\\\n",
    "\\end{align*}\n",
    "\n",
    "**Variância**:\n",
    "\\begin{align*}\n",
    "    \\sigma_Y^2 & = \\frac{(b-a+1)^2 - 1}{12}&\\\\\n",
    "    & =  \\frac{(46)^2 - 1}{12}&\\\\\n",
    "    & =  \\frac{2115}{12}&\\\\\n",
    "    & = 176.25&\\\\\n",
    "\\end{align*}\n",
    "\n",
    "**Desvio Padrão**:\n",
    "\\begin{align*}\n",
    "    \\sigma_Y & = \\sqrt{\\sigma^2}&\\\\\n",
    "    & =  \\sqrt{176.25}&\\\\\n",
    "    & = \\approx13.276&\\\\\n",
    "\\end{align*}"
   ]
  },
  {
   "cell_type": "markdown",
   "metadata": {},
   "source": [
    "Como $X = \\frac{Y}{5}$:\n",
    "\n",
    "**Média**:\n",
    "\n",
    "\\begin{align*}\n",
    "    \\mu_X & = \\frac{\\mu_Y}{5}&\\\\\n",
    "    & =  \\frac{22.5}{5} &\\\\\n",
    "    & = 4.5&\\\\\n",
    "\\end{align*}"
   ]
  },
  {
   "cell_type": "markdown",
   "metadata": {},
   "source": [
    "**Variância**:\n",
    "\n",
    "\\begin{align*}\n",
    "    \\sigma_X^2 & = \\frac{\\sigma_Y^2}{5}&\\\\\n",
    "    & =  \\frac{176.25}{5} &\\\\\n",
    "    & = 35.25&\\\\\n",
    "\\end{align*}"
   ]
  },
  {
   "cell_type": "markdown",
   "metadata": {},
   "source": [
    "**Desvio Padrão**:\n",
    "\n",
    "\\begin{align*}\n",
    "    \\sigma_X & = \\frac{\\sigma_Y}{5}&\\\\\n",
    "    & =  \\frac{13.276}{5} &\\\\\n",
    "    & =2.6552&\\\\\n",
    "\\end{align*}"
   ]
  },
  {
   "cell_type": "markdown",
   "metadata": {},
   "source": [
    "**5 O range de uma variável aleatória $X$ é $\\{0,1,2,3, 𝑥\\}$ sendo $x$ desconhecido. Se cada valor for igualmente provável e a média de $X$ for $6$, determine $𝑥$.**\n",
    "\n",
    "Se os valores são igualmente prováveis, a distribuição é uniforme com $a=0$ e $b=x$, logo:\n",
    "\n",
    "\\begin{align*}\n",
    "    \\mu & = \\frac{b-a}{2}&\\\\\n",
    "    6& = \\frac{b}{2}&\\\\\n",
    "    b& = 12&\\\\\n",
    "\\end{align*}"
   ]
  },
  {
   "cell_type": "markdown",
   "metadata": {},
   "source": [
    "**6 Mostre que $𝑓(𝑥)$ é uma função de probabilidade**\n",
    "\n",
    "\\begin{array}{|l|l|c|l|l|l|}\n",
    "\\hline\n",
    "x    & -2  & -1  & 0   & 1   & 2   \\\\ \\hline\n",
    "f(x) & 1/8 & 2/8 & 2/8 & 2/8 & 1/8 \\\\ \\hline\n",
    "\\end{array}"
   ]
  },
  {
   "cell_type": "markdown",
   "metadata": {},
   "source": [
    "Para que $f(x)$ seja uma função massa de probabilidade, deve satisfazer as seguintes funções, para todo $x_1, x_2, ..., x_n$:\n",
    "\n",
    "- (1) $f(x)>=0$\n",
    "- (2) $\\sum_{i=1}^n f(x_i) = 1$\n",
    "- (3) $P(X=x_i) = f(x)$\n",
    "\n",
    "Para (1): Notamos pela tabela que $f(x_i)$ é sempre maior que $0$.\n",
    "\n",
    "Para (2):\n",
    "\n",
    "$f(-2) + f(-1) + f(0) + f(1) + f(2) = \\frac{1}{8}+\\frac{2}{8}+\\frac{2}{8}+\\frac{2}{8}+\\frac{1}{8} = 1$\n",
    "\n",
    "Para (3):\n",
    "\n",
    "$P(X=-2)=\\frac{1}{8}$, $P(X=-1)=\\frac{2}{8}$, $P(X=0)=\\frac{2}{8}$, $P(X=1)=\\frac{2}{8}$, $P(X=2)=\\frac{1}{8}$\n",
    "\n",
    "Logo, $f(x)$ é uma função massa de probabilidade."
   ]
  },
  {
   "cell_type": "markdown",
   "metadata": {},
   "source": [
    "- 6.1 Obtenha $𝑃(𝑋 ≤ 2)$\n",
    "\n",
    "    \\begin{align*}\n",
    "        P(X \\le 2) & = P(X=-2) + P(X=-1) + P(X=0) + P(X=1) + P(X=2)\\\\\n",
    "        & = \\frac{1}{8} + \\frac{2}{8} + \\frac{2}{8} + \\frac{2}{8} + \\frac{1}{8}&\\\\\n",
    "        & = 1\\\\\n",
    "    \\end{align*}"
   ]
  },
  {
   "cell_type": "markdown",
   "metadata": {},
   "source": [
    "- 6.2. Obtenha $𝑃(−1 ≤ 𝑋 ≤ 1)$\n",
    "\n",
    "\n",
    "\\begin{align*}\n",
    "P(-1\\le x <2) & = P(X=-1) + P(X=0) + P(X=1)\\\\\n",
    "& = \\frac{2}{8} + \\frac{2}{8} + \\frac{2}{8}&\\\\\n",
    "& = \\frac{6}{8}&\\\\\n",
    "& = \\frac{3}{4}&\\\\\n",
    "\\end{align*}"
   ]
  },
  {
   "cell_type": "markdown",
   "metadata": {},
   "source": [
    "- 6.3. Obtenha $𝑃(𝑋 ≤ −1)$ ou $𝑃(𝑋 = 2)$\n",
    "\n",
    "\\begin{align*}\n",
    "P(X \\le -1) & = P(X=-2) + P(X=-1)\\\\\n",
    "& = \\frac{1}{8} + \\frac{2}{8}&\\\\\n",
    "& = \\frac{3}{8}\\\\\n",
    "\\end{align*}\n",
    "\n",
    "\\begin{align*}\n",
    "P(X=2) & = \\frac{1}{8}\\\\\n",
    "\\end{align*}\n",
    "\n",
    "\n",
    "**R:** $P(X \\le -1) + P(X=2) = \\frac{3}{8}+\\frac{1}{8} = \\frac{1}{2}$\n"
   ]
  },
  {
   "cell_type": "markdown",
   "metadata": {},
   "source": [
    "- 6.4. Determine a função cumulativa de probabilidade\n",
    "\n",
    "\\begin{align}\n",
    "f(x) = \\left\\{\n",
    "\\begin{array}{cl}\n",
    "  0 & x < -2 \\\\\n",
    "  \\frac{1}{8} & -2 \\le x <-1\\\\\n",
    "  \\frac{3}{8} & -1 \\le x < 0\\\\\n",
    "  \\frac{5}{8} &  0 \\le x < 1\\\\\n",
    "  \\frac{7}{8} & 1 \\le x < 2\\\\\n",
    "  1 & x \\ge 2.\n",
    "\\end{array}\n",
    "\\right.\n",
    "\\end{align}"
   ]
  },
  {
   "cell_type": "markdown",
   "metadata": {},
   "source": [
    "**7 Seja $𝑋$ uma variável aleatória discreta com distribuição binomial, sendo $𝑛 = 10$ e $0 < 𝑝 < 1$. Analise o efeito de $𝑝$ na função de probabilidade $𝑓(𝑥)$.**"
   ]
  },
  {
   "cell_type": "code",
   "execution_count": 20,
   "metadata": {},
   "outputs": [],
   "source": [
    "from scipy.stats import binom\n",
    "import matplotlib.pyplot as plt\n",
    "import seaborn as sns\n",
    "import numpy as np\n",
    "sns.set_theme()"
   ]
  },
  {
   "cell_type": "code",
   "execution_count": 54,
   "metadata": {},
   "outputs": [
    {
     "data": {
      "image/png": "[encoded data removed]",
      "text/plain": [
       "<Figure size 720x720 with 20 Axes>"
      ]
     },
     "metadata": {},
     "output_type": "display_data"
    }
   ],
   "source": [
    "X = np.arange(11)\n",
    "P = np.arange(0,1,0.05)\n",
    "fig, ax = plt.subplots(ncols=4, nrows=5, figsize=(10,10), sharey=True, sharex=True)\n",
    "ixp = 0\n",
    "for i in range(5):\n",
    "    for j in range(4):\n",
    "        fx = [binom.pmf(k=x, n=10, p=P[ixp]) for x in X]\n",
    "        ax[i][j].bar(X, fx, width=0.5)\n",
    "        ax[i][j].set_title(\"$p={:.2f}$\".format(P[ixp]))\n",
    "        ixp+=1\n",
    "_ = [ax[4][j].set_xlabel(\"$x$\") for j in range(4)]\n",
    "_ = [ax[i][0].set_ylabel(\"$f(x)$\") for i in range(5)]\n",
    "plt.tight_layout()\n",
    "plt.suptitle(\"$f(x)$ para $0 < p < 1$ em uma distribuição binomial com $n=10$\", y=1.01)\n",
    "plt.show()"
   ]
  },
  {
   "cell_type": "markdown",
   "metadata": {},
   "source": [
    "A figura mostra que a média de $f(x)$ acompanha o valor de $p$. Ou seja, a média de $f(x)$ será mais próxima de $0$ para valores menores de $p$, e será mais próxima de $10$ para valores maiores de $p$."
   ]
  },
  {
   "cell_type": "code",
   "execution_count": 1,
   "metadata": {},
   "outputs": [],
   "source": [
    "import numpy as np"
   ]
  },
  {
   "cell_type": "code",
   "execution_count": 2,
   "metadata": {},
   "outputs": [
    {
     "data": {
      "text/plain": [
       "'Jordana'"
      ]
     },
     "execution_count": 2,
     "metadata": {},
     "output_type": "execute_result"
    }
   ],
   "source": [
    "lista = ['Elaine', 'Jordana', 'Karyne', 'Lucas']\n",
    "np.random.choice(lista)"
   ]
  },
  {
   "cell_type": "code",
   "execution_count": 5,
   "metadata": {},
   "outputs": [
    {
     "data": {
      "text/plain": [
       "0.022750000000000048"
      ]
     },
     "execution_count": 5,
     "metadata": {},
     "output_type": "execute_result"
    }
   ],
   "source": [
    "1.0-0.97725"
   ]
  },
  {
   "cell_type": "code",
   "execution_count": null,
   "metadata": {},
   "outputs": [],
   "source": []
  }
 ],
 "metadata": {
  "kernelspec": {
   "display_name": "gans_trajsp3",
   "language": "python",
   "name": "gans_trajsp3"
  },
  "language_info": {
   "codemirror_mode": {
    "name": "ipython",
    "version": 3
   },
   "file_extension": ".py",
   "mimetype": "text/x-python",
   "name": "python",
   "nbconvert_exporter": "python",
   "pygments_lexer": "ipython3",
   "version": "3.7.3"
  },
  "orig_nbformat": 4
 },
 "nbformat": 4,
 "nbformat_minor": 2
}
